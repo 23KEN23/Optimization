{
 "cells": [
  {
   "cell_type": "code",
   "execution_count": 1,
   "metadata": {
    "collapsed": true
   },
   "outputs": [],
   "source": [
    "from gurobipy import *\n",
    "import numpy as np\n",
    "import pandas as pd\n",
    "import matplotlib.pyplot as plt\n",
    "from collections import defaultdict"
   ]
  },
  {
   "cell_type": "markdown",
   "metadata": {},
   "source": [
    "### Extract Data"
   ]
  },
  {
   "cell_type": "code",
   "execution_count": 2,
   "metadata": {
    "collapsed": false
   },
   "outputs": [],
   "source": [
    "#Get Settlement List\n",
    "Settlements = pd.read_csv(\"afg_ppl_settlement_pnt.csv\",sep=\",\")\n",
    "Settlements = Settlements[[0,10,11]]\n",
    "S = Settlements.shape[0]\n",
    "Settlement_List = Settlements['OBJECTID'].tolist()\n",
    "\n",
    "#Get District Court List\n",
    "Districts = pd.read_csv(\"District_Courts.csv\",sep=\",\")\n",
    "Districts = Districts[[1,4,5]]\n",
    "D = Districts.shape[0]\n",
    "District_List = Districts['DIST_CODE'].tolist()\n",
    "\n",
    "#Get Appeals Court List\n",
    "Appeals = pd.read_csv(\"Appeals_Courts.csv\",sep=\",\")\n",
    "Appeals = Appeals[[1,4,5]]\n",
    "A = Appeals.shape[0]\n",
    "Appeals_List = Appeals['PROV_CODE'].tolist()"
   ]
  },
  {
   "cell_type": "code",
   "execution_count": 3,
   "metadata": {
    "collapsed": false
   },
   "outputs": [],
   "source": [
    "#Create Dictionaries\n",
    "Settlement_Dict = Settlements.set_index('OBJECTID').T.to_dict('list')\n",
    "District_Dict = Districts.set_index('DIST_CODE').T.to_dict('list')\n",
    "Appeals_Dict = Appeals.set_index('PROV_CODE').T.to_dict('list')"
   ]
  },
  {
   "cell_type": "code",
   "execution_count": 4,
   "metadata": {
    "collapsed": false
   },
   "outputs": [
    {
     "name": "stdout",
     "output_type": "stream",
     "text": [
      "0.0\n",
      "101.0\n",
      "102.0\n",
      "103.0\n",
      "104.0\n",
      "105.0\n",
      "106.0\n",
      "107.0\n",
      "108.0\n",
      "109.0\n",
      "110.0\n",
      "111.0\n",
      "112.0\n",
      "113.0\n",
      "114.0\n",
      "115.0\n",
      "201.0\n",
      "202.0\n",
      "203.0\n",
      "204.0\n",
      "205.0\n",
      "206.0\n",
      "207.0\n",
      "301.0\n",
      "302.0\n",
      "303.0\n",
      "304.0\n",
      "305.0\n",
      "306.0\n",
      "307.0\n",
      "308.0\n",
      "309.0\n",
      "310.0\n",
      "401.0\n",
      "402.0\n",
      "403.0\n",
      "404.0\n",
      "405.0\n",
      "406.0\n",
      "407.0\n",
      "408.0\n",
      "409.0\n",
      "501.0\n",
      "502.0\n",
      "503.0\n",
      "504.0\n",
      "505.0\n",
      "506.0\n",
      "507.0\n",
      "601.0\n",
      "602.0\n",
      "603.0\n",
      "604.0\n",
      "605.0\n",
      "606.0\n",
      "607.0\n",
      "608.0\n",
      "609.0\n",
      "610.0\n",
      "611.0\n",
      "612.0\n",
      "613.0\n",
      "614.0\n",
      "615.0\n",
      "616.0\n",
      "617.0\n",
      "618.0\n",
      "619.0\n",
      "620.0\n",
      "621.0\n",
      "622.0\n",
      "701.0\n",
      "702.0\n",
      "703.0\n",
      "704.0\n",
      "705.0\n",
      "801.0\n",
      "802.0\n",
      "803.0\n",
      "804.0\n",
      "805.0\n",
      "806.0\n",
      "807.0\n",
      "901.0\n",
      "902.0\n",
      "903.0\n",
      "904.0\n",
      "905.0\n",
      "906.0\n",
      "907.0\n",
      "908.0\n",
      "909.0\n",
      "910.0\n",
      "911.0\n",
      "912.0\n",
      "913.0\n",
      "914.0\n",
      "915.0\n",
      "1001.0\n",
      "1002.0\n",
      "1003.0\n",
      "1004.0\n",
      "1005.0\n",
      "1006.0\n",
      "1007.0\n",
      "1101.0\n",
      "1102.0\n",
      "1103.0\n",
      "1104.0\n",
      "1105.0\n",
      "1106.0\n",
      "1107.0\n",
      "1108.0\n",
      "1109.0\n",
      "1110.0\n",
      "1111.0\n",
      "1112.0\n",
      "1113.0\n",
      "1114.0\n",
      "1115.0\n",
      "1116.0\n",
      "1117.0\n",
      "1118.0\n",
      "1119.0\n",
      "1201.0\n",
      "1202.0\n",
      "1203.0\n",
      "1204.0\n",
      "1205.0\n",
      "1206.0\n",
      "1207.0\n",
      "1208.0\n",
      "1209.0\n",
      "1210.0\n",
      "1211.0\n",
      "1301.0\n",
      "1302.0\n",
      "1303.0\n",
      "1304.0\n",
      "1305.0\n",
      "1306.0\n",
      "1307.0\n",
      "1308.0\n",
      "1309.0\n",
      "1310.0\n",
      "1311.0\n",
      "1312.0\n",
      "1313.0\n",
      "1314.0\n",
      "1315.0\n",
      "1401.0\n",
      "1402.0\n",
      "1403.0\n",
      "1404.0\n",
      "1405.0\n",
      "1406.0\n",
      "1407.0\n",
      "1408.0\n",
      "1501.0\n",
      "1502.0\n",
      "1503.0\n",
      "1504.0\n",
      "1505.0\n",
      "1506.0\n",
      "1507.0\n",
      "1508.0\n",
      "1509.0\n",
      "1510.0\n",
      "1511.0\n",
      "1512.0\n",
      "1513.0\n",
      "1514.0\n",
      "1515.0\n",
      "1516.0\n",
      "1517.0\n",
      "1518.0\n",
      "1519.0\n",
      "1520.0\n",
      "1521.0\n",
      "1522.0\n",
      "1523.0\n",
      "1524.0\n",
      "1525.0\n",
      "1526.0\n",
      "1527.0\n",
      "1528.0\n",
      "1601.0\n",
      "1602.0\n",
      "1603.0\n",
      "1604.0\n",
      "1605.0\n",
      "1606.0\n",
      "1607.0\n",
      "1608.0\n",
      "1609.0\n",
      "1610.0\n",
      "1611.0\n",
      "1612.0\n",
      "1613.0\n",
      "1614.0\n",
      "1615.0\n",
      "1616.0\n",
      "1617.0\n",
      "1701.0\n",
      "1702.0\n",
      "1703.0\n",
      "1704.0\n",
      "1705.0\n",
      "1706.0\n",
      "1707.0\n",
      "1801.0\n",
      "1802.0\n",
      "1803.0\n",
      "1804.0\n",
      "1805.0\n",
      "1806.0\n",
      "1807.0\n",
      "1808.0\n",
      "1809.0\n",
      "1810.0\n",
      "1812.0\n",
      "1813.0\n",
      "1814.0\n",
      "1815.0\n",
      "1816.0\n",
      "1901.0\n",
      "1902.0\n",
      "1903.0\n",
      "1904.0\n",
      "1905.0\n",
      "1906.0\n",
      "1907.0\n",
      "2001.0\n",
      "2002.0\n",
      "2003.0\n",
      "2004.0\n",
      "2005.0\n",
      "2006.0\n",
      "2007.0\n",
      "2101.0\n",
      "2102.0\n",
      "2103.0\n",
      "2104.0\n",
      "2105.0\n",
      "2106.0\n",
      "2107.0\n",
      "2108.0\n",
      "2109.0\n",
      "2110.0\n",
      "2201.0\n",
      "2202.0\n",
      "2203.0\n",
      "2204.0\n",
      "2205.0\n",
      "2206.0\n",
      "2207.0\n",
      "2208.0\n",
      "2209.0\n",
      "2301.0\n",
      "2302.0\n",
      "2303.0\n",
      "2304.0\n",
      "2305.0\n",
      "2401.0\n",
      "2402.0\n",
      "2403.0\n",
      "2404.0\n",
      "2405.0\n",
      "2406.0\n",
      "2407.0\n",
      "2408.0\n",
      "2409.0\n",
      "2410.0\n",
      "2411.0\n",
      "2501.0\n",
      "2502.0\n",
      "2503.0\n",
      "2504.0\n",
      "2505.0\n",
      "2506.0\n",
      "2507.0\n",
      "2508.0\n",
      "2509.0\n",
      "2510.0\n",
      "2511.0\n",
      "2512.0\n",
      "2513.0\n",
      "2514.0\n",
      "2515.0\n",
      "2516.0\n",
      "2517.0\n",
      "2518.0\n",
      "2519.0\n",
      "2601.0\n",
      "2602.0\n",
      "2603.0\n",
      "2604.0\n",
      "2605.0\n",
      "2606.0\n",
      "2607.0\n",
      "2608.0\n",
      "2609.0\n",
      "2610.0\n",
      "2611.0\n",
      "2612.0\n",
      "2613.0\n",
      "2701.0\n",
      "2702.0\n",
      "2703.0\n",
      "2704.0\n",
      "2705.0\n",
      "2706.0\n",
      "2707.0\n",
      "2708.0\n",
      "2709.0\n",
      "2710.0\n",
      "2711.0\n",
      "2801.0\n",
      "2802.0\n",
      "2803.0\n",
      "2804.0\n",
      "2805.0\n",
      "2806.0\n",
      "2807.0\n",
      "2808.0\n",
      "2809.0\n",
      "2810.0\n",
      "2811.0\n",
      "2812.0\n",
      "2813.0\n",
      "2814.0\n",
      "2901.0\n",
      "2902.0\n",
      "2903.0\n",
      "2904.0\n",
      "2905.0\n",
      "2906.0\n",
      "2907.0\n",
      "3001.0\n",
      "3002.0\n",
      "3003.0\n",
      "3004.0\n",
      "3005.0\n",
      "3006.0\n",
      "3007.0\n",
      "3008.0\n",
      "3009.0\n",
      "3010.0\n",
      "3011.0\n",
      "3012.0\n",
      "3013.0\n",
      "3014.0\n",
      "3015.0\n",
      "3016.0\n",
      "3101.0\n",
      "3102.0\n",
      "3103.0\n",
      "3104.0\n",
      "3105.0\n",
      "3106.0\n",
      "3107.0\n",
      "3108.0\n",
      "3109.0\n",
      "3110.0\n",
      "3111.0\n",
      "3201.0\n",
      "3202.0\n",
      "3203.0\n",
      "3204.0\n",
      "3205.0\n",
      "3206.0\n",
      "3207.0\n",
      "3208.0\n",
      "3209.0\n",
      "3210.0\n",
      "3211.0\n",
      "3212.0\n",
      "3213.0\n",
      "3301.0\n",
      "3302.0\n",
      "3303.0\n",
      "3304.0\n",
      "3305.0\n",
      "3306.0\n",
      "3307.0\n",
      "3308.0\n",
      "3309.0\n",
      "3310.0\n",
      "3311.0\n",
      "3312.0\n",
      "3313.0\n",
      "3314.0\n",
      "3315.0\n",
      "3316.0\n",
      "3401.0\n",
      "3402.0\n",
      "3403.0\n",
      "3404.0\n",
      "3405.0\n"
     ]
    }
   ],
   "source": [
    "#Create Dictionaries for District Courthouse Distances\n",
    "\n",
    "Dist_D = {}\n",
    "\n",
    "R = 6371e3\n",
    "\n",
    "\n",
    "for d in District_List:\n",
    "    print(d)\n",
    "    d_lon = District_Dict[d][0]\n",
    "    d_lat = District_Dict[d][1]\n",
    "    φ2 = np.radians(d_lat)\n",
    "\n",
    "\n",
    "    for s in Settlement_List:\n",
    "        s_lon = Settlement_Dict[s][1]\n",
    "        s_lat = Settlement_Dict[s][0]\n",
    "        φ1 = np.radians(s_lat)\n",
    "        \n",
    "        #Distance to District Court\n",
    "        Δφ = np.radians(d_lat - s_lat)\n",
    "        Δλ = np.radians(d_lon - s_lon)\n",
    "        a = np.sin(Δφ/2) * np.sin(Δφ/2) + np.cos(φ1) * np.cos(φ2) * np.sin(Δλ/2) * np.sin(Δλ/2)\n",
    "        c = 2 * np.arctan2(np.sqrt(a), np.sqrt(1-a))\n",
    "        \n",
    "        Dist_D[s,d] = (R * c)/1000\n",
    "        \n",
    "    "
   ]
  },
  {
   "cell_type": "code",
   "execution_count": 5,
   "metadata": {
    "collapsed": false
   },
   "outputs": [
    {
     "name": "stdout",
     "output_type": "stream",
     "text": [
      "0.0\n",
      "1.0\n",
      "2.0\n",
      "3.0\n",
      "4.0\n",
      "5.0\n",
      "6.0\n",
      "7.0\n",
      "8.0\n",
      "9.0\n",
      "10.0\n",
      "11.0\n",
      "12.0\n",
      "13.0\n",
      "14.0\n",
      "15.0\n",
      "16.0\n",
      "17.0\n",
      "18.0\n",
      "19.0\n",
      "20.0\n",
      "21.0\n",
      "22.0\n",
      "23.0\n",
      "24.0\n",
      "25.0\n",
      "26.0\n",
      "27.0\n",
      "28.0\n",
      "29.0\n",
      "30.0\n",
      "31.0\n",
      "32.0\n",
      "33.0\n",
      "34.0\n"
     ]
    }
   ],
   "source": [
    "#Create Dictionaries for Appeals Courthouse Distances\n",
    "\n",
    "Dist_A = {}\n",
    "\n",
    "R = 6371e3\n",
    "\n",
    "for a in Appeals_List:\n",
    "    print(a)\n",
    "    a_lon = Appeals_Dict[a][0]\n",
    "    a_lat = Appeals_Dict[a][1]\n",
    "    φ3 = np.radians(a_lat)\n",
    "\n",
    "    for s in Settlement_List:\n",
    "        s_lon = Settlement_Dict[s][1]\n",
    "        s_lat = Settlement_Dict[s][0]\n",
    "        φ1 = np.radians(s_lat)\n",
    "        \n",
    "        #Distance to District Court\n",
    "        Δφ = np.radians(a_lat - s_lat)\n",
    "        Δλ = np.radians(a_lon - s_lon)\n",
    "        a1 = np.sin(Δφ/2) * np.sin(Δφ/2) + np.cos(φ1) * np.cos(φ3) * np.sin(Δλ/2) * np.sin(Δλ/2)\n",
    "        c = 2 * np.arctan2(np.sqrt(a1), np.sqrt(1-a1))\n",
    "        \n",
    "        Dist_A[s,a] = (R * c)/1000\n",
    "        \n",
    "    "
   ]
  },
  {
   "cell_type": "code",
   "execution_count": 6,
   "metadata": {
    "collapsed": false
   },
   "outputs": [],
   "source": [
    "#Calculate Min, Mean Distance to District Court \n",
    "\n",
    "min_d = min(Dist_D[d] for d in Dist_D)\n",
    "avg_d = sum(Dist_D[d] for d in Dist_D) / len(Dist_D)"
   ]
  },
  {
   "cell_type": "code",
   "execution_count": 7,
   "metadata": {
    "collapsed": true
   },
   "outputs": [],
   "source": [
    "#Calculate Min, Mean Distance to Appeals Court\n",
    "min_a =  min(Dist_A[a] for a in Dist_A)\n",
    "avg_a = sum(Dist_A[a] for a in Dist_A) / len(Dist_A)"
   ]
  },
  {
   "cell_type": "markdown",
   "metadata": {},
   "source": [
    "### Set Parameters"
   ]
  },
  {
   "cell_type": "code",
   "execution_count": 8,
   "metadata": {
    "collapsed": true
   },
   "outputs": [],
   "source": [
    "M = 10000\n",
    "maxOpenD = 1000\n",
    "maxOpenA = 100\n",
    "maxDistance = 10000\n",
    "\n",
    "#maxPopD- max capacity of each district court\n",
    "#maxPopA - max capacity of each appeals court\n",
    "\n",
    "#xS,yS \n",
    "#xD,yD\n",
    "#xA,yA\n",
    "\n",
    "#langS\n",
    "#langD\n",
    "#langA\n",
    "\n",
    "\n",
    "#param d{i in Settlements,j in DistrictCourts} \n",
    "#\t:= sqrt( (xS[i]-xD[j])^2 + (yS[i]-yD[j])^2); #distance between settlement and district court\n",
    "#param a{i in Settlements,k in AppealsCourts} \n",
    "#\t:= sqrt( (xA[k]-xS[i])^2 + (yA[k]-yS[i])^2); #distance between district court and appeals court\t"
   ]
  },
  {
   "cell_type": "markdown",
   "metadata": {},
   "source": [
    "### Create Model"
   ]
  },
  {
   "cell_type": "code",
   "execution_count": 9,
   "metadata": {
    "collapsed": false
   },
   "outputs": [],
   "source": [
    "#Create Model\n",
    "m = Model(\"Afghanistan\")"
   ]
  },
  {
   "cell_type": "markdown",
   "metadata": {},
   "source": [
    "### Create Variables"
   ]
  },
  {
   "cell_type": "markdown",
   "metadata": {},
   "source": [
    "##### d_ij"
   ]
  },
  {
   "cell_type": "code",
   "execution_count": 10,
   "metadata": {
    "collapsed": true
   },
   "outputs": [],
   "source": [
    "# Create d_i_j variables\n",
    "d = {}\n",
    "for i in Settlement_List:\n",
    "    d[i] = {}\n",
    "    for j in District_List:\n",
    "        if Dist_D[i,j] < 150:\n",
    "            d[i][j] = m.addVar(vtype=GRB.BINARY, name='d_%s_%s' % (i, j))\n",
    "m.update()"
   ]
  },
  {
   "cell_type": "code",
   "execution_count": 11,
   "metadata": {
    "collapsed": true
   },
   "outputs": [],
   "source": [
    "# Create d_i_j transpose dictionary \n",
    "d_t = defaultdict(dict)\n",
    "for key, val in d.items():\n",
    "    for subkey, subval in val.items():\n",
    "        d_t[subkey][key] = subval"
   ]
  },
  {
   "cell_type": "markdown",
   "metadata": {},
   "source": [
    "##### a_ik"
   ]
  },
  {
   "cell_type": "code",
   "execution_count": 12,
   "metadata": {
    "collapsed": false
   },
   "outputs": [],
   "source": [
    " # Create a_i_k variables\n",
    "a = {}\n",
    "for i in Settlement_List:\n",
    "    a[i] = {}\n",
    "    for k in Appeals_List:\n",
    "        if Dist_A[i,k] < 350:\n",
    "            a[i][k] = m.addVar(vtype=GRB.BINARY, name='a_%s_%s' % (i, k))\n",
    "m.update()"
   ]
  },
  {
   "cell_type": "code",
   "execution_count": 13,
   "metadata": {
    "collapsed": true
   },
   "outputs": [],
   "source": [
    "# Create a_i_k transpose dictionary \n",
    "a_t = defaultdict(dict)\n",
    "for key, val in a.items():\n",
    "    for subkey, subval in val.items():\n",
    "        a_t[subkey][key] = subval"
   ]
  },
  {
   "cell_type": "markdown",
   "metadata": {},
   "source": [
    "##### c_jk"
   ]
  },
  {
   "cell_type": "code",
   "execution_count": 14,
   "metadata": {
    "collapsed": true
   },
   "outputs": [],
   "source": [
    "# Create c_j_k variables\n",
    "c = {}\n",
    "for j in District_List:\n",
    "    c[j] = {}\n",
    "    for k in Appeals_List:\n",
    "        c[j][k] = m.addVar(vtype=GRB.BINARY, name='c_%s_%s' % (j, k))\n",
    "m.update()"
   ]
  },
  {
   "cell_type": "code",
   "execution_count": 15,
   "metadata": {
    "collapsed": true
   },
   "outputs": [],
   "source": [
    "# Create c_j_k transpose dictionary \n",
    "c_t = defaultdict(dict)\n",
    "for key, val in c.items():\n",
    "    for subkey, subval in val.items():\n",
    "        c_t[subkey][key] = subval"
   ]
  },
  {
   "cell_type": "markdown",
   "metadata": {},
   "source": [
    "##### openD"
   ]
  },
  {
   "cell_type": "code",
   "execution_count": 16,
   "metadata": {
    "collapsed": false
   },
   "outputs": [],
   "source": [
    "#Create openD variables\n",
    "openD = {}\n",
    "for j in District_List:\n",
    "    openD[j] = m.addVar(vtype=GRB.BINARY, name='openD_%s' % (j))\n",
    "m.update()"
   ]
  },
  {
   "cell_type": "markdown",
   "metadata": {},
   "source": [
    "##### openA"
   ]
  },
  {
   "cell_type": "code",
   "execution_count": 17,
   "metadata": {
    "collapsed": true
   },
   "outputs": [],
   "source": [
    "#Create openA variables\n",
    "openA = {}\n",
    "for k in Appeals_List:\n",
    "    openA[k] = m.addVar(vtype=GRB.BINARY, name='openA_%s' % (k))\n",
    "m.update()"
   ]
  },
  {
   "cell_type": "markdown",
   "metadata": {},
   "source": [
    "### Create Constraints"
   ]
  },
  {
   "cell_type": "markdown",
   "metadata": {},
   "source": [
    "##### One Courhouse Assignment Constraints"
   ]
  },
  {
   "cell_type": "code",
   "execution_count": 18,
   "metadata": {
    "collapsed": false
   },
   "outputs": [],
   "source": [
    "#One S -> D Assignment\n",
    "for i in Settlement_List:\n",
    "    m.addConstr(quicksum(d[i][j] for j in d[i]) == 1)\n",
    "m.update()"
   ]
  },
  {
   "cell_type": "code",
   "execution_count": 19,
   "metadata": {
    "collapsed": true
   },
   "outputs": [],
   "source": [
    "#One S -> A Assignment\n",
    "for i in Settlement_List:\n",
    "    m.addConstr(quicksum(a[i][k] for k in a[i]) == 1)\n",
    "m.update()"
   ]
  },
  {
   "cell_type": "code",
   "execution_count": 20,
   "metadata": {
    "collapsed": false
   },
   "outputs": [],
   "source": [
    "#One D -> A Assignment\n",
    "for j in District_List:\n",
    "    m.addConstr(quicksum(c[j][k] for k in c[j]) <= 1)\n",
    "m.update()"
   ]
  },
  {
   "cell_type": "code",
   "execution_count": 21,
   "metadata": {
    "collapsed": false
   },
   "outputs": [],
   "source": [
    "# <gurobi.Model MIP instance Afghanistan: 90433 constrs, 6239918 vars, Parameter changes: LogFile=gurobi.log>"
   ]
  },
  {
   "cell_type": "markdown",
   "metadata": {},
   "source": [
    "##### Max Open Courthouse Constraints"
   ]
  },
  {
   "cell_type": "code",
   "execution_count": 22,
   "metadata": {
    "collapsed": false
   },
   "outputs": [],
   "source": [
    "#Maximum District Courts Open\n",
    "for j in District_List:\n",
    "    m.addConstr(quicksum(d_t[j][i] for i in d_t[j]) <= M * openD[j])\n",
    "    \n",
    "m.addConstr(quicksum(openD[j] for j in District_List) <= maxOpenD)\n",
    "\n",
    "m.update()"
   ]
  },
  {
   "cell_type": "code",
   "execution_count": 23,
   "metadata": {
    "collapsed": false
   },
   "outputs": [],
   "source": [
    "#Maximum Appeals Courts Open\n",
    "for k in Appeals_List:\n",
    "    m.addConstr(quicksum(a_t[k][i] for i in a_t[k]) <= M * openA[k])\n",
    "    \n",
    "m.addConstr(quicksum(openA[k] for k in Appeals_List) <= maxOpenA)\n",
    "\n",
    "m.update()"
   ]
  },
  {
   "cell_type": "code",
   "execution_count": 24,
   "metadata": {
    "collapsed": false
   },
   "outputs": [
    {
     "data": {
      "text/plain": [
       "<gurobi.Model MIP instance Afghanistan: 90869 constrs, 3186780 vars, Parameter changes: LogFile=gurobi.log>"
      ]
     },
     "execution_count": 24,
     "metadata": {},
     "output_type": "execute_result"
    }
   ],
   "source": [
    "m"
   ]
  },
  {
   "cell_type": "code",
   "execution_count": null,
   "metadata": {
    "collapsed": true
   },
   "outputs": [],
   "source": [
    "# <gurobi.Model MIP instance Afghanistan: 90869 constrs, 3,186,780 vars, Parameter changes: LogFile=gurobi.log>"
   ]
  },
  {
   "cell_type": "markdown",
   "metadata": {},
   "source": [
    "##### Linking Constraint"
   ]
  },
  {
   "cell_type": "markdown",
   "metadata": {},
   "source": [
    "### Set Objective Function"
   ]
  },
  {
   "cell_type": "code",
   "execution_count": null,
   "metadata": {
    "collapsed": true
   },
   "outputs": [],
   "source": [
    " model.setObjective(\n",
    "        quicksum(\n",
    "            quicksum(\n",
    "                Dist_D[i,j]*d[i,j] \n",
    "                for j in District_List) \n",
    "            for i in Settlement_List) + \\\n",
    "        quicksum(\n",
    "            quicksum(\n",
    "                Dist_A[i,k]*a[i,k] \n",
    "                for a in Appeals_List) \n",
    "            for i in Settlement_List), GRB.MINIMIZE)"
   ]
  },
  {
   "cell_type": "code",
   "execution_count": null,
   "metadata": {
    "collapsed": true
   },
   "outputs": [],
   "source": [
    "\n",
    "\n",
    "quicksum(\n",
    "    quicksum(\n",
    "        Dist_D[i,j]*d[i,j] \n",
    "        for j in District_List) \n",
    "    for i in Settlement_List) + \\\n",
    "quicksum(\n",
    "    quicksum(\n",
    "        Dist_A[i,k]*a[i,k] \n",
    "        for a in Appeals_List) \n",
    "    for i in Settlement_List)"
   ]
  },
  {
   "cell_type": "code",
   "execution_count": null,
   "metadata": {
    "collapsed": true
   },
   "outputs": [],
   "source": []
  },
  {
   "cell_type": "code",
   "execution_count": null,
   "metadata": {
    "collapsed": true
   },
   "outputs": [],
   "source": []
  },
  {
   "cell_type": "markdown",
   "metadata": {
    "collapsed": true
   },
   "source": [
    "### Optimize"
   ]
  },
  {
   "cell_type": "code",
   "execution_count": null,
   "metadata": {
    "collapsed": true
   },
   "outputs": [],
   "source": []
  },
  {
   "cell_type": "code",
   "execution_count": null,
   "metadata": {
    "collapsed": true
   },
   "outputs": [],
   "source": [
    "#NOTES - Look at poolsearch example, portfolio\n",
    "#Make arrays of settlements, districts, courthouses\n",
    "#d_ij = model.addVars(Settlements, Districts, vtype=GRB.BINARY, name='d_ij')\n",
    "#\n",
    "#"
   ]
  },
  {
   "cell_type": "code",
   "execution_count": null,
   "metadata": {
    "collapsed": true
   },
   "outputs": [],
   "source": [
    "S = 4\n",
    "D = 2"
   ]
  },
  {
   "cell_type": "code",
   "execution_count": null,
   "metadata": {
    "collapsed": false
   },
   "outputs": [],
   "source": [
    "#Create d_ij\n",
    "d_ij = [[0 for x in range(D)] for y in range(S)] \n",
    "for i in range(S):\n",
    "    for j in range(D):\n",
    "        d_ij[i][j] = m.addVar(vtype=GRB.BINARY, name=\"d_%s%s\"%(i,j))"
   ]
  },
  {
   "cell_type": "code",
   "execution_count": null,
   "metadata": {
    "collapsed": false
   },
   "outputs": [],
   "source": [
    "#Create a_ik\n",
    "Matrix[1][1] = 5"
   ]
  },
  {
   "cell_type": "code",
   "execution_count": null,
   "metadata": {
    "collapsed": true
   },
   "outputs": [],
   "source": [
    "#Create c_jk"
   ]
  },
  {
   "cell_type": "code",
   "execution_count": null,
   "metadata": {
    "collapsed": false
   },
   "outputs": [],
   "source": [
    "var = 3\n",
    "print(\"I love %s\"%var)"
   ]
  },
  {
   "cell_type": "code",
   "execution_count": null,
   "metadata": {
    "collapsed": false
   },
   "outputs": [],
   "source": [
    "d_ij"
   ]
  },
  {
   "cell_type": "code",
   "execution_count": null,
   "metadata": {
    "collapsed": true
   },
   "outputs": [],
   "source": []
  },
  {
   "cell_type": "code",
   "execution_count": null,
   "metadata": {
    "collapsed": true
   },
   "outputs": [],
   "source": []
  },
  {
   "cell_type": "code",
   "execution_count": null,
   "metadata": {
    "collapsed": true
   },
   "outputs": [],
   "source": []
  }
 ],
 "metadata": {
  "anaconda-cloud": {},
  "kernelspec": {
   "display_name": "Python [default]",
   "language": "python",
   "name": "python3"
  },
  "language_info": {
   "codemirror_mode": {
    "name": "ipython",
    "version": 3
   },
   "file_extension": ".py",
   "mimetype": "text/x-python",
   "name": "python",
   "nbconvert_exporter": "python",
   "pygments_lexer": "ipython3",
   "version": "3.5.2"
  }
 },
 "nbformat": 4,
 "nbformat_minor": 1
}
