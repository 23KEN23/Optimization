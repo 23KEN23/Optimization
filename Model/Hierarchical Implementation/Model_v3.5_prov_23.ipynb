{
 "cells": [
  {
   "cell_type": "code",
   "execution_count": 1,
   "metadata": {
    "collapsed": true,
    "deletable": true,
    "editable": true
   },
   "outputs": [],
   "source": [
    "from gurobipy import *\n",
    "import time\n",
    "import numpy as np\n",
    "import pandas as pd\n",
    "import matplotlib.pyplot as plt\n",
    "import matplotlib.cm as cm\n",
    "import shapefile as shp\n",
    "from collections import defaultdict"
   ]
  },
  {
   "cell_type": "markdown",
   "metadata": {
    "deletable": true,
    "editable": true
   },
   "source": [
    "### Set Parameters"
   ]
  },
  {
   "cell_type": "code",
   "execution_count": 2,
   "metadata": {
    "collapsed": true,
    "deletable": true,
    "editable": true
   },
   "outputs": [],
   "source": [
    "M = 100000\n",
    "maxOpenD = 6\n",
    "maxOpenA = 2\n",
    "\n",
    "maxDist_D = 150\n",
    "maxDist_A = 350\n",
    "\n",
    "#maxPopD- max capacity of each district court\n",
    "#maxPopA - max capacity of each appeals court\n",
    "\n",
    "#xS,yS \n",
    "#xD,yD\n",
    "#xA,yA\n",
    "\n",
    "#langS\n",
    "#langD\n",
    "#langA\n",
    "\n",
    "\n",
    "#param d{i in Settlements,j in DistrictCourts} \n",
    "#\t:= sqrt( (xS[i]-xD[j])^2 + (yS[i]-yD[j])^2); #distance between settlement and district court\n",
    "#param a{i in Settlements,k in AppealsCourts} \n",
    "#\t:= sqrt( (xA[k]-xS[i])^2 + (yA[k]-yS[i])^2); #distance between district court and appeals court\t"
   ]
  },
  {
   "cell_type": "markdown",
   "metadata": {
    "deletable": true,
    "editable": true
   },
   "source": [
    "### Extract Data"
   ]
  },
  {
   "cell_type": "code",
   "execution_count": 3,
   "metadata": {
    "collapsed": false,
    "deletable": true,
    "editable": true,
    "scrolled": true
   },
   "outputs": [],
   "source": [
    "#Get Settlement List\n",
    "Sfile = \"prov_code_22_23\" #change to use different settlement files (updates console and solution log files)\n",
    "Settlements=pd.read_csv(\"%s.csv\"%Sfile,sep=\",\")\n",
    "\n",
    "Settlements = Settlements[[\"OBJECTID\",\"LAT_Y\",\"LON_X\"]]\n",
    "#Settlements=Settlements[[0,10,11]]\n",
    "S = Settlements.shape[0]\n",
    "Settlement_List = Settlements['OBJECTID'].tolist()\n",
    "\n",
    "#Get District Court List\n",
    "Districts = pd.read_csv(\"District_Courts.csv\",sep=\",\")\n",
    "Districts = Districts[[1,4,5]]\n",
    "D = Districts.shape[0]\n",
    "District_List = Districts['DIST_CODE'].tolist()\n",
    "\n",
    "#Get Appeals Court List\n",
    "Appeals = pd.read_csv(\"Appeals_Courts.csv\",sep=\",\")\n",
    "Appeals = Appeals[[1,4,5]]\n",
    "A = Appeals.shape[0]\n",
    "Appeals_List = Appeals['PROV_CODE'].tolist()"
   ]
  },
  {
   "cell_type": "markdown",
   "metadata": {
    "deletable": true,
    "editable": true
   },
   "source": [
    "#### Create Data Subset for Settlements"
   ]
  },
  {
   "cell_type": "markdown",
   "metadata": {
    "deletable": true,
    "editable": true
   },
   "source": [
    "#### ------------------------------------------------"
   ]
  },
  {
   "cell_type": "code",
   "execution_count": 4,
   "metadata": {
    "collapsed": false,
    "deletable": true,
    "editable": true
   },
   "outputs": [],
   "source": [
    "#Settlements = Settlements.sample(frac = 0.02, replace = False, random_state = 23)\n",
    "S = Settlements.shape[0]\n",
    "Settlement_List = Settlements['OBJECTID'].tolist()"
   ]
  },
  {
   "cell_type": "markdown",
   "metadata": {
    "deletable": true,
    "editable": true
   },
   "source": [
    "####  ------------------------------------------------"
   ]
  },
  {
   "cell_type": "code",
   "execution_count": 5,
   "metadata": {
    "collapsed": false,
    "deletable": true,
    "editable": true
   },
   "outputs": [],
   "source": [
    "#Create Dictionaries\n",
    "Settlement_Dict = Settlements.set_index('OBJECTID').T.to_dict('list')\n",
    "District_Dict = Districts.set_index('DIST_CODE').T.to_dict('list')\n",
    "Appeals_Dict = Appeals.set_index('PROV_CODE').T.to_dict('list')"
   ]
  },
  {
   "cell_type": "code",
   "execution_count": 6,
   "metadata": {
    "collapsed": false,
    "deletable": true,
    "editable": true
   },
   "outputs": [],
   "source": [
    "#Create Dictionaries for District Courthouse Distances\n",
    "\n",
    "Dist_D = {}\n",
    "\n",
    "R = 6371e3\n",
    "\n",
    "\n",
    "for d in District_List:\n",
    "    d_lon = District_Dict[d][0]\n",
    "    d_lat = District_Dict[d][1]\n",
    "    phi2 = np.radians(d_lat)\n",
    "\n",
    "\n",
    "    for s in Settlement_List:\n",
    "        s_lon = Settlement_Dict[s][1]\n",
    "        s_lat = Settlement_Dict[s][0]\n",
    "        phi1 = np.radians(s_lat)\n",
    "        \n",
    "        #Distance to District Court\n",
    "        delta_phi = np.radians(d_lat - s_lat)\n",
    "        delta_lambda = np.radians(d_lon - s_lon)\n",
    "        a = np.sin(delta_phi/2) * np.sin(delta_phi/2) + np.cos(phi1) * np.cos(phi2) * np.sin(delta_lambda/2) * np.sin(delta_lambda/2)\n",
    "        c = 2 * np.arctan2(np.sqrt(a), np.sqrt(1-a))\n",
    "        \n",
    "        Dist_D[s,d] = (R * c)/1000\n",
    "    "
   ]
  },
  {
   "cell_type": "code",
   "execution_count": 7,
   "metadata": {
    "collapsed": false,
    "deletable": true,
    "editable": true
   },
   "outputs": [],
   "source": [
    "#Create Dictionaries for Appeals Courthouse Distances\n",
    "\n",
    "Dist_A = {}\n",
    "\n",
    "R = 6371e3\n",
    "\n",
    "for a in Appeals_List:\n",
    "    a_lon = Appeals_Dict[a][0]\n",
    "    a_lat = Appeals_Dict[a][1]\n",
    "    theta_3 = np.radians(a_lat)\n",
    "\n",
    "    for s in Settlement_List:\n",
    "        s_lon = Settlement_Dict[s][1]\n",
    "        s_lat = Settlement_Dict[s][0]\n",
    "        theta_1 = np.radians(s_lat)\n",
    "        \n",
    "        #Distance to District Court\n",
    "        delta_theta_ = np.radians(a_lat - s_lat)\n",
    "        delta_lambda = np.radians(a_lon - s_lon)\n",
    "        a1 = np.sin(delta_theta_/2) * np.sin(delta_theta_/2) + np.cos(theta_1) * np.cos(theta_3) * np.sin(delta_lambda/2) * np.sin(delta_lambda/2)\n",
    "        c = 2 * np.arctan2(np.sqrt(a1), np.sqrt(1-a1))\n",
    "        \n",
    "        Dist_A[s,a] = (R * c)/1000\n",
    "        \n",
    "    "
   ]
  },
  {
   "cell_type": "markdown",
   "metadata": {
    "deletable": true,
    "editable": true
   },
   "source": [
    "### Create Model"
   ]
  },
  {
   "cell_type": "code",
   "execution_count": 8,
   "metadata": {
    "collapsed": false,
    "deletable": true,
    "editable": true
   },
   "outputs": [
    {
     "name": "stdout",
     "output_type": "stream",
     "text": [
      "Parameter OutputFlag unchanged\n",
      "   Value: 1  Min: 0  Max: 1  Default: 1\n",
      "Changed value of parameter LogFile to log_prov_code_24_25_26.log\n",
      "   Prev: gurobi.log  Default: \n",
      "Changed value of parameter LazyConstraints to 1\n",
      "   Prev: 0  Min: 0  Max: 1  Default: 0\n"
     ]
    }
   ],
   "source": [
    "#Create Model\n",
    "m = Model(\"Afghanistan\")\n",
    "\n",
    "#Suppress output\n",
    "m.Params.OutputFlag = 1\n",
    "m.Params.LogFile=\"log_%s.log\"%Sfile\n",
    "m.params.LazyConstraints = 1"
   ]
  },
  {
   "cell_type": "markdown",
   "metadata": {
    "deletable": true,
    "editable": true
   },
   "source": [
    "### Create Variables"
   ]
  },
  {
   "cell_type": "markdown",
   "metadata": {
    "deletable": true,
    "editable": true
   },
   "source": [
    "##### Helper function"
   ]
  },
  {
   "cell_type": "code",
   "execution_count": 9,
   "metadata": {
    "collapsed": false,
    "deletable": true,
    "editable": true
   },
   "outputs": [],
   "source": [
    "# Return value of variable\n",
    "def VarVal(var):\n",
    "    if (type(var) == gurobipy.Var):\n",
    "        val = var.X\n",
    "\n",
    "    else:\n",
    "        val = 0\n",
    "    return val"
   ]
  },
  {
   "cell_type": "markdown",
   "metadata": {
    "deletable": true,
    "editable": true
   },
   "source": [
    "##### d_ij"
   ]
  },
  {
   "cell_type": "code",
   "execution_count": 10,
   "metadata": {
    "collapsed": false,
    "deletable": true,
    "editable": true
   },
   "outputs": [],
   "source": [
    "# Create d_i_j variables\n",
    "d = {}\n",
    "for i in Settlement_List:\n",
    "    d[i] = {}\n",
    "    for j in District_List:\n",
    "        if Dist_D[i,j] < maxDist_D:\n",
    "            d[i][j] = m.addVar(vtype=GRB.BINARY, name='d_%s_%s' % (i, j))\n",
    "            d[i][j].start=10000\n",
    "        else:\n",
    "            d[i][j] = 0\n",
    "m.update()"
   ]
  },
  {
   "cell_type": "code",
   "execution_count": 11,
   "metadata": {
    "collapsed": true,
    "deletable": true,
    "editable": true
   },
   "outputs": [],
   "source": [
    "# Create d_i_j transpose dictionary \n",
    "d_t = defaultdict(dict)\n",
    "for key, val in d.items():\n",
    "    for subkey, subval in val.items():\n",
    "        d_t[subkey][key] = subval"
   ]
  },
  {
   "cell_type": "markdown",
   "metadata": {
    "deletable": true,
    "editable": true
   },
   "source": [
    "##### a_ik"
   ]
  },
  {
   "cell_type": "code",
   "execution_count": 12,
   "metadata": {
    "collapsed": false,
    "deletable": true,
    "editable": true
   },
   "outputs": [],
   "source": [
    " # Create a_i_k variables\n",
    "a = {}\n",
    "for i in Settlement_List:\n",
    "    a[i] = {}\n",
    "    for k in Appeals_List:\n",
    "        if Dist_A[i,k] < maxDist_A:\n",
    "            a[i][k] = m.addVar(vtype=GRB.BINARY, name='a_%s_%s' % (i, k))\n",
    "            a[i][k].start=0\n",
    "        else:\n",
    "            a[i][k] = 0\n",
    "m.update()"
   ]
  },
  {
   "cell_type": "code",
   "execution_count": 13,
   "metadata": {
    "collapsed": true,
    "deletable": true,
    "editable": true
   },
   "outputs": [],
   "source": [
    "# Create a_i_k transpose dictionary \n",
    "a_t = defaultdict(dict)\n",
    "for key, val in a.items():\n",
    "    for subkey, subval in val.items():\n",
    "        a_t[subkey][key] = subval"
   ]
  },
  {
   "cell_type": "markdown",
   "metadata": {
    "deletable": true,
    "editable": true
   },
   "source": [
    "##### c_jk"
   ]
  },
  {
   "cell_type": "code",
   "execution_count": 14,
   "metadata": {
    "collapsed": false,
    "deletable": true,
    "editable": true
   },
   "outputs": [],
   "source": [
    "# Create c_j_k variables\n",
    "c = {}\n",
    "for j in District_List:\n",
    "    c[j] = {}\n",
    "    for k in Appeals_List:\n",
    "        c[j][k] = m.addVar(vtype=GRB.BINARY, name='c_%s_%s' % (j, k))\n",
    "        c[j][k].start=0\n",
    "m.update()"
   ]
  },
  {
   "cell_type": "code",
   "execution_count": 15,
   "metadata": {
    "collapsed": true,
    "deletable": true,
    "editable": true
   },
   "outputs": [],
   "source": [
    "# Create c_j_k transpose dictionary \n",
    "c_t = defaultdict(dict)\n",
    "for key, val in c.items():\n",
    "    for subkey, subval in val.items():\n",
    "        c_t[subkey][key] = subval"
   ]
  },
  {
   "cell_type": "markdown",
   "metadata": {
    "deletable": true,
    "editable": true
   },
   "source": [
    "##### openD"
   ]
  },
  {
   "cell_type": "code",
   "execution_count": 16,
   "metadata": {
    "collapsed": false,
    "deletable": true,
    "editable": true
   },
   "outputs": [],
   "source": [
    "#Create openD variables\n",
    "openD = {}\n",
    "for j in District_List:\n",
    "    openD[j] = m.addVar(vtype=GRB.BINARY, name='openD_%s' % (j))\n",
    "    openD[j].start = 0\n",
    "m.update()"
   ]
  },
  {
   "cell_type": "markdown",
   "metadata": {
    "deletable": true,
    "editable": true
   },
   "source": [
    "##### openA"
   ]
  },
  {
   "cell_type": "code",
   "execution_count": 17,
   "metadata": {
    "collapsed": true,
    "deletable": true,
    "editable": true
   },
   "outputs": [],
   "source": [
    "#Create openA variables\n",
    "openA = {}\n",
    "for k in Appeals_List:\n",
    "    openA[k] = m.addVar(vtype=GRB.BINARY, name='openA_%s' % (k))\n",
    "    openA[k].start=0\n",
    "m.update()"
   ]
  },
  {
   "cell_type": "markdown",
   "metadata": {
    "deletable": true,
    "editable": true
   },
   "source": [
    "### Create Constraints"
   ]
  },
  {
   "cell_type": "markdown",
   "metadata": {
    "deletable": true,
    "editable": true
   },
   "source": [
    "##### D_ij row sums and column sums"
   ]
  },
  {
   "cell_type": "code",
   "execution_count": 18,
   "metadata": {
    "collapsed": true,
    "deletable": true,
    "editable": true
   },
   "outputs": [],
   "source": [
    "#One S -> D Assignment\n",
    "for i in Settlement_List:\n",
    "    m.addConstr(quicksum(d[i][j] for j in d[i]) == 1)\n",
    "m.update()"
   ]
  },
  {
   "cell_type": "code",
   "execution_count": 19,
   "metadata": {
    "collapsed": true,
    "deletable": true,
    "editable": true
   },
   "outputs": [],
   "source": [
    "#Maximum District Courts Open\n",
    "for j in District_List:\n",
    "    m.addConstr(quicksum(d_t[j][i] for i in d_t[j]) <= M * openD[j])\n",
    "m.update()"
   ]
  },
  {
   "cell_type": "markdown",
   "metadata": {
    "deletable": true,
    "editable": true
   },
   "source": [
    "##### A_ik row sums and column sums"
   ]
  },
  {
   "cell_type": "code",
   "execution_count": 20,
   "metadata": {
    "collapsed": true,
    "deletable": true,
    "editable": true
   },
   "outputs": [],
   "source": [
    "#One S -> A Assignment\n",
    "for i in Settlement_List:\n",
    "    m.addConstr(quicksum(a[i][k] for k in a[i]) == 1)\n",
    "m.update()"
   ]
  },
  {
   "cell_type": "code",
   "execution_count": 21,
   "metadata": {
    "collapsed": true,
    "deletable": true,
    "editable": true
   },
   "outputs": [],
   "source": [
    "#Maximum Appeals Courts Open\n",
    "for k in Appeals_List:\n",
    "    m.addConstr(quicksum(a_t[k][i] for i in a_t[k]) <= M * openA[k])\n",
    "m.update()"
   ]
  },
  {
   "cell_type": "markdown",
   "metadata": {
    "deletable": true,
    "editable": true
   },
   "source": [
    "#### C_jk row sums and column sums"
   ]
  },
  {
   "cell_type": "code",
   "execution_count": 22,
   "metadata": {
    "collapsed": false,
    "deletable": true,
    "editable": true
   },
   "outputs": [],
   "source": [
    "#One D -> A Assignment\n",
    "for j in District_List:\n",
    "    m.addConstr(quicksum(c[j][k] for k in c[j]) == openD[j])\n",
    "m.update()"
   ]
  },
  {
   "cell_type": "code",
   "execution_count": 23,
   "metadata": {
    "collapsed": false,
    "deletable": true,
    "editable": true
   },
   "outputs": [],
   "source": [
    "#C constraints\n",
    "for k in Appeals_List:\n",
    "    m.addConstr(quicksum(c[j][k] for j in District_List) <= M*openA[k])\n",
    "m.update()"
   ]
  },
  {
   "cell_type": "markdown",
   "metadata": {
    "deletable": true,
    "editable": true
   },
   "source": [
    "##### Max Open Courthouse Constraints"
   ]
  },
  {
   "cell_type": "code",
   "execution_count": 24,
   "metadata": {
    "collapsed": false,
    "deletable": true,
    "editable": true
   },
   "outputs": [],
   "source": [
    "m.addConstr(quicksum(openD[j] for j in District_List) <= maxOpenD)\n",
    "\n",
    "m.update()"
   ]
  },
  {
   "cell_type": "code",
   "execution_count": 25,
   "metadata": {
    "collapsed": false,
    "deletable": true,
    "editable": true
   },
   "outputs": [],
   "source": [
    "m.addConstr(quicksum(openA[k] for k in Appeals_List) <= maxOpenA)\n",
    "\n",
    "m.update()"
   ]
  },
  {
   "cell_type": "code",
   "execution_count": 26,
   "metadata": {
    "collapsed": false,
    "deletable": true,
    "editable": true
   },
   "outputs": [
    {
     "data": {
      "text/plain": [
       "<gurobi.Model MIP instance Afghanistan: 9210 constrs, 318983 vars, Parameter changes: LogFile=log_prov_code_24_25_26.log, LazyConstraints=1>"
      ]
     },
     "execution_count": 26,
     "metadata": {},
     "output_type": "execute_result"
    }
   ],
   "source": [
    "m"
   ]
  },
  {
   "cell_type": "markdown",
   "metadata": {
    "deletable": true,
    "editable": true
   },
   "source": [
    "### Set Objective Function"
   ]
  },
  {
   "cell_type": "markdown",
   "metadata": {
    "deletable": true,
    "editable": true
   },
   "source": [
    "#### D_ij and A_ik"
   ]
  },
  {
   "cell_type": "code",
   "execution_count": 27,
   "metadata": {
    "collapsed": false,
    "deletable": true,
    "editable": true
   },
   "outputs": [],
   "source": [
    "m.setObjective(\n",
    "        quicksum(   quicksum(   Dist_D[i,j]*d_t[j][i] for i in d_t[j])    for j in District_List) + \\\n",
    "        quicksum(   quicksum(   Dist_A[i,k]*a_t[k][i] for i in a_t[k])    for k in Appeals_List), GRB.MINIMIZE)\n",
    "m.update()"
   ]
  },
  {
   "cell_type": "markdown",
   "metadata": {
    "deletable": true,
    "editable": true
   },
   "source": [
    "### Callback Function"
   ]
  },
  {
   "cell_type": "code",
   "execution_count": null,
   "metadata": {
    "collapsed": false,
    "deletable": true,
    "editable": true
   },
   "outputs": [],
   "source": [
    "def mycallback(model, where):        \n",
    "    if where == GRB.Callback.MIPSOL:\n",
    "        d_temp = {}\n",
    "        a_temp = {}\n",
    "        c_temp = {}\n",
    "        for i in Settlement_List:\n",
    "            d_temp[i] = {}\n",
    "            a_temp[i] = {}\n",
    "        for j in District_List:\n",
    "            c_temp[j] = {}\n",
    "        \n",
    "        for i in Settlement_List:\n",
    "            for j in District_List:\n",
    "                if (type(d[i][j]) == gurobipy.Var):\n",
    "                    d_temp[i][j] = m.cbGetSolution(d[i][j])\n",
    "                else:\n",
    "                    d_temp[i][j] = 0\n",
    "        \n",
    "        for i in Settlement_List:\n",
    "            for k in Appeals_List:\n",
    "                if (type(a[i][k]) == gurobipy.Var):\n",
    "                    a_temp[i][k] = m.cbGetSolution(a[i][k])\n",
    "                else:\n",
    "                    a_temp[i][k] = 0\n",
    "                \n",
    "        for j in District_List:\n",
    "            for k in Appeals_List:\n",
    "                if (type(c[j][k]) == gurobipy.Var):\n",
    "                    c_temp[j][k] = m.cbGetSolution(c[j][k])\n",
    "                else:\n",
    "                    c_temp[j][k] = 0\n",
    "                \n",
    "        for i in Settlement_List:\n",
    "            for j in District_List:\n",
    "                for k in Appeals_List:\n",
    "                    if (d_temp[i][j] + a_temp[i][k] - c_temp[j][k] > 1):\n",
    "                        m.cbLazy(d[i][j] + a[i][k] - c[j][k] <= 1)\n",
    "                    if (d_temp[i][j] + c_temp[j][k] - a_temp[i][k] > 1):\n",
    "                        m.cbLazy(d[i][j] + c[j][k] - a[i][k] <= 1)             \n",
    "                    \n"
   ]
  },
  {
   "cell_type": "markdown",
   "metadata": {
    "collapsed": true,
    "deletable": true,
    "editable": true
   },
   "source": [
    "### Optimize"
   ]
  },
  {
   "cell_type": "code",
   "execution_count": null,
   "metadata": {
    "collapsed": false,
    "deletable": true,
    "editable": true
   },
   "outputs": [
    {
     "name": "stdout",
     "output_type": "stream",
     "text": [
      "Optimize a model with 9210 rows, 318983 columns and 638400 nonzeros\n",
      "Variable types: 0 continuous, 318983 integer (318983 binary)\n",
      "Coefficient statistics:\n",
      "  Matrix range     [1e+00, 1e+05]\n",
      "  Objective range  [2e-01, 3e+02]\n",
      "  Bounds range     [1e+00, 1e+00]\n",
      "  RHS range        [1e+00, 6e+00]\n",
      "Presolve removed 236 rows and 0 columns\n",
      "Presolve time: 0.96s\n",
      "Presolved: 8974 rows, 318983 columns, 638164 nonzeros\n",
      "\n",
      "MIP start did not produce a new incumbent solution\n",
      "MIP start violates constraint R0 by 379999.000000000\n",
      "\n",
      "Variable types: 0 continuous, 318983 integer (318983 binary)\n",
      "Found heuristic solution: objective 906927.40205\n",
      "\n",
      "Root simplex log...\n",
      "\n",
      "Iteration    Objective       Primal Inf.    Dual Inf.      Time\n",
      "       0    0.0000000e+00   8.340000e+03   0.000000e+00     96s\n",
      "    8454    2.2427974e+05   0.000000e+00   0.000000e+00     96s\n",
      "\n",
      "Root relaxation: objective 2.242797e+05, 8454 iterations, 0.12 seconds\n",
      "\n",
      "    Nodes    |    Current Node    |     Objective Bounds      |     Work\n",
      " Expl Unexpl |  Obj  Depth IntInf | Incumbent    BestBd   Gap | It/Node Time\n",
      "\n",
      "     0     0 224279.735    0  104 906927.402 224279.735  75.3%     -   96s\n",
      "Another try with MIP start\n",
      "     0     0 224279.735    0  104 906927.402 224279.735  75.3%     -  184s\n",
      "     0     0 224279.735    0  104 906927.402 224279.735  75.3%     -  221s\n",
      "     0     0 224279.735    0  104 906927.402 224279.735  75.3%     -  255s\n",
      "     0     0 224279.735    0  104 906927.402 224279.735  75.3%     -  289s\n",
      "     0     0 224279.735    0  104 906927.402 224279.735  75.3%     -  323s\n",
      "     0     0 224279.735    0  104 906927.402 224279.735  75.3%     -  359s\n",
      "     0     0 224279.735    0  104 906927.402 224279.735  75.3%     -  392s\n",
      "     0     0 253603.456    0 4018 906927.402 253603.456  72.0%     -  395s\n",
      "     0     0 253603.456    0 4018 906927.402 253603.456  72.0%     -  430s\n",
      "H    0     0                    839954.69134 253603.456  69.8%     -  467s\n",
      "     0     0 271026.872    0 5234 839954.691 271026.872  67.7%     -  474s\n",
      "     0     0 290668.600    0 8623 839954.691 290668.600  65.4%     -  483s\n",
      "     0     0 290668.600    0 8623 839954.691 290668.600  65.4%     -  550s\n",
      "     0     0 290668.600    0 8623 839954.691 290668.600  65.4%     -  611s\n",
      "H    0     0                    536051.52425 290668.600  45.8%     -  642s\n",
      "     0     0 329128.355    0 11255 536051.524 329128.355  38.6%     -  656s\n",
      "     0     0 345821.558    0 11624 536051.524 345821.558  35.5%     -  679s\n",
      "     0     0 345821.558    0 11624 536051.524 345821.558  35.5%     -  712s\n",
      "     0     0 346184.634    0 11860 536051.524 346184.634  35.4%     -  750s\n",
      "     0     2 346184.634    0 11860 536051.524 346184.634  35.4%     -  976s\n",
      "     1     4 346774.586    1 11718 536051.524 346774.586  35.3%   761 1016s\n",
      "     3     4 347059.291    2 11591 536051.524 347059.291  35.3%  2660 1020s\n",
      "     5     6 371165.841    3 9286 536051.524 347074.516  35.3%  2442 1041s\n",
      "     7     6 359968.031    3 10906 536051.524 359968.031  32.8%  2457 1056s\n",
      "     9     7 360377.356    4 10921 536051.524 360377.356  32.8%  2129 1073s\n",
      "    11     8 360902.723    5 10953 536051.524 360525.768  32.7%  2223 1134s\n",
      "    13     9 361119.358    6 11194 536051.524 360525.768  32.7%  2123 1145s\n",
      "    16    12 371905.246    8 8749 536051.524 360525.768  32.7%  2051 1192s\n",
      "    18    13 398141.622    8 8778 536051.524 360525.768  32.7%  1967 1197s\n",
      "    20    11 372257.022    9 8614 536051.524 360525.768  32.7%  1818 1204s\n",
      "    24    16 373021.108   12 8468 536051.524 360525.768  32.7%  1658 1237s\n",
      "    28    18 373404.696   13 8281 536051.524 360525.768  32.7%  1660 1259s\n",
      "    32    21 375034.231   15 8153 536051.524 360525.768  32.7%  1578 1284s\n",
      "    37    28 374762.305   18 7770 536051.524 360525.768  32.7%  1492 1297s\n",
      "    42    31 378349.482   20 7942 536051.524 360525.768  32.7%  1412 1369s\n",
      "    45    34 378254.167   21 7951 536051.524 360525.768  32.7%  1466 1379s\n",
      "    50    40 377295.412   22 7783 536051.524 360525.768  32.7%  1390 1432s\n",
      "    59    50 379177.754   25 6924 536051.524 360525.768  32.7%  1237 1531s\n",
      "    63    48 379004.289   26 5955 536051.524 360525.768  32.7%  1213 1541s\n",
      "    75    62 381654.800   33 4893 536051.524 360525.768  32.7%  1054 1556s\n",
      "    77    64 477334.012   19 6481 536051.524 360525.768  32.7%  1101 1598s\n",
      "    80    63 443172.209   33    - 536051.524 360525.768  32.7%  1144 1675s\n",
      "    83    66 527500.365   20    - 536051.524 360525.768  32.7%  1165 1768s\n",
      "*   86    50              34    445647.75678 360525.768  19.1%  1217 1892s\n",
      "*   90    45              35    445063.10907 360525.768  19.0%  1391 1947s\n",
      "    93    45 392630.045   36 9285 445063.109 360525.768  19.0%  1395 1961s\n",
      "    95    46 393284.970   37 9160 445063.109 371258.662  16.6%  1388 1985s\n",
      "*   96    44              37    437297.36757 371258.662  15.1%  1443 2029s\n",
      "    98    46 393375.831   38 9130 437297.368 371506.311  15.0%  1440 2062s\n",
      "*  103    46              41    423725.83897 371506.311  12.3%  1473 2159s\n",
      "   106    49 397492.011   43 8703 423725.839 371506.311  12.3%  1478 2198s\n",
      "   108    48     cutoff   43      423725.839 371506.311  12.3%  1504 2218s\n",
      "   111    51     cutoff   44      423725.839 371506.311  12.3%  1507 2254s\n",
      "   121    57 399821.283   52 8593 423725.839 371506.311  12.3%  1440 2269s\n",
      "   128    62 401132.033   55 8159 423725.839 371506.311  12.3%  1396 2280s\n",
      "   141    73 405033.378   61 7661 423725.839 371506.311  12.3%  1308 2294s\n",
      "   146    75 405838.810   63 7441 423725.839 371506.311  12.3%  1302 2312s\n",
      "   154    76 414576.817   67 6913 423725.839 371506.311  12.3%  1275 2326s\n",
      "   171    85 414667.703   78 4182 423725.839 372503.130  12.1%  1181 2422s\n",
      "   181    91 381887.334   12 11357 423725.839 372503.130  12.1%  1220 2442s\n",
      "   189    95 384238.322   18 9001 423725.839 372503.130  12.1%  1194 2466s\n",
      "   195   102 385942.121   21 8917 423725.839 372503.130  12.1%  1189 2495s\n",
      "   207   117 394421.106   26 7368 423725.839 372503.130  12.1%  1159 2529s\n",
      "   226   130 409007.831   40 5767 423725.839 372503.130  12.1%  1104 2553s\n",
      "   254   155 419030.068   62 4366 423725.839 373049.375  12.0%  1010 2672s\n",
      "   268   166 377975.433   11 10916 423725.839 373049.375  12.0%  1020 2700s\n",
      "   281   173 381039.210   17 8839 423725.839 373049.375  12.0%  1009 2727s\n",
      "   287   179 381604.126   19 8776 423725.839 373049.375  12.0%  1002 2764s\n",
      "   293   184 382435.357   20 8804 423725.839 373049.375  12.0%   991 2808s\n",
      "   316   198 389637.925   28 8903 423725.839 373049.375  12.0%   961 2833s\n",
      "   327   206 392519.940   32 7351 423725.839 373049.375  12.0%   949 2864s\n",
      "   337   214 398425.769   40 3949 423725.839 373049.375  12.0%   946 2885s\n",
      "   371   249 384214.389   23 8290 423725.839 373049.375  12.0%   872 2924s\n",
      "*  376   198              73    412246.99981 373751.261  9.34%   870 3022s\n",
      "   397   207 379561.266   10 10679 412247.000 373751.261  9.34%   864 3093s\n",
      "   437   241 382286.639   16 8653 412247.000 373751.261  9.34%   808 3185s\n",
      "   455   252 386019.881   22 8184 412247.000 373751.261  9.34%   814 3307s\n",
      "   457   255 386458.514   23 8033 412247.000 373751.261  9.34%   812 3402s\n",
      "   468   264 390350.681   29 7583 412247.000 373751.261  9.34%   812 3443s\n",
      "   480   276 395895.011   34 4394 412247.000 373751.261  9.34%   808 3483s\n",
      "   502   294 406788.154   50 3152 412247.000 374348.176  9.19%   794 3540s\n",
      "*  521   290              68    411790.87642 374348.176  9.09%   769 3596s\n",
      "   527   311 380565.073   14 10556 411790.876 374348.176  9.09%   787 3640s\n",
      "   534   311 383248.060   18 11260 411790.876 374348.176  9.09%   795 3780s\n",
      "   547   323 385164.571   20 11036 411790.876 374348.176  9.09%   809 3872s\n",
      "   555   328 387817.573   23 10950 411790.876 374348.176  9.09%   817 3949s\n",
      "   561   334 389936.549   26 8985 411790.876 374348.176  9.09%   827 4042s\n",
      "   567   340 394139.346   29 7661 411790.876 374348.176  9.09%   837 4159s\n",
      "   578   351 398246.248   32 7692 411790.876 374348.176  9.09%   837 4271s\n"
     ]
    }
   ],
   "source": [
    "start_time = time.time()\n",
    "\n",
    "m.optimize(mycallback)\n",
    "\n",
    "end_time = time.time()"
   ]
  },
  {
   "cell_type": "markdown",
   "metadata": {
    "collapsed": true,
    "deletable": true,
    "editable": true
   },
   "source": [
    "### Output Solution"
   ]
  },
  {
   "cell_type": "code",
   "execution_count": null,
   "metadata": {
    "collapsed": false,
    "deletable": true,
    "editable": true
   },
   "outputs": [],
   "source": [
    "print(end_time-start_time)\n",
    "m.write(\"out_%s.sol\"%Sfile)"
   ]
  },
  {
   "cell_type": "code",
   "execution_count": null,
   "metadata": {
    "collapsed": false,
    "deletable": true,
    "editable": true
   },
   "outputs": [],
   "source": [
    "GRB.Attr"
   ]
  },
  {
   "cell_type": "markdown",
   "metadata": {
    "deletable": true,
    "editable": true
   },
   "source": [
    "###  Plotting"
   ]
  },
  {
   "cell_type": "markdown",
   "metadata": {
    "deletable": true,
    "editable": true
   },
   "source": [
    "#### DOUT"
   ]
  },
  {
   "cell_type": "code",
   "execution_count": null,
   "metadata": {
    "collapsed": true,
    "deletable": true,
    "editable": true
   },
   "outputs": [],
   "source": [
    "# DOUT - District Assignments\n",
    "\n",
    "DOUT = pd.DataFrame.from_dict({(i,j): VarVal(d[i][j]) \n",
    "                           for i in d.keys() \n",
    "                           for j in d[i].keys()},\n",
    "                           orient='index')\n",
    "\n",
    "Settlements_DOUT = [i[0] for i in DOUT.index]\n",
    "Districts_DOUT = [i[1] for i in DOUT.index]\n",
    "\n",
    "DOUT['Settlement'] = Settlements_DOUT\n",
    "DOUT['DistrictCourts'] = Districts_DOUT\n",
    "\n",
    "DOUT = DOUT[DOUT[0] == 1.0]"
   ]
  },
  {
   "cell_type": "markdown",
   "metadata": {
    "deletable": true,
    "editable": true
   },
   "source": [
    "#### AOUT"
   ]
  },
  {
   "cell_type": "code",
   "execution_count": null,
   "metadata": {
    "collapsed": true,
    "deletable": true,
    "editable": true
   },
   "outputs": [],
   "source": [
    "#AOUT - Appeals Assignments\n",
    "\n",
    "AOUT = pd.DataFrame.from_dict({(i,j): VarVal(a[i][j]) \n",
    "                           for i in a.keys() \n",
    "                           for j in a[i].keys()},\n",
    "                           orient='index')\n",
    "\n",
    "Settlements_AOUT = [i[0] for i in AOUT.index]\n",
    "Appeals_AOUT = [i[1] for i in AOUT.index]\n",
    "\n",
    "AOUT['Settlement'] = Settlements_AOUT\n",
    "AOUT['AppealsCourts'] = Appeals_AOUT\n",
    "\n",
    "AOUT = AOUT[AOUT[0] == 1.0]"
   ]
  },
  {
   "cell_type": "markdown",
   "metadata": {
    "deletable": true,
    "editable": true
   },
   "source": [
    "#### COUT"
   ]
  },
  {
   "cell_type": "code",
   "execution_count": null,
   "metadata": {
    "collapsed": true,
    "deletable": true,
    "editable": true
   },
   "outputs": [],
   "source": [
    "#COUT - Appeals Assignments\n",
    "\n",
    "COUT = pd.DataFrame.from_dict({(i,j): VarVal(c[i][j]) \n",
    "                           for i in c.keys() \n",
    "                           for j in c[i].keys()},\n",
    "                           orient='index')\n",
    "\n",
    "Districts_COUT = [i[0] for i in COUT.index]\n",
    "Appeals_COUT = [i[1] for i in COUT.index]\n",
    "\n",
    "COUT['DistrictCourts'] = Districts_COUT\n",
    "COUT['AppealsCourts'] = Appeals_COUT\n",
    "\n",
    "COUT = COUT[COUT[0] == 1.0]"
   ]
  },
  {
   "cell_type": "markdown",
   "metadata": {
    "deletable": true,
    "editable": true
   },
   "source": [
    "#### Plot all Locations"
   ]
  },
  {
   "cell_type": "code",
   "execution_count": 5,
   "metadata": {
    "collapsed": false,
    "deletable": true,
    "editable": true
   },
   "outputs": [
    {
     "data": {
      "image/png": "[encoded data removed]",
      "text/plain": [
       "<matplotlib.figure.Figure at 0x20ba97d3128>"
      ]
     },
     "metadata": {},
     "output_type": "display_data"
    }
   ],
   "source": [
    "plt.scatter(Settlements['LON_X'],Settlements['LAT_Y'])\n",
    "plt.scatter(Districts['LON_X'],Districts['LAT_Y'], color='Red', marker = 's')\n",
    "plt.scatter(Appeals['LON_X'],Appeals['LAT_Y'], color='Green', marker = '^')\n",
    "plt.show()"
   ]
  },
  {
   "cell_type": "markdown",
   "metadata": {
    "deletable": true,
    "editable": true
   },
   "source": [
    "#### Plotting Assignments"
   ]
  },
  {
   "cell_type": "code",
   "execution_count": null,
   "metadata": {
    "collapsed": false,
    "deletable": true,
    "editable": true
   },
   "outputs": [],
   "source": [
    "#Drawing Lines\n",
    "plt.figure(figsize=(14,14))\n",
    "\n",
    "#Plotting Points    \n",
    "plt.scatter(Settlements['LON_X'],Settlements['LAT_Y'])\n",
    "plt.scatter(Districts['LON_X'],Districts['LAT_Y'], color='Red', marker = 's',s=25)\n",
    "plt.scatter(Appeals['LON_X'],Appeals['LAT_Y'], color='Green', marker = '^',s = 400)\n",
    "\n",
    "for index,row in DOUT.iterrows():\n",
    "    s = row['Settlement'] \n",
    "    d = row['DistrictCourts']\n",
    "    #Get District number that Settlement is linked to\n",
    "    Dist = Districts.loc[Districts['DIST_CODE'] == d]\n",
    "    Sett = Settlements.loc[Settlements['OBJECTID'] == s]\n",
    "    X = [Sett.iloc[0,2],Dist.iloc[0,1]]\n",
    "    Y = [Sett.iloc[0,1],Dist.iloc[0,2]]\n",
    "    plt.scatter(Dist.iloc[0,1],Dist.iloc[0,2], color='Orange', marker = 's',s = 100)\n",
    "    plt.plot(X,Y,zorder=1, color=\"Black\")\n",
    "\n",
    "\n",
    "\n",
    "#axes = plt.gca()\n",
    "#axes.set_xlim([68.2,70])\n",
    "#axes.set_ylim([34,35.5])\n",
    "\n",
    "plt.show()"
   ]
  },
  {
   "cell_type": "code",
   "execution_count": null,
   "metadata": {
    "collapsed": false,
    "deletable": true,
    "editable": true
   },
   "outputs": [],
   "source": [
    "#Draw Lines\n",
    "plt.figure(figsize=(14,14))\n",
    "\n",
    "for index,row in COUT.iterrows():\n",
    "    d = row['DistrictCourts'] \n",
    "    a = row['AppealsCourts']\n",
    "\n",
    "    Dist = Districts.loc[Districts['DIST_CODE'] == d]\n",
    "    App = Appeals.loc[Appeals['PROV_CODE'] == a]\n",
    "\n",
    "    X = [Dist.iloc[0,1],App.iloc[0,1]]\n",
    "    Y = [Dist.iloc[0,2],App.iloc[0,2]]\n",
    "\n",
    "    plt.plot(X,Y,zorder=1, color=\"Black\")\n",
    "    \n",
    "clr = cm.rainbow(np.linspace(0, 1, D))\n",
    "for a in range(A):\n",
    "    X = Appeals.iloc[a,1]\n",
    "    Y = Appeals.iloc[a,2]\n",
    "    plt.scatter(X,Y, color=\"Green\", marker = '^')\n",
    "    \n",
    "for index,row in DOUT.iterrows():   \n",
    "    d = row['DistrictCourts'] \n",
    "    Dist = Districts.loc[Districts['DIST_CODE'] == d]\n",
    "    X = Dist.iloc[0,1]\n",
    "    Y = Dist.iloc[0,2]\n",
    "    c = Dist.index[0]\n",
    "    plt.scatter(X,Y, color=clr[c], marker = 's')\n",
    "    \n",
    "for index,row in DOUT.iterrows():\n",
    "    s = row['Settlement'] \n",
    "    d = row['DistrictCourts']\n",
    "    #Get District number that Settlement is linked to\n",
    "    Dist = Districts.loc[Districts['DIST_CODE'] == d]\n",
    "    Sett = Settlements.loc[Settlements['OBJECTID'] == s]\n",
    "\n",
    "    c = Dist.index[0]\n",
    "    X = Sett.iloc[0,2]                                                     \n",
    "    Y = Sett.iloc[0,1]\n",
    "    plt.scatter(X,Y, color=clr[c])\n",
    "          \n",
    "#axes = plt.gca()\n",
    "#axes.set_xlim([68.2,70])\n",
    "#axes.set_ylim([34,35.5])\n",
    "\n",
    "sf = shp.Reader(\"Afghanistan_Districts\",\"rb\")\n",
    "for shape in sf.shapeRecords():\n",
    "    x = [i[0] for i in shape.shape.points[:]]\n",
    "    y = [i[1] for i in shape.shape.points[:]]\n",
    "    plt.plot(x,y,color='k',linewidth=0.1)\n",
    "plt.show()"
   ]
  },
  {
   "cell_type": "code",
   "execution_count": null,
   "metadata": {
    "collapsed": true,
    "deletable": true,
    "editable": true
   },
   "outputs": [],
   "source": []
  },
  {
   "cell_type": "code",
   "execution_count": null,
   "metadata": {
    "collapsed": true,
    "deletable": true,
    "editable": true
   },
   "outputs": [],
   "source": []
  },
  {
   "cell_type": "code",
   "execution_count": null,
   "metadata": {
    "collapsed": true,
    "deletable": true,
    "editable": true
   },
   "outputs": [],
   "source": []
  }
 ],
 "metadata": {
  "anaconda-cloud": {},
  "kernelspec": {
   "display_name": "Python [default]",
   "language": "python",
   "name": "python3"
  },
  "language_info": {
   "codemirror_mode": {
    "name": "ipython",
    "version": 3
   },
   "file_extension": ".py",
   "mimetype": "text/x-python",
   "name": "python",
   "nbconvert_exporter": "python",
   "pygments_lexer": "ipython3",
   "version": "3.5.2"
  }
 },
 "nbformat": 4,
 "nbformat_minor": 1
}
