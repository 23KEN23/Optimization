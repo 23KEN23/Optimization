{
 "cells": [
  {
   "cell_type": "markdown",
   "metadata": {},
   "source": [
    "# Province Size Comparison"
   ]
  },
  {
   "cell_type": "markdown",
   "metadata": {},
   "source": [
    "##### Use this to calculate the number of settlements in a province and compare it to full dataset"
   ]
  },
  {
   "cell_type": "code",
   "execution_count": 1,
   "metadata": {
    "collapsed": true
   },
   "outputs": [],
   "source": [
    "from gurobipy import *\n",
    "import time\n",
    "import numpy as np\n",
    "import pandas as pd\n",
    "import matplotlib.pyplot as plt\n",
    "import matplotlib.cm as cm\n",
    "import shapefile as shp\n",
    "from collections import defaultdict"
   ]
  },
  {
   "cell_type": "markdown",
   "metadata": {},
   "source": [
    "### Full Dataset"
   ]
  },
  {
   "cell_type": "code",
   "execution_count": 5,
   "metadata": {
    "collapsed": false
   },
   "outputs": [],
   "source": [
    "#Get Settlement List\n",
    "Sfile = \"afg_ppl_settlement_pnt\" #change to use different settlement files (updates console and solution log files)\n",
    "Full=pd.read_csv(\"%s.csv\"%Sfile,sep=\",\")\n",
    "\n",
    "Total = Full.shape[0]"
   ]
  },
  {
   "cell_type": "code",
   "execution_count": 6,
   "metadata": {
    "collapsed": false
   },
   "outputs": [
    {
     "data": {
      "text/plain": [
       "45017"
      ]
     },
     "execution_count": 6,
     "metadata": {},
     "output_type": "execute_result"
    }
   ],
   "source": [
    "Total"
   ]
  },
  {
   "cell_type": "markdown",
   "metadata": {},
   "source": [
    "### Provinces"
   ]
  },
  {
   "cell_type": "code",
   "execution_count": 22,
   "metadata": {
    "collapsed": false
   },
   "outputs": [
    {
     "name": "stdout",
     "output_type": "stream",
     "text": [
      "Province 0\n",
      "Total = 1 \n",
      "Percentage = 0.002 \n",
      "\n",
      "Province 1\n",
      "Total = 1018 \n",
      "Percentage = 2.261 \n",
      "\n",
      "Province 2\n",
      "Total = 631 \n",
      "Percentage = 1.402 \n",
      "\n",
      "Province 3\n",
      "Total = 1021 \n",
      "Percentage = 2.268 \n",
      "\n",
      "Province 4\n",
      "Total = 2131 \n",
      "Percentage = 4.734 \n",
      "\n",
      "Province 5\n",
      "Total = 772 \n",
      "Percentage = 1.715 \n",
      "\n",
      "Province 6\n",
      "Total = 1537 \n",
      "Percentage = 3.414 \n",
      "\n",
      "Province 7\n",
      "Total = 671 \n",
      "Percentage = 1.491 \n",
      "\n",
      "Province 8\n",
      "Total = 324 \n",
      "Percentage = 0.72 \n",
      "\n",
      "Province 9\n",
      "Total = 1530 \n",
      "Percentage = 3.399 \n",
      "\n",
      "Province 10\n",
      "Total = 1882 \n",
      "Percentage = 4.181 \n",
      "\n",
      "Province 11\n",
      "Total = 3412 \n",
      "Percentage = 7.579 \n",
      "\n",
      "Province 12\n",
      "Total = 849 \n",
      "Percentage = 1.886 \n",
      "\n",
      "Province 13\n",
      "Total = 1047 \n",
      "Percentage = 2.326 \n",
      "\n",
      "Province 14\n",
      "Total = 270 \n",
      "Percentage = 0.6 \n",
      "\n",
      "Province 15\n",
      "Total = 2208 \n",
      "Percentage = 4.905 \n",
      "\n",
      "Province 16\n",
      "Total = 1261 \n",
      "Percentage = 2.801 \n",
      "\n",
      "Province 17\n",
      "Total = 872 \n",
      "Percentage = 1.937 \n",
      "\n",
      "Province 18\n",
      "Total = 1263 \n",
      "Percentage = 2.806 \n",
      "\n",
      "Province 19\n",
      "Total = 731 \n",
      "Percentage = 1.624 \n",
      "\n",
      "Province 20\n",
      "Total = 923 \n",
      "Percentage = 2.05 \n",
      "\n",
      "Province 21\n",
      "Total = 2283 \n",
      "Percentage = 5.071 \n",
      "\n",
      "Province 22\n",
      "Total = 2148 \n",
      "Percentage = 4.772 \n",
      "\n",
      "Province 23\n",
      "Total = 716 \n",
      "Percentage = 1.591 \n",
      "\n",
      "Province 24\n",
      "Total = 1649 \n",
      "Percentage = 3.663 \n",
      "\n",
      "Province 25\n",
      "Total = 1495 \n",
      "Percentage = 3.321 \n",
      "\n",
      "Province 26\n",
      "Total = 1026 \n",
      "Percentage = 2.279 \n",
      "\n",
      "Province 27\n",
      "Total = 527 \n",
      "Percentage = 1.171 \n",
      "\n",
      "Province 28\n",
      "Total = 1081 \n",
      "Percentage = 2.401 \n",
      "\n",
      "Province 29\n",
      "Total = 1098 \n",
      "Percentage = 2.439 \n",
      "\n",
      "Province 30\n",
      "Total = 2482 \n",
      "Percentage = 5.513 \n",
      "\n",
      "Province 31\n",
      "Total = 1266 \n",
      "Percentage = 2.812 \n",
      "\n",
      "Province 32\n",
      "Total = 2051 \n",
      "Percentage = 4.556 \n",
      "\n",
      "Province 33\n",
      "Total = 2274 \n",
      "Percentage = 5.051 \n",
      "\n",
      "Province 34\n",
      "Total = 567 \n",
      "Percentage = 1.26 \n",
      "\n"
     ]
    }
   ],
   "source": [
    "for i in range(35):\n",
    "    filename = \"prov_code_%s\"%i\n",
    "    d = pd.read_csv(\"%s.csv\"%filename,sep=\",\")\n",
    "    settlements = d.shape[0]\n",
    "    print(\"Province %s\"%i)\n",
    "    print(\"Total =\", settlements,\"\\nPercentage =\",round((settlements*100/Total),3),\"\\n\")"
   ]
  }
 ],
 "metadata": {
  "anaconda-cloud": {},
  "kernelspec": {
   "display_name": "Python [default]",
   "language": "python",
   "name": "python3"
  },
  "language_info": {
   "codemirror_mode": {
    "name": "ipython",
    "version": 3
   },
   "file_extension": ".py",
   "mimetype": "text/x-python",
   "name": "python",
   "nbconvert_exporter": "python",
   "pygments_lexer": "ipython3",
   "version": "3.5.2"
  }
 },
 "nbformat": 4,
 "nbformat_minor": 1
}
