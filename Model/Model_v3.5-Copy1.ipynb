{
 "cells": [
  {
   "cell_type": "markdown",
   "metadata": {
    "deletable": true,
    "editable": true
   },
   "source": [
    "## THINGS TO DO\n",
    "\n",
    "##### Add Language Constraints\n",
    "##### Add Capacity Constraints"
   ]
  },
  {
   "cell_type": "code",
   "execution_count": 1,
   "metadata": {
    "collapsed": false,
    "deletable": true,
    "editable": true
   },
   "outputs": [],
   "source": [
    "from gurobipy import *\n",
    "import numpy as np\n",
    "import pandas as pd\n",
    "import matplotlib.pyplot as plt\n",
    "import matplotlib.cm as cm\n",
    "#import shapefile as shp\n",
    "from collections import defaultdict"
   ]
  },
  {
   "cell_type": "markdown",
   "metadata": {
    "deletable": true,
    "editable": true
   },
   "source": [
    "### Set Parameters"
   ]
  },
  {
   "cell_type": "code",
   "execution_count": 2,
   "metadata": {
    "collapsed": true,
    "deletable": true,
    "editable": true
   },
   "outputs": [],
   "source": [
    "M = 100000\n",
    "maxOpenD = 50\n",
    "maxOpenA = 20\n",
    "maxDistance = 10000\n",
    "\n",
    "maxDist_D = 150\n",
    "maxDist_A = 350\n",
    "\n",
    "#maxPopD- max capacity of each district court\n",
    "#maxPopA - max capacity of each appeals court\n",
    "\n",
    "#xS,yS \n",
    "#xD,yD\n",
    "#xA,yA\n",
    "\n",
    "#langS\n",
    "#langD\n",
    "#langA\n",
    "\n",
    "\n",
    "#param d{i in Settlements,j in DistrictCourts} \n",
    "#\t:= sqrt( (xS[i]-xD[j])^2 + (yS[i]-yD[j])^2); #distance between settlement and district court\n",
    "#param a{i in Settlements,k in AppealsCourts} \n",
    "#\t:= sqrt( (xA[k]-xS[i])^2 + (yA[k]-yS[i])^2); #distance between district court and appeals court\t"
   ]
  },
  {
   "cell_type": "markdown",
   "metadata": {
    "deletable": true,
    "editable": true
   },
   "source": [
    "### Extract Data"
   ]
  },
  {
   "cell_type": "code",
   "execution_count": 3,
   "metadata": {
    "collapsed": false,
    "deletable": true,
    "editable": true
   },
   "outputs": [],
   "source": [
    "#Get Settlement List\n",
    "Settlements = pd.read_csv(\"afg_ppl_settlement_pnt.csv\",sep=\",\")\n",
    "Settlements = Settlements[[0,10,11]]\n",
    "S = Settlements.shape[0]\n",
    "Settlement_List = Settlements['OBJECTID'].tolist()\n",
    "\n",
    "#Get District Court List\n",
    "Districts = pd.read_csv(\"District_Courts.csv\",sep=\",\")\n",
    "Districts = Districts[[1,4,5]]\n",
    "D = Districts.shape[0]\n",
    "District_List = Districts['DIST_CODE'].tolist()\n",
    "\n",
    "#Get Appeals Court List\n",
    "Appeals = pd.read_csv(\"Appeals_Courts.csv\",sep=\",\")\n",
    "Appeals = Appeals[[1,4,5]]\n",
    "A = Appeals.shape[0]\n",
    "Appeals_List = Appeals['PROV_CODE'].tolist()"
   ]
  },
  {
   "cell_type": "markdown",
   "metadata": {
    "deletable": true,
    "editable": true
   },
   "source": [
    "#### Create Data Subset for Settlements"
   ]
  },
  {
   "cell_type": "markdown",
   "metadata": {
    "deletable": true,
    "editable": true
   },
   "source": [
    "#### ------------------------------------------------"
   ]
  },
  {
   "cell_type": "code",
   "execution_count": 4,
   "metadata": {
    "collapsed": false,
    "deletable": true,
    "editable": true
   },
   "outputs": [],
   "source": [
    "Settlements = Settlements.sample(frac = 0.02, replace = False)\n",
    "S = Settlements.shape[0]\n",
    "Settlement_List = Settlements['OBJECTID'].tolist()"
   ]
  },
  {
   "cell_type": "markdown",
   "metadata": {
    "deletable": true,
    "editable": true
   },
   "source": [
    "####  ------------------------------------------------"
   ]
  },
  {
   "cell_type": "code",
   "execution_count": 5,
   "metadata": {
    "collapsed": false,
    "deletable": true,
    "editable": true
   },
   "outputs": [],
   "source": [
    "#Create Dictionaries\n",
    "Settlement_Dict = Settlements.set_index('OBJECTID').T.to_dict('list')\n",
    "District_Dict = Districts.set_index('DIST_CODE').T.to_dict('list')\n",
    "Appeals_Dict = Appeals.set_index('PROV_CODE').T.to_dict('list')"
   ]
  },
  {
   "cell_type": "code",
   "execution_count": 6,
   "metadata": {
    "collapsed": false,
    "deletable": true,
    "editable": true
   },
   "outputs": [],
   "source": [
    "#Create Dictionaries for District Courthouse Distances\n",
    "\n",
    "Dist_D = {}\n",
    "\n",
    "R = 6371e3\n",
    "\n",
    "\n",
    "for d in District_List:\n",
    "    d_lon = District_Dict[d][0]\n",
    "    d_lat = District_Dict[d][1]\n",
    "    theta2 = np.radians(d_lat)\n",
    "\n",
    "\n",
    "    for s in Settlement_List:\n",
    "        s_lon = Settlement_Dict[s][1]\n",
    "        s_lat = Settlement_Dict[s][0]\n",
    "        theta1 = np.radians(s_lat)\n",
    "        \n",
    "        #Distance to District Court\n",
    "        delta_theta = np.radians(d_lat - s_lat)\n",
    "        delta_lambda = np.radians(d_lon - s_lon)\n",
    "        a = np.sin(delta_theta/2) * np.sin(delta_theta/2) + np.cos(theta1) * np.cos(theta2) * np.sin(delta_lambda/2) * np.sin(delta_lambda/2)\n",
    "        c = 2 * np.arctan2(np.sqrt(a), np.sqrt(1-a))\n",
    "        \n",
    "        Dist_D[s,d] = (R * c)/1000\n",
    "    "
   ]
  },
  {
   "cell_type": "code",
   "execution_count": 7,
   "metadata": {
    "collapsed": false,
    "deletable": true,
    "editable": true
   },
   "outputs": [],
   "source": [
    "#Create Dictionaries for Appeals Courthouse Distances\n",
    "\n",
    "Dist_A = {}\n",
    "\n",
    "R = 6371e3\n",
    "\n",
    "for a in Appeals_List:\n",
    "    a_lon = Appeals_Dict[a][0]\n",
    "    a_lat = Appeals_Dict[a][1]\n",
    "    theta3 = np.radians(a_lat)\n",
    "\n",
    "    for s in Settlement_List:\n",
    "        s_lon = Settlement_Dict[s][1]\n",
    "        s_lat = Settlement_Dict[s][0]\n",
    "        theta1 = np.radians(s_lat)\n",
    "        \n",
    "        #Distance to District Court\n",
    "        delta_theta = np.radians(a_lat - s_lat)\n",
    "        delta_lambda = np.radians(a_lon - s_lon)\n",
    "        a1 = np.sin(delta_theta/2) * np.sin(delta_theta/2) + np.cos(theta1) * np.cos(theta3) * np.sin(delta_lambda/2) * np.sin(delta_lambda/2)\n",
    "        c = 2 * np.arctan2(np.sqrt(a1), np.sqrt(1-a1))\n",
    "        \n",
    "        Dist_A[s,a] = (R * c)/1000\n",
    "        \n",
    "    "
   ]
  },
  {
   "cell_type": "markdown",
   "metadata": {
    "deletable": true,
    "editable": true
   },
   "source": [
    "### Create Model"
   ]
  },
  {
   "cell_type": "code",
   "execution_count": 8,
   "metadata": {
    "collapsed": false,
    "deletable": true,
    "editable": true
   },
   "outputs": [
    {
     "name": "stdout",
     "output_type": "stream",
     "text": [
      "Parameter OutputFlag unchanged\n",
      "   Value: 1  Min: 0  Max: 1  Default: 1\n",
      "Changed value of parameter LazyConstraints to 1\n",
      "   Prev: 0  Min: 0  Max: 1  Default: 0\n"
     ]
    }
   ],
   "source": [
    "#Create Model\n",
    "m = Model(\"Afghanistan\")\n",
    "\n",
    "#Suppress output\n",
    "m.Params.OutputFlag = 1\n",
    "m.Params.LazyConstraints = 1"
   ]
  },
  {
   "cell_type": "markdown",
   "metadata": {
    "deletable": true,
    "editable": true
   },
   "source": [
    "### Create Variables"
   ]
  },
  {
   "cell_type": "markdown",
   "metadata": {
    "deletable": true,
    "editable": true
   },
   "source": [
    "##### Helper function"
   ]
  },
  {
   "cell_type": "code",
   "execution_count": 9,
   "metadata": {
    "collapsed": false,
    "deletable": true,
    "editable": true
   },
   "outputs": [],
   "source": [
    "# Return value of variable\n",
    "def VarVal(var):\n",
    "    if (type(var) == gurobipy.Var):\n",
    "        val = var.X\n",
    "    else:\n",
    "        val = 0\n",
    "    return val"
   ]
  },
  {
   "cell_type": "code",
   "execution_count": 10,
   "metadata": {
    "collapsed": false
   },
   "outputs": [],
   "source": [
    "def LinkLevels(model, where):\n",
    "    if where == GRB.callback.MIPSOL:\n",
    "        for i in Settlement_List:\n",
    "            sol_d = model.cbGetSolution([model.getVarByName(d[i,j]) for j in District_List])\n",
    "            sol_a = model.cbGetSolution([model._a[i,k] for k in Appeals_List])\n",
    "        for j in District_List:\n",
    "            sol_c = model.cbGetSolution([model._c[j,k] for k in Appeals_List])\n",
    "        print(sol_d)\n",
    "       # print(sol_a)\n",
    "       # for i in Settlement_List:\n",
    "        #    for j in District_List:\n",
    "         #       for k in Appeals_List:\n",
    "          #          if (sol_d[i][j] + sol_a[i][k] - sol_c[j][k] > 1):\n",
    "           #                 model.cbLazy(sol_d[i][j] + sol_a[i][k] - sol_c[j][k] <= 1)\n"
   ]
  },
  {
   "cell_type": "markdown",
   "metadata": {
    "deletable": true,
    "editable": true
   },
   "source": [
    "##### d_ij"
   ]
  },
  {
   "cell_type": "code",
   "execution_count": 11,
   "metadata": {
    "collapsed": false,
    "deletable": true,
    "editable": true
   },
   "outputs": [],
   "source": [
    "# Create d_i_j variables\n",
    "d = {}\n",
    "for i in Settlement_List:\n",
    "    d[i] = {}\n",
    "    for j in District_List:\n",
    "        if Dist_D[i,j] < maxDist_D:\n",
    "            d[i][j] = m.addVar(vtype=GRB.CONTINUOUS, lb=0, ub=1, name='d_%s_%s' % (i, j))\n",
    "        else:\n",
    "            d[i][j] = 0\n",
    "m.update()"
   ]
  },
  {
   "cell_type": "code",
   "execution_count": 12,
   "metadata": {
    "collapsed": true,
    "deletable": true,
    "editable": true
   },
   "outputs": [],
   "source": [
    "# Create d_i_j transpose dictionary \n",
    "d_t = defaultdict(dict)\n",
    "for key, val in d.items():\n",
    "    for subkey, subval in val.items():\n",
    "        d_t[subkey][key] = subval"
   ]
  },
  {
   "cell_type": "markdown",
   "metadata": {
    "deletable": true,
    "editable": true
   },
   "source": [
    "##### a_ik"
   ]
  },
  {
   "cell_type": "code",
   "execution_count": 13,
   "metadata": {
    "collapsed": false,
    "deletable": true,
    "editable": true
   },
   "outputs": [],
   "source": [
    " # Create a_i_k variables\n",
    "a = {}\n",
    "for i in Settlement_List:\n",
    "    a[i] = {}\n",
    "    for k in Appeals_List:\n",
    "        if Dist_A[i,k] < maxDist_A:\n",
    "            a[i][k] = m.addVar(vtype=GRB.CONTINUOUS, lb=0, ub=1, name='a_%s_%s' % (i, k))\n",
    "        else:\n",
    "            a[i][k] = 0\n",
    "m.update()"
   ]
  },
  {
   "cell_type": "code",
   "execution_count": 14,
   "metadata": {
    "collapsed": true,
    "deletable": true,
    "editable": true
   },
   "outputs": [],
   "source": [
    "# Create a_i_k transpose dictionary \n",
    "a_t = defaultdict(dict)\n",
    "for key, val in a.items():\n",
    "    for subkey, subval in val.items():\n",
    "        a_t[subkey][key] = subval"
   ]
  },
  {
   "cell_type": "markdown",
   "metadata": {
    "deletable": true,
    "editable": true
   },
   "source": [
    "##### c_jk"
   ]
  },
  {
   "cell_type": "code",
   "execution_count": 15,
   "metadata": {
    "collapsed": true,
    "deletable": true,
    "editable": true
   },
   "outputs": [],
   "source": [
    "# Create c_j_k variables\n",
    "c = {}\n",
    "for j in District_List:\n",
    "    c[j] = {}\n",
    "    for k in Appeals_List:\n",
    "        c[j][k] = m.addVar(vtype=GRB.CONTINUOUS, lb=0, ub=1, name='c_%s_%s' % (j, k))\n",
    "m.update()"
   ]
  },
  {
   "cell_type": "code",
   "execution_count": 16,
   "metadata": {
    "collapsed": true,
    "deletable": true,
    "editable": true
   },
   "outputs": [],
   "source": [
    "# Create c_j_k transpose dictionary \n",
    "c_t = defaultdict(dict)\n",
    "for key, val in c.items():\n",
    "    for subkey, subval in val.items():\n",
    "        c_t[subkey][key] = subval"
   ]
  },
  {
   "cell_type": "markdown",
   "metadata": {
    "deletable": true,
    "editable": true
   },
   "source": [
    "##### openD"
   ]
  },
  {
   "cell_type": "code",
   "execution_count": 17,
   "metadata": {
    "collapsed": false,
    "deletable": true,
    "editable": true
   },
   "outputs": [],
   "source": [
    "#Create openD variables\n",
    "openD = {}\n",
    "for j in District_List:\n",
    "    openD[j] = m.addVar(vtype=GRB.BINARY, lb=0, ub=1, name='openD_%s' % (j))\n",
    "m.update()"
   ]
  },
  {
   "cell_type": "markdown",
   "metadata": {
    "deletable": true,
    "editable": true
   },
   "source": [
    "##### openA"
   ]
  },
  {
   "cell_type": "code",
   "execution_count": 18,
   "metadata": {
    "collapsed": true,
    "deletable": true,
    "editable": true
   },
   "outputs": [],
   "source": [
    "#Create openA variables\n",
    "openA = {}\n",
    "for k in Appeals_List:\n",
    "    openA[k] = m.addVar(vtype=GRB.BINARY, lb=0, ub=1, name='openA_%s' % (k))\n",
    "m.update()"
   ]
  },
  {
   "cell_type": "markdown",
   "metadata": {
    "deletable": true,
    "editable": true
   },
   "source": [
    "### Create Constraints"
   ]
  },
  {
   "cell_type": "markdown",
   "metadata": {
    "deletable": true,
    "editable": true
   },
   "source": [
    "##### D_ij row sums and column sums"
   ]
  },
  {
   "cell_type": "code",
   "execution_count": 19,
   "metadata": {
    "collapsed": true,
    "deletable": true,
    "editable": true
   },
   "outputs": [],
   "source": [
    "#One S -> D Assignment\n",
    "for i in Settlement_List:\n",
    "    m.addConstr(quicksum(d[i][j] for j in d[i]) == 1)\n",
    "m.update()"
   ]
  },
  {
   "cell_type": "code",
   "execution_count": 20,
   "metadata": {
    "collapsed": true,
    "deletable": true,
    "editable": true
   },
   "outputs": [],
   "source": [
    "#Maximum District Courts Open\n",
    "for j in District_List:\n",
    "    m.addConstr(quicksum(d_t[j][i] for i in d_t[j]) <= M * openD[j])\n",
    "m.update()"
   ]
  },
  {
   "cell_type": "markdown",
   "metadata": {
    "deletable": true,
    "editable": true
   },
   "source": [
    "##### A_ik row sums and column sums"
   ]
  },
  {
   "cell_type": "code",
   "execution_count": 21,
   "metadata": {
    "collapsed": true,
    "deletable": true,
    "editable": true
   },
   "outputs": [],
   "source": [
    "#One S -> A Assignment\n",
    "for i in Settlement_List:\n",
    "    m.addConstr(quicksum(a[i][k] for k in a[i]) == 1)\n",
    "m.update()"
   ]
  },
  {
   "cell_type": "code",
   "execution_count": 22,
   "metadata": {
    "collapsed": true,
    "deletable": true,
    "editable": true
   },
   "outputs": [],
   "source": [
    "#Maximum Appeals Courts Open\n",
    "for k in Appeals_List:\n",
    "    m.addConstr(quicksum(a_t[k][i] for i in a_t[k]) <= M * openA[k])\n",
    "m.update()"
   ]
  },
  {
   "cell_type": "markdown",
   "metadata": {
    "deletable": true,
    "editable": true
   },
   "source": [
    "#### C_jk row sums and column sums"
   ]
  },
  {
   "cell_type": "code",
   "execution_count": 23,
   "metadata": {
    "collapsed": false,
    "deletable": true,
    "editable": true
   },
   "outputs": [],
   "source": [
    "#One D -> A Assignment\n",
    "for j in District_List:\n",
    "    m.addConstr(quicksum(c[j][k] for k in c[j]) == openD[j])\n",
    "m.update()"
   ]
  },
  {
   "cell_type": "code",
   "execution_count": 24,
   "metadata": {
    "collapsed": false,
    "deletable": true,
    "editable": true
   },
   "outputs": [],
   "source": [
    "#C constraints\n",
    "for k in Appeals_List:\n",
    "    m.addConstr(quicksum(c[j][k] for j in District_List) <= M*openA[k])\n",
    "m.update()"
   ]
  },
  {
   "cell_type": "markdown",
   "metadata": {
    "deletable": true,
    "editable": true
   },
   "source": [
    "##### Max Open Courthouse Constraints"
   ]
  },
  {
   "cell_type": "code",
   "execution_count": 25,
   "metadata": {
    "collapsed": false,
    "deletable": true,
    "editable": true
   },
   "outputs": [],
   "source": [
    "m.addConstr(quicksum(openD[j] for j in District_List) <= maxOpenD)\n",
    "\n",
    "m.update()"
   ]
  },
  {
   "cell_type": "code",
   "execution_count": 26,
   "metadata": {
    "collapsed": false,
    "deletable": true,
    "editable": true
   },
   "outputs": [],
   "source": [
    "m.addConstr(quicksum(openA[k] for k in Appeals_List) <= maxOpenA)\n",
    "\n",
    "m.update()"
   ]
  },
  {
   "cell_type": "code",
   "execution_count": 27,
   "metadata": {
    "collapsed": false,
    "deletable": true,
    "editable": true
   },
   "outputs": [
    {
     "data": {
      "text/plain": [
       "<gurobi.Model MIP instance Afghanistan: 2670 constrs, 78901 vars, Parameter changes: LogFile=gurobi.log, LazyConstraints=1>"
      ]
     },
     "execution_count": 27,
     "metadata": {},
     "output_type": "execute_result"
    }
   ],
   "source": [
    "m"
   ]
  },
  {
   "cell_type": "markdown",
   "metadata": {
    "deletable": true,
    "editable": true
   },
   "source": [
    "### Set Objective Function"
   ]
  },
  {
   "cell_type": "markdown",
   "metadata": {
    "deletable": true,
    "editable": true
   },
   "source": [
    "#### D_ij and A_ik"
   ]
  },
  {
   "cell_type": "code",
   "execution_count": 28,
   "metadata": {
    "collapsed": false,
    "deletable": true,
    "editable": true
   },
   "outputs": [],
   "source": [
    " m.setObjective(\n",
    "        quicksum(   quicksum(   Dist_D[i,j]*d_t[j][i] for i in d_t[j])    for j in District_List) + \\\n",
    "        quicksum(   quicksum(   Dist_A[i,k]*a_t[k][i] for i in a_t[k])    for k in Appeals_List), GRB.MINIMIZE)\n",
    "m.update()"
   ]
  },
  {
   "cell_type": "markdown",
   "metadata": {
    "collapsed": true,
    "deletable": true,
    "editable": true
   },
   "source": [
    "### Optimize"
   ]
  },
  {
   "cell_type": "markdown",
   "metadata": {
    "deletable": true,
    "editable": true
   },
   "source": [
    "##### Iteratively add violated linking constraints"
   ]
  },
  {
   "cell_type": "code",
   "execution_count": 29,
   "metadata": {
    "collapsed": true,
    "deletable": true,
    "editable": true
   },
   "outputs": [],
   "source": [
    "#Dual steepest edge pivoting"
   ]
  },
  {
   "cell_type": "code",
   "execution_count": 30,
   "metadata": {
    "collapsed": false,
    "deletable": true,
    "editable": true
   },
   "outputs": [
    {
     "name": "stdout",
     "output_type": "stream",
     "text": [
      "Optimize\n",
      "Optimize a model with 2670 rows, 78901 columns and 158236 nonzeros\n",
      "Variable types: 78467 continuous, 434 integer (434 binary)\n",
      "Coefficient statistics:\n",
      "  Matrix range     [1e+00, 1e+05]\n",
      "  Objective range  [3e-01, 3e+02]\n",
      "  Bounds range     [1e+00, 1e+00]\n",
      "  RHS range        [1e+00, 5e+01]\n",
      "Found heuristic solution: objective 276813\n",
      "Presolve removed 6 rows and 5 columns\n",
      "Presolve time: 0.15s\n",
      "Presolved: 2664 rows, 78896 columns, 157547 nonzeros\n",
      "Variable types: 78464 continuous, 432 integer (432 binary)\n",
      "\n",
      "Root relaxation: objective 5.487764e+04, 347 iterations, 0.03 seconds\n",
      "\n",
      "    Nodes    |    Current Node    |     Objective Bounds      |     Work\n",
      " Expl Unexpl |  Obj  Depth IntInf | Incumbent    BestBd   Gap | It/Node Time\n",
      "\n",
      "     0     0 54877.6393    0  288 276813.487 54877.6393  80.2%     -    0s\n",
      "H    0     0                    103962.60429 54877.6393  47.2%     -    2s\n",
      "     0     0 59030.5019    0  257 103962.604 59030.5019  43.2%     -    2s\n",
      "     0     0 59030.5019    0  257 103962.604 59030.5019  43.2%     -    3s\n",
      "     0     0 68011.0067    0  280 103962.604 68011.0067  34.6%     -    4s\n",
      "H    0     0                    100069.86075 68011.0067  32.0%     -    4s\n",
      "     0     0 68030.9232    0  283 100069.861 68030.9232  32.0%     -    4s\n",
      "     0     0 73012.5941    0  278 100069.861 73012.5941  27.0%     -    4s\n",
      "H    0     0                    98377.412732 73012.5941  25.8%     -    5s\n",
      "     0     0 73041.3304    0  279 98377.4127 73041.3304  25.8%     -    5s\n",
      "     0     0 75508.8657    0  259 98377.4127 75508.8657  23.2%     -    5s\n",
      "H    0     0                    90342.813145 75508.8657  16.4%     -    5s\n",
      "     0     0 75565.7567    0  260 90342.8131 75565.7567  16.4%     -    5s\n",
      "     0     0 76623.9985    0  235 90342.8131 76623.9985  15.2%     -    6s\n",
      "H    0     0                    90097.238432 76623.9985  15.0%     -    6s\n",
      "     0     0 76698.1386    0  234 90097.2384 76698.1386  14.9%     -    6s\n",
      "     0     0 77535.9086    0  231 90097.2384 77535.9086  13.9%     -    6s\n",
      "H    0     0                    87120.153277 77535.9086  11.0%     -    6s\n",
      "     0     0 77610.5603    0  251 87120.1533 77610.5603  10.9%     -    7s\n",
      "     0     0 78209.9032    0  216 87120.1533 78209.9032  10.2%     -    7s\n",
      "H    0     0                    84020.809845 78209.9032  6.92%     -    7s\n",
      "     0     0 78269.9654    0  199 84020.8098 78269.9654  6.84%     -    7s\n",
      "     0     0 78664.7819    0  191 84020.8098 78664.7819  6.37%     -    8s\n",
      "H    0     0                    82733.250263 78664.7819  4.92%     -    8s\n",
      "     0     0 78702.1438    0  183 82733.2503 78702.1438  4.87%     -    8s\n",
      "     0     0 78985.4310    0  181 82733.2503 78985.4310  4.53%     -    8s\n",
      "     0     0 79012.8233    0  161 82733.2503 79012.8233  4.50%     -    9s\n",
      "     0     0 79204.2654    0  177 82733.2503 79204.2654  4.27%     -    9s\n",
      "H    0     0                    81222.209766 79204.2654  2.48%     -    9s\n",
      "     0     0 79227.1595    0  179 81222.2098 79227.1595  2.46%     -    9s\n",
      "     0     0 79380.7201    0  181 81222.2098 79380.7201  2.27%     -   10s\n",
      "H    0     0                    80898.551815 79380.7201  1.88%     -   11s\n",
      "     0     2 79380.7201    0  181 80898.5518 79380.7201  1.88%     -   11s\n",
      "H   29    29                    80293.339040 79430.2990  1.07%  32.4   12s\n",
      "H   56    57                    80052.037807 79430.2990  0.78%  23.2   13s\n",
      "H  119   120                    79939.446910 79430.2990  0.64%  20.5   14s\n",
      "   163   163 79640.5072   77  118 79939.4469 79430.2990  0.64%  18.9   15s\n",
      "H  316   268                    79914.001170 79430.2990  0.61%  16.8   17s\n",
      "H  411   304                    79874.599258 79430.2990  0.56%  18.4   19s\n",
      "   423   318 79504.6757    4  133 79874.5993 79475.1029  0.50%  18.9   20s\n",
      "H  633   486                    79873.725259 79475.1029  0.50%  19.5   24s\n",
      "   666   504 79863.4095  115   92 79873.7253 79512.1288  0.45%  19.5   25s\n",
      "H  724   523                    79820.547287 79820.4362  0.00%  20.7   29s\n",
      "\n",
      "Explored 724 nodes (33103 simplex iterations) in 29.94 seconds\n",
      "Thread count was 4 (of 4 available processors)\n",
      "\n",
      "Solution count 10: 79820.5 79873.7 79874.6 ... 82733.3\n",
      "Pool objective bound 79820.4\n",
      "\n",
      "Optimal solution found (tolerance 1.00e-04)\n",
      "Best objective 7.982054728748e+04, best bound 7.982043617342e+04, gap 0.0001%\n"
     ]
    }
   ],
   "source": [
    "\n",
    "print(\"Optimize\")\n",
    "m.optimize()"
   ]
  },
  {
   "cell_type": "code",
   "execution_count": null,
   "metadata": {
    "collapsed": true
   },
   "outputs": [],
   "source": [
    "if where == GRB.callback.MIPSOL:\n",
    "        for i in Settlement_List:\n",
    "            sol_d = model.cbGetSolution([model.getVarByName(d[i,j]) for j in District_List])\n",
    "            sol_a = model.cbGetSolution([model._a[i,k] for k in Appeals_List])\n",
    "        for j in District_List:\n",
    "            sol_c = model.cbGetSolution([model._c[j,k] for k in Appeals_List])\n",
    "        print(sol_d)"
   ]
  },
  {
   "cell_type": "markdown",
   "metadata": {
    "collapsed": true,
    "deletable": true,
    "editable": true
   },
   "source": [
    "### Output Solution"
   ]
  },
  {
   "cell_type": "code",
   "execution_count": null,
   "metadata": {
    "collapsed": false,
    "deletable": true,
    "editable": true
   },
   "outputs": [],
   "source": [
    "m.write(\"out.sol\")"
   ]
  },
  {
   "cell_type": "markdown",
   "metadata": {
    "deletable": true,
    "editable": true
   },
   "source": [
    "###  Plotting"
   ]
  },
  {
   "cell_type": "markdown",
   "metadata": {
    "deletable": true,
    "editable": true
   },
   "source": [
    "#### DOUT"
   ]
  },
  {
   "cell_type": "code",
   "execution_count": null,
   "metadata": {
    "collapsed": false,
    "deletable": true,
    "editable": true
   },
   "outputs": [],
   "source": [
    "# DOUT - District Assignments\n",
    "\n",
    "DOUT = pd.DataFrame.from_dict({(i,j): VarVal(d[i][j]) \n",
    "                           for i in d.keys() \n",
    "                           for j in d[i].keys()},\n",
    "                           orient='index')\n",
    "\n",
    "Settlements_DOUT = [i[0] for i in DOUT.index]\n",
    "Districts_DOUT = [i[1] for i in DOUT.index]\n",
    "\n",
    "DOUT['Settlement'] = Settlements_DOUT\n",
    "DOUT['DistrictCourts'] = Districts_DOUT\n",
    "\n",
    "DOUT = DOUT[DOUT[0] == 1.0]"
   ]
  },
  {
   "cell_type": "markdown",
   "metadata": {
    "deletable": true,
    "editable": true
   },
   "source": [
    "#### AOUT"
   ]
  },
  {
   "cell_type": "code",
   "execution_count": null,
   "metadata": {
    "collapsed": false,
    "deletable": true,
    "editable": true
   },
   "outputs": [],
   "source": [
    "#AOUT - Appeals Assignments\n",
    "\n",
    "AOUT = pd.DataFrame.from_dict({(i,j): VarVal(a[i][j]) \n",
    "                           for i in a.keys() \n",
    "                           for j in a[i].keys()},\n",
    "                           orient='index')\n",
    "\n",
    "Settlements_AOUT = [i[0] for i in AOUT.index]\n",
    "Appeals_AOUT = [i[1] for i in AOUT.index]\n",
    "\n",
    "AOUT['Settlement'] = Settlements_AOUT\n",
    "AOUT['AppealsCourts'] = Appeals_AOUT\n",
    "\n",
    "AOUT = AOUT[AOUT[0] == 1.0]"
   ]
  },
  {
   "cell_type": "markdown",
   "metadata": {
    "deletable": true,
    "editable": true
   },
   "source": [
    "#### COUT"
   ]
  },
  {
   "cell_type": "code",
   "execution_count": null,
   "metadata": {
    "collapsed": false,
    "deletable": true,
    "editable": true
   },
   "outputs": [],
   "source": [
    "#COUT - Appeals Assignments\n",
    "\n",
    "COUT = pd.DataFrame.from_dict({(i,j): VarVal(c[i][j]) \n",
    "                           for i in c.keys() \n",
    "                           for j in c[i].keys()},\n",
    "                           orient='index')\n",
    "\n",
    "Districts_COUT = [i[0] for i in COUT.index]\n",
    "Appeals_COUT = [i[1] for i in COUT.index]\n",
    "\n",
    "COUT['DistrictCourts'] = Districts_COUT\n",
    "COUT['AppealsCourts'] = Appeals_COUT\n",
    "\n",
    "COUT = COUT[COUT[0] == 1.0]"
   ]
  },
  {
   "cell_type": "markdown",
   "metadata": {
    "deletable": true,
    "editable": true
   },
   "source": [
    "#### Plot all Locations"
   ]
  },
  {
   "cell_type": "code",
   "execution_count": null,
   "metadata": {
    "collapsed": false,
    "deletable": true,
    "editable": true
   },
   "outputs": [],
   "source": [
    "plt.scatter(Settlements['LON_X'],Settlements['LAT_Y'])\n",
    "plt.scatter(Districts['LON_X'],Districts['LAT_Y'], color='Red', marker = 's')\n",
    "plt.scatter(Appeals['LON_X'],Appeals['LAT_Y'], color='Green', marker = '^')\n",
    "plt.show()"
   ]
  },
  {
   "cell_type": "markdown",
   "metadata": {
    "deletable": true,
    "editable": true
   },
   "source": [
    "#### Plotting Assignments"
   ]
  },
  {
   "cell_type": "code",
   "execution_count": null,
   "metadata": {
    "collapsed": false,
    "deletable": true,
    "editable": true,
    "scrolled": false
   },
   "outputs": [],
   "source": [
    "#Drawing Lines\n",
    "plt.figure(figsize=(14,14))\n",
    "\n",
    "#Plotting Points    \n",
    "plt.scatter(Settlements['LON_X'],Settlements['LAT_Y'])\n",
    "plt.scatter(Districts['LON_X'],Districts['LAT_Y'], color='Red', marker = 's',s=25)\n",
    "plt.scatter(Appeals['LON_X'],Appeals['LAT_Y'], color='Green', marker = '^',s = 400)\n",
    "\n",
    "for index,row in DOUT.iterrows():\n",
    "    s = row['Settlement'] \n",
    "    d = row['DistrictCourts']\n",
    "    #Get District number that Settlement is linked to\n",
    "    Dist = Districts.loc[Districts['DIST_CODE'] == d]\n",
    "    Sett = Settlements.loc[Settlements['OBJECTID'] == s]\n",
    "    X = [Sett.iloc[0,2],Dist.iloc[0,1]]\n",
    "    Y = [Sett.iloc[0,1],Dist.iloc[0,2]]\n",
    "    plt.scatter(Dist.iloc[0,1],Dist.iloc[0,2], color='Orange', marker = 's',s = 100)\n",
    "    plt.plot(X,Y,zorder=1, color=\"Black\")\n",
    "\n",
    "\n",
    "\n",
    "#axes = plt.gca()\n",
    "#axes.set_xlim([68.2,70])\n",
    "#axes.set_ylim([34,35.5])\n",
    "\n",
    "plt.show()"
   ]
  },
  {
   "cell_type": "code",
   "execution_count": null,
   "metadata": {
    "collapsed": false,
    "deletable": true,
    "editable": true
   },
   "outputs": [],
   "source": [
    "#Draw Lines\n",
    "plt.figure(figsize=(14,14))\n",
    "\n",
    "for index,row in COUT.iterrows():\n",
    "    d = row['DistrictCourts'] \n",
    "    a = row['AppealsCourts']\n",
    "\n",
    "    Dist = Districts.loc[Districts['DIST_CODE'] == d]\n",
    "    App = Appeals.loc[Appeals['PROV_CODE'] == a]\n",
    "\n",
    "    X = [Dist.iloc[0,1],App.iloc[0,1]]\n",
    "    Y = [Dist.iloc[0,2],App.iloc[0,2]]\n",
    "\n",
    "    plt.plot(X,Y,zorder=1, color=\"Black\")\n",
    "    \n",
    "clr = cm.rainbow(np.linspace(0, 1, D))\n",
    "for a in range(A):\n",
    "    X = Appeals.iloc[a,1]\n",
    "    Y = Appeals.iloc[a,2]\n",
    "    plt.scatter(X,Y, color=\"Green\", marker = '^')\n",
    "    \n",
    "for index,row in DOUT.iterrows():   \n",
    "    d = row['DistrictCourts'] \n",
    "    Dist = Districts.loc[Districts['DIST_CODE'] == d]\n",
    "    X = Dist.iloc[0,1]\n",
    "    Y = Dist.iloc[0,2]\n",
    "    c = Dist.index[0]\n",
    "    plt.scatter(X,Y, color=clr[c], marker = 's')\n",
    "    \n",
    "for index,row in DOUT.iterrows():\n",
    "    s = row['Settlement'] \n",
    "    d = row['DistrictCourts']\n",
    "    #Get District number that Settlement is linked to\n",
    "    Dist = Districts.loc[Districts['DIST_CODE'] == d]\n",
    "    Sett = Settlements.loc[Settlements['OBJECTID'] == s]\n",
    "\n",
    "    c = Dist.index[0]\n",
    "    X = Sett.iloc[0,2]                                                     \n",
    "    Y = Sett.iloc[0,1]\n",
    "    plt.scatter(X,Y, color=clr[c])\n",
    "          \n",
    "#axes = plt.gca()\n",
    "#axes.set_xlim([68.2,70])\n",
    "#axes.set_ylim([34,35.5])\n",
    "\n",
    "sf = shp.Reader(\"Afghanistan_Districts\",\"rb\")\n",
    "for shape in sf.shapeRecords():\n",
    "    x = [i[0] for i in shape.shape.points[:]]\n",
    "    y = [i[1] for i in shape.shape.points[:]]\n",
    "    plt.plot(x,y,color='k',linewidth=0.1)\n",
    "plt.show()"
   ]
  },
  {
   "cell_type": "code",
   "execution_count": null,
   "metadata": {
    "collapsed": true,
    "deletable": true,
    "editable": true
   },
   "outputs": [],
   "source": []
  }
 ],
 "metadata": {
  "anaconda-cloud": {},
  "kernelspec": {
   "display_name": "Python 2",
   "language": "python",
   "name": "python2"
  },
  "language_info": {
   "codemirror_mode": {
    "name": "ipython",
    "version": 2
   },
   "file_extension": ".py",
   "mimetype": "text/x-python",
   "name": "python",
   "nbconvert_exporter": "python",
   "pygments_lexer": "ipython2",
   "version": "2.7.13"
  }
 },
 "nbformat": 4,
 "nbformat_minor": 1
}
