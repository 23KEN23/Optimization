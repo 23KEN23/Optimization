{
 "cells": [
  {
   "cell_type": "code",
   "execution_count": 1,
   "metadata": {
    "collapsed": true,
    "deletable": true,
    "editable": true
   },
   "outputs": [],
   "source": [
    "from gurobipy import *\n",
    "import time\n",
    "import numpy as np\n",
    "import pandas as pd\n",
    "import matplotlib.pyplot as plt\n",
    "import matplotlib.cm as cm\n",
    "import shapefile as shp\n",
    "from collections import defaultdict"
   ]
  },
  {
   "cell_type": "code",
   "execution_count": 2,
   "metadata": {
    "collapsed": true,
    "deletable": true,
    "editable": true
   },
   "outputs": [],
   "source": [
    "#M = 100000\n",
    "maxOpenD = 6\n",
    "maxOpenA = 3\n",
    "\n",
    "maxDist_D = 150\n",
    "maxDist_A = 350\n",
    "\n",
    "#maxPopD- max capacity of each district court\n",
    "#maxPopA - max capacity of each appeals court\n",
    "\n",
    "#langS\n",
    "#langD\n",
    "#langA"
   ]
  },
  {
   "cell_type": "markdown",
   "metadata": {
    "deletable": true,
    "editable": true
   },
   "source": [
    "### Extract Data"
   ]
  },
  {
   "cell_type": "code",
   "execution_count": 3,
   "metadata": {
    "collapsed": false,
    "deletable": true,
    "editable": true,
    "scrolled": true
   },
   "outputs": [],
   "source": [
    "#Get Settlement List\n",
    "#Sfile = \"prov_code_1\"\n",
    "Sfile = \"prov_code_24_25_26\" #change to use different settlement files (updates console and solution log files)\n",
    "#Sfile = \"afg_ppl_settlement_pnt\" \n",
    "\n",
    "Settlements=pd.read_csv(\"%s.csv\"%Sfile,sep=\",\")\n",
    "Settlements = Settlements[[\"OBJECTID\",\"POPULATION\", \"LAT_Y\",\"LON_X\"]]\n",
    "#Settlements=Settlements[[0,10,11]]\n",
    "S = Settlements.shape[0]\n",
    "Settlement_List = Settlements['OBJECTID'].tolist()\n",
    "\n",
    "#Get District Court List\n",
    "Districts = pd.read_csv(\"District_Courts.csv\",sep=\",\")\n",
    "Districts = Districts[[\"DIST_CODE\",\"POP\",\"LON_X\", \"LAT_Y\"]]\n",
    "#Districts = Districts[[1,4,5]]\n",
    "D = Districts.shape[0]\n",
    "District_List = Districts['DIST_CODE'].tolist()\n",
    "\n",
    "#Get Appeals Court List\n",
    "Appeals = pd.read_csv(\"Appeals_Courts.csv\",sep=\",\")\n",
    "Appeals = Appeals[[\"PROV_CODE\",\"POP\",\"LON_X\", \"LAT_Y\"]]\n",
    "#Appeals = Appeals[[1,4,5]]\n",
    "A = Appeals.shape[0]\n",
    "Appeals_List = Appeals['PROV_CODE'].tolist()"
   ]
  },
  {
   "cell_type": "code",
   "execution_count": null,
   "metadata": {
    "collapsed": false,
    "deletable": true,
    "editable": true
   },
   "outputs": [],
   "source": []
  },
  {
   "cell_type": "markdown",
   "metadata": {
    "deletable": true,
    "editable": true
   },
   "source": [
    "#### Create Data Subset for Settlements"
   ]
  },
  {
   "cell_type": "markdown",
   "metadata": {
    "deletable": true,
    "editable": true
   },
   "source": [
    "#### ------------------------------------------------"
   ]
  },
  {
   "cell_type": "code",
   "execution_count": 4,
   "metadata": {
    "collapsed": false,
    "deletable": true,
    "editable": true
   },
   "outputs": [],
   "source": [
    "#Settlements = Settlements.sample(frac = 0.02, replace = False, random_state = 23)\n",
    "# = Settlements.shape[0]\n",
    "#Settlement_List = Settlements['OBJECTID'].tolist()"
   ]
  },
  {
   "cell_type": "markdown",
   "metadata": {
    "deletable": true,
    "editable": true
   },
   "source": [
    "### Set Parameters"
   ]
  },
  {
   "cell_type": "markdown",
   "metadata": {
    "deletable": true,
    "editable": true
   },
   "source": [
    "####  ------------------------------------------------"
   ]
  },
  {
   "cell_type": "code",
   "execution_count": 5,
   "metadata": {
    "collapsed": false,
    "deletable": true,
    "editable": true
   },
   "outputs": [],
   "source": [
    "#Create Dictionaries\n",
    "Settlement_Dict = Settlements.set_index('OBJECTID').T.to_dict('list')\n",
    "District_Dict = Districts.set_index('DIST_CODE').T.to_dict('list')\n",
    "Appeals_Dict = Appeals.set_index('PROV_CODE').T.to_dict('list')"
   ]
  },
  {
   "cell_type": "code",
   "execution_count": null,
   "metadata": {
    "collapsed": false,
    "deletable": true,
    "editable": true
   },
   "outputs": [],
   "source": []
  },
  {
   "cell_type": "code",
   "execution_count": null,
   "metadata": {
    "collapsed": false,
    "deletable": true,
    "editable": true
   },
   "outputs": [],
   "source": []
  },
  {
   "cell_type": "code",
   "execution_count": 6,
   "metadata": {
    "collapsed": false,
    "deletable": true,
    "editable": true
   },
   "outputs": [],
   "source": [
    "#Create Dictionaries for District Courthouse Distances\n",
    "\n",
    "Dist_D = {}\n",
    "\n",
    "R = 6371e3\n",
    "\n",
    "\n",
    "for d in District_List:\n",
    "    d_lon = District_Dict[d][1]\n",
    "    d_lat = District_Dict[d][2]\n",
    "    phi2 = np.radians(d_lat)\n",
    "    \n",
    "\n",
    "    for s in Settlement_List:\n",
    "        s_lon = Settlement_Dict[s][2]\n",
    "        s_lat = Settlement_Dict[s][1]\n",
    "        phi1 = np.radians(s_lat)\n",
    "        \n",
    "        #Distance to District Court\n",
    "        delta_phi = np.radians(d_lat - s_lat)\n",
    "        delta_lambda = np.radians(d_lon - s_lon)\n",
    "        a = np.sin(delta_phi/2) * np.sin(delta_phi/2) + np.cos(phi1) * np.cos(phi2) * np.sin(delta_lambda/2) * np.sin(delta_lambda/2)\n",
    "        c = 2 * np.arctan2(np.sqrt(a), np.sqrt(1-a))\n",
    "        \n",
    "        Dist_D[s,d] = (R * c)/1000\n",
    "    "
   ]
  },
  {
   "cell_type": "code",
   "execution_count": 7,
   "metadata": {
    "collapsed": false,
    "deletable": true,
    "editable": true
   },
   "outputs": [],
   "source": [
    "#Create Dictionaries for Appeals Courthouse Distances\n",
    "\n",
    "Dist_A = {}\n",
    "\n",
    "R = 6371e3\n",
    "\n",
    "for a in Appeals_List:\n",
    "    a_lon = Appeals_Dict[a][1]\n",
    "    a_lat = Appeals_Dict[a][2]\n",
    "    theta_3 = np.radians(a_lat)\n",
    "\n",
    "    for s in Settlement_List:\n",
    "        s_lon = Settlement_Dict[s][2]\n",
    "        s_lat = Settlement_Dict[s][1]\n",
    "        theta_1 = np.radians(s_lat)\n",
    "        \n",
    "        #Distance to District Court\n",
    "        delta_theta_ = np.radians(a_lat - s_lat)\n",
    "        delta_lambda = np.radians(a_lon - s_lon)\n",
    "        a1 = np.sin(delta_theta_/2) * np.sin(delta_theta_/2) + np.cos(theta_1) * np.cos(theta_3) * np.sin(delta_lambda/2) * np.sin(delta_lambda/2)\n",
    "        c = 2 * np.arctan2(np.sqrt(a1), np.sqrt(1-a1))\n",
    "        \n",
    "        Dist_A[s,a] = (R * c)/1000\n",
    "        \n",
    "    "
   ]
  },
  {
   "cell_type": "code",
   "execution_count": 8,
   "metadata": {
    "collapsed": false,
    "deletable": true,
    "editable": true
   },
   "outputs": [],
   "source": [
    "#Create Dictionaries for populations\n",
    "s_pop = {}\n",
    "for s in Settlement_List:\n",
    "    s_pop[s] = Settlement_Dict[s][0] #population of each settlement\n",
    "\n",
    "#CAPACITY OF COURTHOUSES DETERMINED BY CURRENT POPULATION IN PROVINCE/DISTRICT\n",
    "#(MIGHT WANT TO USE STANDARD NUMBER ACROSS ALL COURTHOUSES??)\n",
    "d_pop = {}\n",
    "for d in District_List:\n",
    "    d_pop[d] = District_Dict[d][0]\n",
    "    \n",
    "a_pop = {}\n",
    "for a in Appeals_List:\n",
    "    a_pop[a] = Appeals_Dict[a][0]"
   ]
  },
  {
   "cell_type": "markdown",
   "metadata": {
    "deletable": true,
    "editable": true
   },
   "source": [
    "### Create Model"
   ]
  },
  {
   "cell_type": "code",
   "execution_count": 9,
   "metadata": {
    "collapsed": false,
    "deletable": true,
    "editable": true
   },
   "outputs": [
    {
     "name": "stdout",
     "output_type": "stream",
     "text": [
      "Parameter OutputFlag unchanged\n",
      "   Value: 1  Min: 0  Max: 1  Default: 1\n",
      "Changed value of parameter LazyConstraints to 1\n",
      "   Prev: 0  Min: 0  Max: 1  Default: 0\n",
      "Changed value of parameter LogFile to log_LPIP_prov_code_24_25_26.log\n",
      "   Prev: gurobi.log  Default: \n",
      "Parameter OutputFlag unchanged\n",
      "   Value: 1  Min: 0  Max: 1  Default: 1\n",
      "Changed value of parameter LazyConstraints to 1\n",
      "   Prev: 0  Min: 0  Max: 1  Default: 0\n",
      "Changed value of parameter LogFile to log_LPIP_prov_code_24_25_26.log\n",
      "   Prev: gurobi.log  Default: \n"
     ]
    }
   ],
   "source": [
    "#Create Model\n",
    "IP = Model(\"Afg_IP\")\n",
    "LP = Model(\"Afg_LP\")\n",
    "\n",
    "IP.Params.OutputFlag = 1\n",
    "IP.params.LazyConstraints = 1\n",
    "IP.Params.LogFile=\"log_LPIP_%s.log\"%Sfile\n",
    "\n",
    "LP.Params.OutputFlag = 1\n",
    "LP.params.LazyConstraints = 1\n",
    "LP.Params.LogFile=\"log_LPIP_%s.log\"%Sfile"
   ]
  },
  {
   "cell_type": "markdown",
   "metadata": {
    "deletable": true,
    "editable": true
   },
   "source": [
    "### Create Variables"
   ]
  },
  {
   "cell_type": "markdown",
   "metadata": {
    "deletable": true,
    "editable": true
   },
   "source": [
    "##### Helper function"
   ]
  },
  {
   "cell_type": "code",
   "execution_count": 10,
   "metadata": {
    "collapsed": false,
    "deletable": true,
    "editable": true
   },
   "outputs": [],
   "source": [
    "# Return value of variable\n",
    "def VarVal(var):\n",
    "    if (type(var) == gurobipy.Var):\n",
    "        val = var.X\n",
    "\n",
    "    else:\n",
    "        val = 0\n",
    "    return val"
   ]
  },
  {
   "cell_type": "markdown",
   "metadata": {
    "deletable": true,
    "editable": true
   },
   "source": [
    "##### d_ij"
   ]
  },
  {
   "cell_type": "code",
   "execution_count": 11,
   "metadata": {
    "collapsed": false,
    "deletable": true,
    "editable": true
   },
   "outputs": [],
   "source": [
    "# Create d_i_j variables\n",
    "d_IP = {}\n",
    "d_LP = {}\n",
    "for i in Settlement_List:\n",
    "    d_IP[i] = {}\n",
    "    d_LP[i] = {}\n",
    "    for j in District_List:\n",
    "        if Dist_D[i,j] < maxDist_D:\n",
    "            d_IP[i][j] = IP.addVar(vtype=GRB.BINARY, name='d_IP_%s_%s' % (i, j))\n",
    "            d_LP[i][j] = LP.addVar(vtype=GRB.CONTINUOUS, lb=0, ub=1, name='d_LP_%s_%s' % (i, j))\n",
    "            #d[i][j].start=10000\n",
    "        else:\n",
    "            d_IP[i][j] = 0\n",
    "            d_LP[i][j] = 0\n",
    "IP.update()\n",
    "LP.update()"
   ]
  },
  {
   "cell_type": "code",
   "execution_count": 12,
   "metadata": {
    "collapsed": true,
    "deletable": true,
    "editable": true
   },
   "outputs": [],
   "source": [
    "# Create d_i_j transpose dictionary \n",
    "#d_t = defaultdict(dict)\n",
    "#for key, val in d.items():\n",
    "#    for subkey, subval in val.items():\n",
    "#        d_t[subkey][key] = subval"
   ]
  },
  {
   "cell_type": "markdown",
   "metadata": {
    "deletable": true,
    "editable": true
   },
   "source": [
    "##### a_ik"
   ]
  },
  {
   "cell_type": "code",
   "execution_count": 13,
   "metadata": {
    "collapsed": false,
    "deletable": true,
    "editable": true
   },
   "outputs": [],
   "source": [
    " # Create a_i_k variables\n",
    "a_LP = {}\n",
    "a_IP = {}\n",
    "for i in Settlement_List:\n",
    "    a_LP[i] = {}\n",
    "    a_IP[i] = {}\n",
    "    for k in Appeals_List:\n",
    "        a_LP[i][k] = {}\n",
    "        a_IP[i][k] = {}\n",
    "        if Dist_A[i,k] < maxDist_A:\n",
    "            a_LP[i][k] = LP.addVar(vtype=GRB.CONTINUOUS,lb=0,ub=1, name='a_LP_%s_%s' % (i, k))\n",
    "            a_IP[i][k] = IP.addVar(vtype=GRB.BINARY, name='a_IP_%s_%s' % (i, k))\n",
    "           #a[i][k].start=0\n",
    "        else:\n",
    "            a_IP[i][k] = 0\n",
    "            a_LP[i][k] = 0\n",
    "IP.update()\n",
    "LP.update()"
   ]
  },
  {
   "cell_type": "code",
   "execution_count": 14,
   "metadata": {
    "collapsed": true,
    "deletable": true,
    "editable": true
   },
   "outputs": [],
   "source": [
    "# Create a_i_k transpose dictionary \n",
    "#a_t = defaultdict(dict)\n",
    "#for key, val in a.items():\n",
    "#    for subkey, subval in val.items():\n",
    "#        a_t[subkey][key] = subval"
   ]
  },
  {
   "cell_type": "markdown",
   "metadata": {
    "deletable": true,
    "editable": true
   },
   "source": [
    "##### c_jk"
   ]
  },
  {
   "cell_type": "code",
   "execution_count": 15,
   "metadata": {
    "collapsed": false,
    "deletable": true,
    "editable": true
   },
   "outputs": [],
   "source": [
    "# Create c_j_k variables\n",
    "c_LP = {}\n",
    "c_IP = {}\n",
    "for j in District_List:\n",
    "    c_LP[j] = {}\n",
    "    c_IP[j] = {}\n",
    "    for k in Appeals_List:\n",
    "        c_LP[j][k] = LP.addVar(vtype=GRB.CONTINUOUS, lb=0, ub=1, name='c_LP_%s_%s' % (j, k))\n",
    "        c_IP[j][k] = IP.addVar(vtype=GRB.BINARY, lb=0, ub=1, name='c_IP_%s_%s' % (j, k))\n",
    "LP.update()\n",
    "IP.update()"
   ]
  },
  {
   "cell_type": "code",
   "execution_count": 16,
   "metadata": {
    "collapsed": true,
    "deletable": true,
    "editable": true
   },
   "outputs": [],
   "source": [
    "# Create c_j_k transpose dictionary \n",
    "#c_t = defaultdict(dict)\n",
    "#for key, val in c.items():\n",
    "#    for subkey, subval in val.items():\n",
    "#        c_t[subkey][key] = subval"
   ]
  },
  {
   "cell_type": "markdown",
   "metadata": {
    "deletable": true,
    "editable": true
   },
   "source": [
    "##### openD"
   ]
  },
  {
   "cell_type": "code",
   "execution_count": 17,
   "metadata": {
    "collapsed": false,
    "deletable": true,
    "editable": true
   },
   "outputs": [],
   "source": [
    "#Create openD variables\n",
    "openD_LP = {}\n",
    "openD_IP = {}\n",
    "for j in District_List:\n",
    "    openD_LP[j] = LP.addVar(vtype=GRB.CONTINUOUS, lb=0, ub=1, name='openD_LP_%s' % (j))\n",
    "    openD_IP[j] = IP.addVar(vtype=GRB.BINARY, lb=0, ub=1, name='openD_IP_%s' % (j))\n",
    "LP.update()\n",
    "IP.update()"
   ]
  },
  {
   "cell_type": "markdown",
   "metadata": {
    "deletable": true,
    "editable": true
   },
   "source": [
    "##### openA"
   ]
  },
  {
   "cell_type": "code",
   "execution_count": 18,
   "metadata": {
    "collapsed": true,
    "deletable": true,
    "editable": true
   },
   "outputs": [],
   "source": [
    "#Create openA variables\n",
    "openA_LP = {}\n",
    "openA_IP = {}\n",
    "for k in Appeals_List:\n",
    "    openA_LP[k] = LP.addVar(vtype=GRB.CONTINUOUS, lb=0, ub=1, name='openA_LP_%s' % (k))\n",
    "    openA_IP[k] = IP.addVar(vtype=GRB.BINARY, lb=0, ub=1, name='openA_IP_%s' % (k))\n",
    "LP.update()\n",
    "IP.update()"
   ]
  },
  {
   "cell_type": "markdown",
   "metadata": {
    "deletable": true,
    "editable": true
   },
   "source": [
    "### Create Constraints"
   ]
  },
  {
   "cell_type": "markdown",
   "metadata": {
    "deletable": true,
    "editable": true
   },
   "source": [
    "##### D_ij row sums and column sums"
   ]
  },
  {
   "cell_type": "code",
   "execution_count": 19,
   "metadata": {
    "collapsed": true,
    "deletable": true,
    "editable": true
   },
   "outputs": [],
   "source": [
    "#One S -> D Assignment\n",
    "for i in Settlement_List:\n",
    "    LP.addConstr(quicksum(d_LP[i][j] for j in District_List) == 1)\n",
    "    IP.addConstr(quicksum(d_IP[i][j] for j in District_List) == 1)\n",
    "LP.update()\n",
    "IP.update()"
   ]
  },
  {
   "cell_type": "code",
   "execution_count": 20,
   "metadata": {
    "collapsed": true,
    "deletable": true,
    "editable": true
   },
   "outputs": [],
   "source": [
    "#Maximum District Courts Open\n",
    "for j in District_List:\n",
    "    LP.addConstr(quicksum(d_LP[i][j] for i in Settlement_List) <= S * openD_LP[j])\n",
    "    IP.addConstr(quicksum(d_IP[i][j] for i in Settlement_List) <= S * openD_IP[j])\n",
    "LP.update()\n",
    "IP.update()"
   ]
  },
  {
   "cell_type": "markdown",
   "metadata": {
    "deletable": true,
    "editable": true
   },
   "source": [
    "##### A_ik row sums and column sums"
   ]
  },
  {
   "cell_type": "code",
   "execution_count": 21,
   "metadata": {
    "collapsed": false,
    "deletable": true,
    "editable": true
   },
   "outputs": [],
   "source": [
    "#One S -> A Assignment\n",
    "for i in Settlement_List:\n",
    "    LP.addConstr(quicksum(a_LP[i][k] for k in Appeals_List) == 1)\n",
    "    IP.addConstr(quicksum(a_IP[i][k] for k in Appeals_List) == 1)\n",
    "IP.update()"
   ]
  },
  {
   "cell_type": "code",
   "execution_count": 22,
   "metadata": {
    "collapsed": false,
    "deletable": true,
    "editable": true
   },
   "outputs": [],
   "source": [
    "#Maximum Appeals Courts Open IP\n",
    "for k in Appeals_List:\n",
    "    LP.addConstr(quicksum(a_LP[i][k] for i in Settlement_List) <= S * openA_LP[k])\n",
    "    IP.addConstr(quicksum(a_IP[i][k] for i in Settlement_List) <= S * openA_IP[k])\n",
    "LP.update()\n",
    "IP.update()"
   ]
  },
  {
   "cell_type": "markdown",
   "metadata": {
    "deletable": true,
    "editable": true
   },
   "source": [
    "#### C_jk row sums and column sums"
   ]
  },
  {
   "cell_type": "code",
   "execution_count": 23,
   "metadata": {
    "collapsed": false,
    "deletable": true,
    "editable": true
   },
   "outputs": [],
   "source": [
    "#One D -> A Assignment LP\n",
    "for j in District_List:\n",
    "    LP.addConstr(quicksum(c_LP[j][k] for k in Appeals_List) == openD_LP[j])\n",
    "    IP.addConstr(quicksum(c_IP[j][k] for k in Appeals_List) == openD_IP[j])\n",
    "LP.update()\n",
    "IP.update()"
   ]
  },
  {
   "cell_type": "code",
   "execution_count": 24,
   "metadata": {
    "collapsed": false,
    "deletable": true,
    "editable": true
   },
   "outputs": [],
   "source": [
    "#C constraints\n",
    "for k in Appeals_List:\n",
    "    LP.addConstr(quicksum(c_LP[j][k] for j in District_List) <= D * openA_LP[k])\n",
    "    IP.addConstr(quicksum(c_IP[j][k] for j in District_List) <= D * openA_IP[k])\n",
    "LP.update()\n",
    "IP.update()"
   ]
  },
  {
   "cell_type": "markdown",
   "metadata": {
    "deletable": true,
    "editable": true
   },
   "source": [
    "##### Max Open Courthouse Constraints"
   ]
  },
  {
   "cell_type": "code",
   "execution_count": 25,
   "metadata": {
    "collapsed": false,
    "deletable": true,
    "editable": true
   },
   "outputs": [],
   "source": [
    "#LP Constraints\n",
    "LP.addConstr(quicksum(openD_LP[j] for j in District_List) <= maxOpenD)\n",
    "LP.addConstr(quicksum(openA_LP[k] for k in Appeals_List) <= maxOpenA)\n",
    "LP.update()\n",
    "\n",
    "#IP Constraints\n",
    "IP.addConstr(quicksum(openD_IP[j] for j in District_List) <= maxOpenD)\n",
    "IP.addConstr(quicksum(openA_IP[k] for k in Appeals_List) <= maxOpenA)\n",
    "IP.update()"
   ]
  },
  {
   "cell_type": "markdown",
   "metadata": {
    "deletable": true,
    "editable": true
   },
   "source": [
    "Max Population at Courthouse Constraints\n"
   ]
  },
  {
   "cell_type": "code",
   "execution_count": 26,
   "metadata": {
    "collapsed": false,
    "deletable": true,
    "editable": true
   },
   "outputs": [],
   "source": [
    "#for j in District_List:\n",
    "#    LP.addConstr(quicksum(s_pop[i]*d_LP[i][j] for i in Settlement_List) <= d_pop[j])\n",
    "#    IP.addConstr(quicksum(s_pop[i]*d_IP[i][j] for i in Settlement_List) <= d_pop[j])\n",
    "\n",
    "#for k in Appeals_List:\n",
    "#    LP.addConstr(quicksum(s_pop[i]*a_LP[i][k] for i in Settlement_List) <= a_pop[k])\n",
    "#    IP.addConstr(quicksum(s_pop[i]*a_IP[i][k] for i in Settlement_List) <= a_pop[k])\n",
    "#LP.update()\n",
    "#IP.update()"
   ]
  },
  {
   "cell_type": "code",
   "execution_count": 27,
   "metadata": {
    "collapsed": false,
    "deletable": true,
    "editable": true
   },
   "outputs": [
    {
     "data": {
      "text/plain": [
       "<gurobi.Model Continuous instance Afg_LP: 9210 constrs, 318983 vars, Parameter changes: LogFile=log_LPIP_prov_code_24_25_26.log, LazyConstraints=1>"
      ]
     },
     "execution_count": 27,
     "metadata": {},
     "output_type": "execute_result"
    }
   ],
   "source": [
    "LP\n"
   ]
  },
  {
   "cell_type": "code",
   "execution_count": 28,
   "metadata": {
    "collapsed": false,
    "deletable": true,
    "editable": true
   },
   "outputs": [
    {
     "data": {
      "text/plain": [
       "<gurobi.Model MIP instance Afg_IP: 9210 constrs, 318983 vars, Parameter changes: LogFile=log_LPIP_prov_code_24_25_26.log, LazyConstraints=1>"
      ]
     },
     "execution_count": 28,
     "metadata": {},
     "output_type": "execute_result"
    }
   ],
   "source": [
    "IP"
   ]
  },
  {
   "cell_type": "markdown",
   "metadata": {
    "deletable": true,
    "editable": true
   },
   "source": [
    "### Set Objective Function"
   ]
  },
  {
   "cell_type": "markdown",
   "metadata": {
    "deletable": true,
    "editable": true
   },
   "source": [
    "#### D_ij and A_ik"
   ]
  },
  {
   "cell_type": "code",
   "execution_count": 29,
   "metadata": {
    "collapsed": false,
    "deletable": true,
    "editable": true
   },
   "outputs": [],
   "source": [
    "LP.setObjective(\n",
    "        quicksum(   quicksum(   Dist_D[i,j]*d_LP[i][j] for i in Settlement_List)    for j in District_List) + \\\n",
    "        quicksum(   quicksum(   Dist_A[i,k]*a_LP[i][k] for i in Settlement_List)    for k in Appeals_List), GRB.MINIMIZE)\n",
    "LP.update()\n",
    "\n",
    "IP.setObjective(\n",
    "        quicksum(   quicksum(    Dist_D[i,j]*d_IP[i][j] for i in Settlement_List)    for j in District_List) + \\\n",
    "        quicksum(   quicksum(    Dist_A[i,k]*a_IP[i][k] for i in Settlement_List)    for k in Appeals_List), GRB.MINIMIZE)\n",
    "IP.update()"
   ]
  },
  {
   "cell_type": "code",
   "execution_count": 30,
   "metadata": {
    "collapsed": true,
    "deletable": true,
    "editable": true
   },
   "outputs": [],
   "source": [
    "#POPULATION WEIGHTED OBJECTIVES\n",
    "#LP.setObjective(\n",
    "#        quicksum(   quicksum(   s_pop[i]*Dist_D[i,j]*d_LP[i][j] for i in Settlement_List)    for j in District_List) + \\\n",
    "#        quicksum(   quicksum(   s_pop[i]*Dist_A[i,k]*a_LP[i][k] for i in Settlement_List)    for k in Appeals_List), GRB.MINIMIZE)\n",
    "#LP.update()\n",
    "\n",
    "#IP.setObjective(\n",
    "#        quicksum(   quicksum(    s_pop[i]*Dist_D[i,j]*d_IP[i][j] for i in Settlement_List)    for j in District_List) + \\\n",
    "#        quicksum(   quicksum(    s_pop[i]*Dist_A[i,k]*a_IP[i][k] for i in Settlement_List)    for k in Appeals_List), GRB.MINIMIZE)\n",
    "#IP.update()"
   ]
  },
  {
   "cell_type": "markdown",
   "metadata": {
    "deletable": true,
    "editable": true
   },
   "source": [
    "### Callback Function"
   ]
  },
  {
   "cell_type": "code",
   "execution_count": 31,
   "metadata": {
    "collapsed": false,
    "deletable": true,
    "editable": true
   },
   "outputs": [],
   "source": [
    "def mycallback(model, where):        \n",
    "    if where == GRB.Callback.MIPSOL:\n",
    "        d_temp = {}\n",
    "        a_temp = {}\n",
    "        c_temp = {}\n",
    "        for i in Settlement_List:\n",
    "            d_temp[i] = {}\n",
    "            a_temp[i] = {}\n",
    "        for j in District_List:\n",
    "            c_temp[j] = {}\n",
    "        \n",
    "        for i in Settlement_List:\n",
    "            for j in District_List:\n",
    "                if (type(d_IP[i][j]) == gurobipy.Var):\n",
    "                    d_temp[i][j] = IP.cbGetSolution(d_IP[i][j])\n",
    "                else:\n",
    "                    d_temp[i][j] = 0\n",
    "        \n",
    "        for i in Settlement_List:\n",
    "            for k in Appeals_List:\n",
    "                if (type(a_IP[i][k]) == gurobipy.Var):\n",
    "                    a_temp[i][k] = IP.cbGetSolution(a_IP[i][k])\n",
    "                else:\n",
    "                    a_temp[i][k] = 0\n",
    "                \n",
    "        for j in District_List:\n",
    "            for k in Appeals_List:\n",
    "                if (type(c_IP[j][k]) == gurobipy.Var):\n",
    "                    c_temp[j][k] = IP.cbGetSolution(c_IP[j][k])\n",
    "                else:\n",
    "                    c_temp[j][k] = 0\n",
    "                \n",
    "        for i in Settlement_List:\n",
    "            for j in District_List:\n",
    "                for k in Appeals_List:\n",
    "                    if (d_temp[i][j] + a_temp[i][k] - c_temp[j][k] > 1):\n",
    "                        IP.cbLazy(d_IP[i][j] + a_IP[i][k] - c_IP[j][k] <= 1)\n",
    "                    if (d_temp[i][j] + c_temp[j][k] - a_temp[i][k] > 1):\n",
    "                        IP.cbLazy(d_IP[i][j] + c_IP[j][k] - a_IP[i][k] <= 1)             \n",
    "                    \n"
   ]
  },
  {
   "cell_type": "markdown",
   "metadata": {
    "collapsed": true,
    "deletable": true,
    "editable": true
   },
   "source": [
    "### Optimize"
   ]
  },
  {
   "cell_type": "code",
   "execution_count": 32,
   "metadata": {
    "collapsed": false,
    "deletable": true,
    "editable": true
   },
   "outputs": [
    {
     "name": "stdout",
     "output_type": "stream",
     "text": [
      "Optimize a model with 9210 rows, 318983 columns and 638400 nonzeros\n",
      "Coefficient statistics:\n",
      "  Matrix range     [1e+00, 4e+03]\n",
      "  Objective range  [2e-01, 3e+02]\n",
      "  Bounds range     [1e+00, 1e+00]\n",
      "  RHS range        [1e+00, 6e+00]\n",
      "\n",
      "Concurrent LP optimizer: dual simplex and barrier\n",
      "Showing barrier log only...\n",
      "\n",
      "Presolve removed 236 rows and 0 columns\n",
      "Presolve time: 0.30s\n",
      "Presolved: 8974 rows, 318983 columns, 638164 nonzeros\n",
      "\n",
      "Ordering time: 0.03s\n",
      "\n",
      "Barrier statistics:\n",
      " AA' NZ     : 3.194e+05\n",
      " Factor NZ  : 3.980e+05 (roughly 130 MBytes of memory)\n",
      " Factor Ops : 2.914e+07 (less than 1 second per iteration)\n",
      " Threads    : 1\n",
      "\n",
      "Barrier performed 0 iterations in 0.52 seconds\n",
      "Barrier solve interrupted - model solved by another algorithm\n",
      "\n",
      "\n",
      "Solved with dual simplex\n",
      "Solved in 61 iterations and 0.54 seconds\n",
      "Optimal objective  2.242797355e+05\n"
     ]
    }
   ],
   "source": [
    "start_time = time.time()\n",
    "LP.optimize()"
   ]
  },
  {
   "cell_type": "code",
   "execution_count": 33,
   "metadata": {
    "collapsed": false,
    "deletable": true,
    "editable": true
   },
   "outputs": [],
   "source": [
    "#Set start values of c_IP\n",
    "for i in Settlement_List:\n",
    "    for j in District_List:\n",
    "        \n",
    "        openD_IP[j].start = round(openD_LP[j].X)\n",
    "        if (type(d_LP[i][j]) == gurobipy.Var):\n",
    "                d_IP[i][j].start = round(d_LP[i][j].X)\n",
    "                \n",
    "        for k in Appeals_List:\n",
    "            openA_IP[k].start = round(openA_LP[k].X)\n",
    "            c_IP[j][k].start = round(c_LP[j][k].X)\n",
    "\n",
    "            if (type(a_LP[i][k]) == gurobipy.Var):\n",
    "                a_IP[i][k].start = round(a_LP[i][k].X)\n",
    "            "
   ]
  },
  {
   "cell_type": "code",
   "execution_count": 34,
   "metadata": {
    "collapsed": false,
    "deletable": true,
    "editable": true
   },
   "outputs": [
    {
     "name": "stdout",
     "output_type": "stream",
     "text": [
      "Optimize a model with 9210 rows, 318983 columns and 638400 nonzeros\n",
      "Variable types: 0 continuous, 318983 integer (318983 binary)\n",
      "Coefficient statistics:\n",
      "  Matrix range     [1e+00, 4e+03]\n",
      "  Objective range  [2e-01, 3e+02]\n",
      "  Bounds range     [1e+00, 1e+00]\n",
      "  RHS range        [1e+00, 6e+00]\n",
      "Presolve removed 236 rows and 0 columns\n",
      "Presolve time: 0.97s\n",
      "Presolved: 8974 rows, 318983 columns, 638164 nonzeros\n",
      "\n",
      "MIP start did not produce a new incumbent solution\n",
      "MIP start violates constraint R4285 by 1.000000000\n",
      "\n",
      "Variable types: 0 continuous, 318983 integer (318983 binary)\n",
      "Found heuristic solution: objective 906927.40205\n",
      "\n",
      "Root simplex log...\n",
      "\n",
      "Iteration    Objective       Primal Inf.    Dual Inf.      Time\n",
      "       0    0.0000000e+00   8.340000e+03   0.000000e+00     96s\n",
      "    8454    2.2427974e+05   0.000000e+00   0.000000e+00     96s\n",
      "\n",
      "Root relaxation: objective 2.242797e+05, 8454 iterations, 0.13 seconds\n",
      "\n",
      "    Nodes    |    Current Node    |     Objective Bounds      |     Work\n",
      " Expl Unexpl |  Obj  Depth IntInf | Incumbent    BestBd   Gap | It/Node Time\n",
      "\n",
      "     0     0 224279.735    0  103 906927.402 224279.735  75.3%     -   96s\n",
      "Another try with MIP start\n",
      "     0     0 224279.735    0  103 906927.402 224279.735  75.3%     -  144s\n",
      "     0     0 224279.735    0  103 906927.402 224279.735  75.3%     -  176s\n",
      "     0     0 224279.735    0  103 906927.402 224279.735  75.3%     -  207s\n",
      "     0     0 224279.735    0  103 906927.402 224279.735  75.3%     -  239s\n",
      "     0     0 224279.735    0  103 906927.402 224279.735  75.3%     -  273s\n",
      "     0     0 224279.735    0  103 906927.402 224279.735  75.3%     -  307s\n",
      "     0     0 252777.899    0 4037 906927.402 252777.899  72.1%     -  310s\n",
      "     0     0 252777.899    0 4037 906927.402 252777.899  72.1%     -  343s\n",
      "     0     0 259112.116    0 5150 906927.402 259112.116  71.4%     -  345s\n",
      "     0     0 272107.419    0 7623 906927.402 272107.419  70.0%     -  357s\n",
      "     0     0 272107.419    0 7623 906927.402 272107.419  70.0%     -  389s\n",
      "     0     0 272107.419    0 7623 906927.402 272107.419  70.0%     -  420s\n",
      "H    0     0                    396166.07969 272107.419  31.3%     -  450s\n",
      "     0     0 279196.639    0 8346 396166.080 279196.639  29.5%     -  461s\n",
      "     0     0 285838.704    0 8585 396166.080 285838.704  27.8%     -  479s\n",
      "     0     0 287571.934    0 9282 396166.080 287571.934  27.4%     -  486s\n",
      "     0     0 290787.698    0 9265 396166.080 290787.698  26.6%     -  497s\n",
      "     0     0 290787.698    0 9264 396166.080 290787.698  26.6%     -  523s\n",
      "     0     0 290787.698    0 9264 396166.080 290787.698  26.6%     -  555s\n",
      "     0     0 290787.698    0 9264 396166.080 290787.698  26.6%     -  584s\n",
      "     0     0 290787.698    0 9264 396166.080 290787.698  26.6%     -  614s\n",
      "H    0     0                    391300.57073 290787.698  25.7%     -  645s\n",
      "H    0     0                    391265.27338 290787.698  25.7%     -  669s\n"
     ]
    },
    {
     "name": "stderr",
     "output_type": "stream",
     "text": [
      "Exception KeyboardInterrupt in 'gurobipy.callbackstub' ignored\n"
     ]
    },
    {
     "name": "stdout",
     "output_type": "stream",
     "text": [
      "H    0     2                    391136.74887 290787.698  25.7%     -  802s\n",
      "     0     2 291870.749    0 9917 391136.749 291870.749  25.4%     -  802s\n",
      "     1     4 292741.635    1 9972 391136.749 291919.483  25.4%   639  808s\n",
      "     3     6 293084.507    2 11852 391136.749 292735.478  25.2%  1184  829s\n",
      "     5     8 293156.412    3 11823 391136.749 292775.799  25.1%  1230  834s\n",
      "     7     9 294821.184    4 12269 391136.749 292775.799  25.1%  1139  837s\n",
      "    11    11 293609.157    5 10975 391136.749 292775.799  25.1%   887  844s\n",
      "    13    13 293733.133    6 10955 391136.749 292775.799  25.1%   785  850s\n",
      "    15    17 293827.642    7 10933 391136.749 292775.799  25.1%   738  856s\n",
      "    17    17 294120.629    8 10863 391136.749 292775.799  25.1%   780 8894s\n",
      "    20    21 294200.843    9 10749 391136.749 292775.799  25.1%   696 8906s\n",
      "    23    26 295033.965   10 10296 391136.749 292775.799  25.1%   687 8911s\n",
      "    25    24 295094.217   11 10283 391136.749 292775.799  25.1%   653 8916s\n",
      "    30    33 297166.160   12 10512 391136.749 292775.799  25.1%   686 8937s\n",
      "    33    32 295503.440   13 10035 391136.749 292775.799  25.1%   695 8983s\n",
      "    38    41 298657.035   15 10697 391136.749 292775.799  25.1%   715 8995s\n",
      "    40    41 297278.780   16 11103 391136.749 292775.799  25.1%   762 9030s\n",
      "    41    42 297626.446   16 11040 391136.749 292775.799  25.1%   783 9064s\n",
      "    42    45 301160.548   16 10934 391136.749 292775.799  25.1%   837 9091s\n",
      "    44    42 297634.609   17 11399 391136.749 292775.799  25.1%   907 9098s\n",
      "    47    47 297944.824   19 10123 391136.749 292775.799  25.1%   932 9107s\n",
      "    50    51 297959.117   20 10082 391136.749 292775.799  25.1%   895 9180s\n",
      "    52    55 297971.092   21 10082 391136.749 292775.799  25.1%   920 9195s\n",
      "    60    61 298605.483   26 10159 391136.749 292775.799  25.1%   861 9203s\n",
      "    66    68 301013.628   30 9589 391136.749 292775.799  25.1%   822 9278s\n",
      "    69    68 301204.329   31 9519 391136.749 292775.799  25.1%   889 9305s\n",
      "    79    81 302022.559   33 9414 391136.749 292775.799  25.1%   861 9323s\n",
      "    84    85 302780.428   34 9511 391136.749 292775.799  25.1%   875 9413s\n",
      "    91    93 303678.548   35 9390 391136.749 292775.799  25.1%   873 9440s\n",
      "    94    94 303892.436   36 9190 391136.749 292775.799  25.1%   920 9465s\n",
      "    99   100 308868.379   38 9175 391136.749 292775.799  25.1%   987 9520s\n",
      "   101   101 307107.457   39 12104 391136.749 292775.799  25.1%   997 9537s\n",
      "   113   114 308485.501   45 11139 391136.749 292775.799  25.1%   936 9547s\n",
      "   122   123 309049.630   48 7803 391136.749 292775.799  25.1%   909 9564s\n",
      "   128   128 348697.239   49   16 391136.749 292775.799  25.1%   958 9845s\n",
      "   130   127 310699.098   50 7060 391136.749 292775.799  25.1%   947 9929s\n",
      "*  136   129              51    326636.60132 292775.799  10.4%   968 10233s\n",
      "*  138   131              52    325459.22583 292775.799  10.0%   988 10311s\n",
      "   141   131 320193.665   53 7022 325459.226 292775.799  10.0%  1035 10340s\n",
      "   147   133     cutoff   53      325459.226 292775.799  10.0%  1014 10353s\n",
      "   166   146 322252.052   56 6901 325459.226 292775.799  10.0%   915 10359s\n",
      "   200   174 322498.163   73 3105 325459.226 292775.799  10.0%   766 10364s\n",
      "   242   214 322836.524   92 3106 325459.226 292775.799  10.0%   637 10370s\n",
      "   277   235 322962.332  113 3096 325459.226 292775.799  10.0%   565 10379s\n",
      "   319   271 323067.444  139 5488 325459.226 292775.799  10.0%   494 10389s\n",
      "   361   301 323209.414  162 3218 325459.226 292775.799  10.0%   442 10396s\n",
      "   414   342 323369.899  196 3186 325459.226 292775.799  10.0%   389 10402s\n",
      "   498   419 323486.909  237 5425 325459.226 292960.152  10.0%   325 10409s\n",
      "   549   464     cutoff    2      325459.226 293365.663  9.86%   300 10419s\n",
      "   605   518 299877.759    5 16608 325459.226 293393.642  9.85%   380 11222s\n",
      "   659   566 300117.095    6 16307 325459.226 293393.642  9.85%   351 11233s\n",
      "   667   573 300396.533    7 14404 325459.226 293393.642  9.85%   358 11800s\n",
      "   669   575 300888.792    8 14124 325459.226 293593.823  9.79%   421 11870s\n",
      "   671   577 301329.994    9 14446 325459.226 293593.823  9.79%   430 11897s\n",
      "   674   578 301725.503   10 14708 325459.226 293593.823  9.79%   435 11940s\n",
      "   676   580 302025.338   11 14686 325459.226 293593.823  9.79%   438 11961s\n",
      "   678   582 302425.116   12 15548 325459.226 293593.823  9.79%   440 12003s\n",
      "   681   585 302465.486   13 15356 325459.226 293593.823  9.79%   443 12079s\n",
      "   684   589 303529.014   15 12701 325459.226 293593.823  9.79%   452 12210s\n",
      "   688   593 304782.917   18 15746 325459.226 293593.823  9.79%   479 12277s\n",
      "   690   595 310839.968   17 14745 325459.226 293593.823  9.79%   491 12411s\n",
      "   692   598 305189.634   19 15529 325459.226 293593.823  9.79%   500 12546s\n",
      "   695   597 305486.060   20 13584 325459.226 293593.823  9.79%   510 12567s\n",
      "   697   602 305624.242   21 15220 325459.226 293593.823  9.79%   514 12599s\n",
      "   699   599 305953.746   22 14835 325459.226 293593.823  9.79%   519 12636s\n",
      "   701   605 305955.510   23 14836 325459.226 293593.823  9.79%   521 12678s\n",
      "   704   607 306576.198   25 10660 325459.226 293593.823  9.79%   527 12895s\n",
      "   707   610 308527.618   27 13922 325459.226 293593.823  9.79%   560 12922s\n",
      "   709   612 311169.959   27 14222 325459.226 293593.823  9.79%   573 12994s\n",
      "   711   613 314838.606   28 14330 325459.226 293593.823  9.79%   582 13032s\n",
      "   713   616 310263.426   26 14182 325459.226 293593.823  9.79%   591 13075s\n",
      "   716   619 309196.632   28 13746 325459.226 293593.823  9.79%   601 13132s\n",
      "   719   621 311170.978   28 14222 325459.226 293593.823  9.79%   603 13213s\n",
      "   724   624 301878.038   11 9264 325459.226 293593.823  9.79%   612 13679s\n",
      "*  725   593               9    316340.45363 316340.454  0.00%   611 13820s\n",
      "\n",
      "Cutting planes:\n",
      "  Lazy constraints: 20508\n",
      "\n",
      "Explored 725 nodes (543945 simplex iterations) in 13821.06 seconds\n",
      "Thread count was 4 (of 4 available processors)\n",
      "\n",
      "Solution count 8: 316340 325459 326637 ... 906927\n",
      "Pool objective bound 316340\n",
      "\n",
      "Optimal solution found (tolerance 1.00e-04)\n",
      "Best objective 3.163404536316e+05, best bound 3.163404536316e+05, gap 0.0000%\n"
     ]
    }
   ],
   "source": [
    "IP.optimize(mycallback)\n",
    "\n",
    "end_time = time.time()"
   ]
  },
  {
   "cell_type": "markdown",
   "metadata": {
    "collapsed": true,
    "deletable": true,
    "editable": true
   },
   "source": [
    "### Output Solution"
   ]
  },
  {
   "cell_type": "code",
   "execution_count": 35,
   "metadata": {
    "collapsed": false,
    "deletable": true,
    "editable": true
   },
   "outputs": [
    {
     "name": "stdout",
     "output_type": "stream",
     "text": [
      "14216.2539999\n"
     ]
    }
   ],
   "source": [
    "print(end_time-start_time)\n",
    "LP.write(\"out_LPIP_%s.sol\"%Sfile)"
   ]
  },
  {
   "cell_type": "code",
   "execution_count": 36,
   "metadata": {
    "collapsed": false,
    "deletable": true,
    "editable": true
   },
   "outputs": [
    {
     "data": {
      "text/plain": [
       "<gurobipy.AttrConstClass at 0x40d3a20>"
      ]
     },
     "execution_count": 36,
     "metadata": {},
     "output_type": "execute_result"
    }
   ],
   "source": [
    "GRB.Attr"
   ]
  },
  {
   "cell_type": "markdown",
   "metadata": {
    "deletable": true,
    "editable": true
   },
   "source": [
    "###  Plotting"
   ]
  },
  {
   "cell_type": "markdown",
   "metadata": {
    "deletable": true,
    "editable": true
   },
   "source": [
    "#### DOUT"
   ]
  },
  {
   "cell_type": "code",
   "execution_count": 37,
   "metadata": {
    "collapsed": false,
    "deletable": true,
    "editable": true
   },
   "outputs": [],
   "source": [
    "# DOUT - District Assignments\n",
    "\n",
    "DOUT = pd.DataFrame.from_dict({(i,j): VarVal(d_IP[i][j]) \n",
    "                           for i in d_IP.keys() \n",
    "                           for j in d_IP[i].keys()},\n",
    "                           orient='index')\n",
    "\n",
    "Settlements_DOUT = [i[0] for i in DOUT.index]\n",
    "Districts_DOUT = [i[1] for i in DOUT.index]\n",
    "\n",
    "DOUT['Settlement'] = Settlements_DOUT\n",
    "DOUT['DistrictCourts'] = Districts_DOUT\n",
    "\n",
    "DOUT = DOUT[DOUT[0] == 1.0]"
   ]
  },
  {
   "cell_type": "markdown",
   "metadata": {
    "deletable": true,
    "editable": true
   },
   "source": [
    "#### AOUT"
   ]
  },
  {
   "cell_type": "code",
   "execution_count": 38,
   "metadata": {
    "collapsed": true,
    "deletable": true,
    "editable": true
   },
   "outputs": [],
   "source": [
    "#AOUT - Appeals Assignments\n",
    "\n",
    "AOUT = pd.DataFrame.from_dict({(i,j): VarVal(a_IP[i][j]) \n",
    "                           for i in a_IP.keys() \n",
    "                           for j in a_IP[i].keys()},\n",
    "                           orient='index')\n",
    "\n",
    "Settlements_AOUT = [i[0] for i in AOUT.index]\n",
    "Appeals_AOUT = [i[1] for i in AOUT.index]\n",
    "\n",
    "AOUT['Settlement'] = Settlements_AOUT\n",
    "AOUT['AppealsCourts'] = Appeals_AOUT\n",
    "\n",
    "AOUT = AOUT[AOUT[0] == 1.0]"
   ]
  },
  {
   "cell_type": "markdown",
   "metadata": {
    "deletable": true,
    "editable": true
   },
   "source": [
    "#### COUT"
   ]
  },
  {
   "cell_type": "code",
   "execution_count": 39,
   "metadata": {
    "collapsed": true,
    "deletable": true,
    "editable": true
   },
   "outputs": [],
   "source": [
    "#COUT - Appeals Assignments\n",
    "\n",
    "COUT = pd.DataFrame.from_dict({(i,j): VarVal(c_IP[i][j]) \n",
    "                           for i in c_IP.keys() \n",
    "                           for j in c_IP[i].keys()},\n",
    "                           orient='index')\n",
    "\n",
    "Districts_COUT = [i[0] for i in COUT.index]\n",
    "Appeals_COUT = [i[1] for i in COUT.index]\n",
    "\n",
    "COUT['DistrictCourts'] = Districts_COUT\n",
    "COUT['AppealsCourts'] = Appeals_COUT\n",
    "\n",
    "COUT = COUT[COUT[0] == 1.0]"
   ]
  },
  {
   "cell_type": "markdown",
   "metadata": {
    "deletable": true,
    "editable": true
   },
   "source": [
    "#### Plot all Locations"
   ]
  },
  {
   "cell_type": "code",
   "execution_count": 40,
   "metadata": {
    "collapsed": false,
    "deletable": true,
    "editable": true
   },
   "outputs": [
    {
     "data": {
      "image/png": "[encoded data removed]",
      "text/plain": [
       "<matplotlib.figure.Figure at 0x89c3cc0>"
      ]
     },
     "metadata": {},
     "output_type": "display_data"
    }
   ],
   "source": [
    "plt.scatter(Settlements['LON_X'],Settlements['LAT_Y'])\n",
    "plt.scatter(Districts['LON_X'],Districts['LAT_Y'], color='Red', marker = 's')\n",
    "plt.scatter(Appeals['LON_X'],Appeals['LAT_Y'], color='Green', marker = '^')\n",
    "plt.show()"
   ]
  },
  {
   "cell_type": "markdown",
   "metadata": {
    "deletable": true,
    "editable": true
   },
   "source": [
    "#### Plotting Assignments"
   ]
  },
  {
   "cell_type": "code",
   "execution_count": null,
   "metadata": {
    "collapsed": false
   },
   "outputs": [],
   "source": []
  },
  {
   "cell_type": "code",
   "execution_count": 41,
   "metadata": {
    "collapsed": false,
    "deletable": true,
    "editable": true
   },
   "outputs": [
    {
     "data": {
      "image/png": "[encoded data removed]",
      "text/plain": [
       "<matplotlib.figure.Figure at 0x48f59f98>"
      ]
     },
     "metadata": {},
     "output_type": "display_data"
    }
   ],
   "source": [
    "#Drawing Lines\n",
    "#plt.figure(figsize=(14,14))\n",
    "\n",
    "#Plotting Points    \n",
    "plt.scatter(Settlements['LON_X'],Settlements['LAT_Y'])\n",
    "plt.scatter(Districts['LON_X'],Districts['LAT_Y'], color='Red', marker = 's',s=25)\n",
    "plt.scatter(Appeals['LON_X'],Appeals['LAT_Y'], color='Green', marker = '^',s = 400)\n",
    "\n",
    "for index,row in DOUT.iterrows():\n",
    "    s = row['Settlement'] \n",
    "    d = row['DistrictCourts']\n",
    "    #Get District number that Settlement is linked to\n",
    "    Dist = Districts.loc[Districts['DIST_CODE'] == d]\n",
    "    Sett = Settlements.loc[Settlements['OBJECTID'] == s]\n",
    "    X = [Sett.iloc[0,3],Dist.iloc[0,2]]\n",
    "    Y = [Sett.iloc[0,2],Dist.iloc[0,3]]\n",
    "    plt.scatter(Dist.iloc[0,2],Dist.iloc[0,3], color='Orange', marker = 's',s = 100)\n",
    "    plt.plot(X,Y,zorder=1, color=\"Black\")\n",
    "\n",
    "\n",
    "#axes = plt.gca()\n",
    "#axes.set_xlim([65,70])\n",
    "#axes.set_ylim([30,35])\n",
    "\n",
    "plt.show()"
   ]
  },
  {
   "cell_type": "code",
   "execution_count": 42,
   "metadata": {
    "collapsed": false,
    "deletable": true,
    "editable": true
   },
   "outputs": [
    {
     "data": {
      "image/png": "[encoded data removed]",
      "text/plain": [
       "<matplotlib.figure.Figure at 0x527498d0>"
      ]
     },
     "metadata": {},
     "output_type": "display_data"
    }
   ],
   "source": [
    "#Draw Lines\n",
    "plt.figure(figsize=(14,14))\n",
    "\n",
    "for index,row in COUT.iterrows():\n",
    "    d = row['DistrictCourts'] \n",
    "    a = row['AppealsCourts']\n",
    "\n",
    "    Dist = Districts.loc[Districts['DIST_CODE'] == d]\n",
    "    App = Appeals.loc[Appeals['PROV_CODE'] == a]\n",
    "\n",
    "    X = [Dist.iloc[0,2],App.iloc[0,2]]\n",
    "    Y = [Dist.iloc[0,3],App.iloc[0,3]]\n",
    "\n",
    "    plt.plot(X,Y,zorder=1, color=\"Black\")\n",
    "    \n",
    "clr = cm.rainbow(np.linspace(0, 1, D))\n",
    "for a in range(A):\n",
    "    X = Appeals.iloc[a,2]\n",
    "    Y = Appeals.iloc[a,3]\n",
    "    plt.scatter(X,Y, color=\"Green\", marker = '^')\n",
    "    \n",
    "for index,row in DOUT.iterrows():   \n",
    "    d = row['DistrictCourts'] \n",
    "    Dist = Districts.loc[Districts['DIST_CODE'] == d]\n",
    "    X = Dist.iloc[0,2]\n",
    "    Y = Dist.iloc[0,3]\n",
    "    c = Dist.index[0]\n",
    "    plt.scatter(X,Y, color=clr[c], marker = 's')\n",
    "    \n",
    "for index,row in DOUT.iterrows():\n",
    "    s = row['Settlement'] \n",
    "    d = row['DistrictCourts']\n",
    "    #Get District number that Settlement is linked to\n",
    "    Dist = Districts.loc[Districts['DIST_CODE'] == d]\n",
    "    Sett = Settlements.loc[Settlements['OBJECTID'] == s]\n",
    "\n",
    "    c = Dist.index[0]\n",
    "    X = Sett.iloc[0,3]                                                     \n",
    "    Y = Sett.iloc[0,2]\n",
    "    plt.scatter(X,Y, color=clr[c])\n",
    "          \n",
    "#axes = plt.gca()\n",
    "#axes.set_xlim([66,71])\n",
    "#axes.set_ylim([30,35])\n",
    "\n",
    "sf = shp.Reader(\"Afghanistan_Districts\",\"rb\")\n",
    "for shape in sf.shapeRecords():\n",
    "    x = [i[0] for i in shape.shape.points[:]]\n",
    "    y = [i[1] for i in shape.shape.points[:]]\n",
    "    plt.plot(x,y,color='k',linewidth=0.1)\n",
    "plt.show()"
   ]
  },
  {
   "cell_type": "code",
   "execution_count": null,
   "metadata": {
    "collapsed": true,
    "deletable": true,
    "editable": true
   },
   "outputs": [],
   "source": []
  },
  {
   "cell_type": "code",
   "execution_count": null,
   "metadata": {
    "collapsed": true,
    "deletable": true,
    "editable": true
   },
   "outputs": [],
   "source": []
  },
  {
   "cell_type": "code",
   "execution_count": null,
   "metadata": {
    "collapsed": true,
    "deletable": true,
    "editable": true
   },
   "outputs": [],
   "source": []
  }
 ],
 "metadata": {
  "anaconda-cloud": {},
  "kernelspec": {
   "display_name": "Python 2",
   "language": "python",
   "name": "python2"
  },
  "language_info": {
   "codemirror_mode": {
    "name": "ipython",
    "version": 2
   },
   "file_extension": ".py",
   "mimetype": "text/x-python",
   "name": "python",
   "nbconvert_exporter": "python",
   "pygments_lexer": "ipython2",
   "version": "2.7.13"
  }
 },
 "nbformat": 4,
 "nbformat_minor": 1
}
