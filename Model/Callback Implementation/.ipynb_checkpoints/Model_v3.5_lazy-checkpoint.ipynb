{
 "cells": [
  {
   "cell_type": "code",
   "execution_count": null,
   "metadata": {
    "collapsed": true
   },
   "outputs": [],
   "source": [
    "from gurobipy import *\n",
    "import time\n",
    "import numpy as np\n",
    "import pandas as pd\n",
    "import matplotlib.pyplot as plt\n",
    "import matplotlib.cm as cm\n",
    "import shapefile as shp\n",
    "from collections import defaultdict"
   ]
  },
  {
   "cell_type": "markdown",
   "metadata": {},
   "source": [
    "### Set Parameters"
   ]
  },
  {
   "cell_type": "code",
   "execution_count": null,
   "metadata": {
    "collapsed": true
   },
   "outputs": [],
   "source": [
    "M = 10000\n",
    "maxOpenD = 50\n",
    "maxOpenA = 20\n",
    "maxDistance = 10000\n",
    "\n",
    "maxDist_D = 150\n",
    "maxDist_A = 350\n",
    "\n",
    "#maxPopD- max capacity of each district court\n",
    "#maxPopA - max capacity of each appeals court\n",
    "\n",
    "#xS,yS \n",
    "#xD,yD\n",
    "#xA,yA\n",
    "\n",
    "#langS\n",
    "#langD\n",
    "#langA\n",
    "\n",
    "\n",
    "#param d{i in Settlements,j in DistrictCourts} \n",
    "#\t:= sqrt( (xS[i]-xD[j])^2 + (yS[i]-yD[j])^2); #distance between settlement and district court\n",
    "#param a{i in Settlements,k in AppealsCourts} \n",
    "#\t:= sqrt( (xA[k]-xS[i])^2 + (yA[k]-yS[i])^2); #distance between district court and appeals court\t"
   ]
  },
  {
   "cell_type": "markdown",
   "metadata": {},
   "source": [
    "### Extract Data"
   ]
  },
  {
   "cell_type": "code",
   "execution_count": null,
   "metadata": {
    "collapsed": false
   },
   "outputs": [],
   "source": [
    "#Get Settlement List\n",
    "Settlements = pd.read_csv(\"afg_ppl_settlement_pnt.csv\",sep=\",\")\n",
    "#Settlements=pd.read_csv(\"prov_code_3.csv\",sep=\",\")\n",
    "Settlements = Settlements[[\"OBJECTID\",\"LAT_Y\",\"LON_X\"]]\n",
    "#Settlements=Settlements[[0,10,11]]\n",
    "S = Settlements.shape[0]\n",
    "Settlement_List = Settlements['OBJECTID'].tolist()\n",
    "\n",
    "#Get District Court List\n",
    "Districts = pd.read_csv(\"District_Courts.csv\",sep=\",\")\n",
    "Districts = Districts[[1,4,5]]\n",
    "D = Districts.shape[0]\n",
    "District_List = Districts['DIST_CODE'].tolist()\n",
    "\n",
    "#Get Appeals Court List\n",
    "Appeals = pd.read_csv(\"Appeals_Courts.csv\",sep=\",\")\n",
    "Appeals = Appeals[[1,4,5]]\n",
    "A = Appeals.shape[0]\n",
    "Appeals_List = Appeals['PROV_CODE'].tolist()"
   ]
  },
  {
   "cell_type": "markdown",
   "metadata": {},
   "source": [
    "#### Create Data Subset for Settlements"
   ]
  },
  {
   "cell_type": "markdown",
   "metadata": {},
   "source": [
    "#### ------------------------------------------------"
   ]
  },
  {
   "cell_type": "code",
   "execution_count": null,
   "metadata": {
    "collapsed": false
   },
   "outputs": [],
   "source": [
    "Settlements = Settlements.sample(frac = 0.005, replace = False, random_state = 23)\n",
    "S = Settlements.shape[0]\n",
    "Settlement_List = Settlements['OBJECTID'].tolist()"
   ]
  },
  {
   "cell_type": "markdown",
   "metadata": {},
   "source": [
    "####  ------------------------------------------------"
   ]
  },
  {
   "cell_type": "code",
   "execution_count": null,
   "metadata": {
    "collapsed": false
   },
   "outputs": [],
   "source": [
    "#Create Dictionaries\n",
    "Settlement_Dict = Settlements.set_index('OBJECTID').T.to_dict('list')\n",
    "District_Dict = Districts.set_index('DIST_CODE').T.to_dict('list')\n",
    "Appeals_Dict = Appeals.set_index('PROV_CODE').T.to_dict('list')"
   ]
  },
  {
   "cell_type": "code",
   "execution_count": null,
   "metadata": {
    "collapsed": false
   },
   "outputs": [],
   "source": [
    "#Create Dictionaries for District Courthouse Distances\n",
    "\n",
    "Dist_D = {}\n",
    "\n",
    "R = 6371e3\n",
    "\n",
    "\n",
    "for d in District_List:\n",
    "    d_lon = District_Dict[d][0]\n",
    "    d_lat = District_Dict[d][1]\n",
    "    φ2 = np.radians(d_lat)\n",
    "\n",
    "\n",
    "    for s in Settlement_List:\n",
    "        s_lon = Settlement_Dict[s][1]\n",
    "        s_lat = Settlement_Dict[s][0]\n",
    "        φ1 = np.radians(s_lat)\n",
    "        \n",
    "        #Distance to District Court\n",
    "        Δφ = np.radians(d_lat - s_lat)\n",
    "        Δλ = np.radians(d_lon - s_lon)\n",
    "        a = np.sin(Δφ/2) * np.sin(Δφ/2) + np.cos(φ1) * np.cos(φ2) * np.sin(Δλ/2) * np.sin(Δλ/2)\n",
    "        c = 2 * np.arctan2(np.sqrt(a), np.sqrt(1-a))\n",
    "        \n",
    "        Dist_D[s,d] = (R * c)/1000\n",
    "    "
   ]
  },
  {
   "cell_type": "code",
   "execution_count": null,
   "metadata": {
    "collapsed": false
   },
   "outputs": [],
   "source": [
    "#Create Dictionaries for Appeals Courthouse Distances\n",
    "\n",
    "Dist_A = {}\n",
    "\n",
    "R = 6371e3\n",
    "\n",
    "for a in Appeals_List:\n",
    "    a_lon = Appeals_Dict[a][0]\n",
    "    a_lat = Appeals_Dict[a][1]\n",
    "    φ3 = np.radians(a_lat)\n",
    "\n",
    "    for s in Settlement_List:\n",
    "        s_lon = Settlement_Dict[s][1]\n",
    "        s_lat = Settlement_Dict[s][0]\n",
    "        φ1 = np.radians(s_lat)\n",
    "        \n",
    "        #Distance to District Court\n",
    "        Δφ = np.radians(a_lat - s_lat)\n",
    "        Δλ = np.radians(a_lon - s_lon)\n",
    "        a1 = np.sin(Δφ/2) * np.sin(Δφ/2) + np.cos(φ1) * np.cos(φ3) * np.sin(Δλ/2) * np.sin(Δλ/2)\n",
    "        c = 2 * np.arctan2(np.sqrt(a1), np.sqrt(1-a1))\n",
    "        \n",
    "        Dist_A[s,a] = (R * c)/1000\n",
    "        \n",
    "    "
   ]
  },
  {
   "cell_type": "markdown",
   "metadata": {},
   "source": [
    "### Create Model"
   ]
  },
  {
   "cell_type": "code",
   "execution_count": null,
   "metadata": {
    "collapsed": false
   },
   "outputs": [],
   "source": [
    "#Create Model\n",
    "m = Model(\"Afghanistan\")\n",
    "\n",
    "#Suppress output\n",
    "m.Params.OutputFlag = 0\n",
    "m.params.LazyConstraints = 1"
   ]
  },
  {
   "cell_type": "markdown",
   "metadata": {},
   "source": [
    "### Create Variables"
   ]
  },
  {
   "cell_type": "markdown",
   "metadata": {},
   "source": [
    "##### Helper function"
   ]
  },
  {
   "cell_type": "code",
   "execution_count": null,
   "metadata": {
    "collapsed": false
   },
   "outputs": [],
   "source": [
    "# Return value of variable\n",
    "def VarVal(var):\n",
    "    if (type(var) == gurobipy.Var):\n",
    "        val = var.X\n",
    "\n",
    "    else:\n",
    "        val = 0\n",
    "    return val"
   ]
  },
  {
   "cell_type": "markdown",
   "metadata": {},
   "source": [
    "##### d_ij"
   ]
  },
  {
   "cell_type": "code",
   "execution_count": null,
   "metadata": {
    "collapsed": false
   },
   "outputs": [],
   "source": [
    "# Create d_i_j variables\n",
    "d = {}\n",
    "for i in Settlement_List:\n",
    "    d[i] = {}\n",
    "    for j in District_List:\n",
    "        if Dist_D[i,j] < maxDist_D:\n",
    "            d[i][j] = m.addVar(vtype=GRB.BINARY, name='d_%s_%s' % (i, j))\n",
    "            d[i][j].start=10000\n",
    "        else:\n",
    "            d[i][j] = 0\n",
    "m.update()"
   ]
  },
  {
   "cell_type": "code",
   "execution_count": null,
   "metadata": {
    "collapsed": true
   },
   "outputs": [],
   "source": [
    "# Create d_i_j transpose dictionary \n",
    "d_t = defaultdict(dict)\n",
    "for key, val in d.items():\n",
    "    for subkey, subval in val.items():\n",
    "        d_t[subkey][key] = subval"
   ]
  },
  {
   "cell_type": "markdown",
   "metadata": {},
   "source": [
    "##### a_ik"
   ]
  },
  {
   "cell_type": "code",
   "execution_count": null,
   "metadata": {
    "collapsed": false
   },
   "outputs": [],
   "source": [
    " # Create a_i_k variables\n",
    "a = {}\n",
    "for i in Settlement_List:\n",
    "    a[i] = {}\n",
    "    for k in Appeals_List:\n",
    "        if Dist_A[i,k] < maxDist_A:\n",
    "            a[i][k] = m.addVar(vtype=GRB.BINARY, name='a_%s_%s' % (i, k))\n",
    "            a[i][k].start=0\n",
    "        else:\n",
    "            a[i][k] = 0\n",
    "m.update()"
   ]
  },
  {
   "cell_type": "code",
   "execution_count": null,
   "metadata": {
    "collapsed": true
   },
   "outputs": [],
   "source": [
    "# Create a_i_k transpose dictionary \n",
    "a_t = defaultdict(dict)\n",
    "for key, val in a.items():\n",
    "    for subkey, subval in val.items():\n",
    "        a_t[subkey][key] = subval"
   ]
  },
  {
   "cell_type": "markdown",
   "metadata": {},
   "source": [
    "##### c_jk"
   ]
  },
  {
   "cell_type": "code",
   "execution_count": null,
   "metadata": {
    "collapsed": false
   },
   "outputs": [],
   "source": [
    "# Create c_j_k variables\n",
    "c = {}\n",
    "for j in District_List:\n",
    "    c[j] = {}\n",
    "    for k in Appeals_List:\n",
    "        c[j][k] = m.addVar(vtype=GRB.BINARY, name='c_%s_%s' % (j, k))\n",
    "        c[j][k].start=0\n",
    "m.update()"
   ]
  },
  {
   "cell_type": "code",
   "execution_count": null,
   "metadata": {
    "collapsed": true
   },
   "outputs": [],
   "source": [
    "# Create c_j_k transpose dictionary \n",
    "c_t = defaultdict(dict)\n",
    "for key, val in c.items():\n",
    "    for subkey, subval in val.items():\n",
    "        c_t[subkey][key] = subval"
   ]
  },
  {
   "cell_type": "markdown",
   "metadata": {},
   "source": [
    "##### openD"
   ]
  },
  {
   "cell_type": "code",
   "execution_count": null,
   "metadata": {
    "collapsed": false
   },
   "outputs": [],
   "source": [
    "#Create openD variables\n",
    "openD = {}\n",
    "for j in District_List:\n",
    "    openD[j] = m.addVar(vtype=GRB.BINARY, name='openD_%s' % (j))\n",
    "    openD[j].start = 0\n",
    "m.update()"
   ]
  },
  {
   "cell_type": "markdown",
   "metadata": {},
   "source": [
    "##### openA"
   ]
  },
  {
   "cell_type": "code",
   "execution_count": null,
   "metadata": {
    "collapsed": true
   },
   "outputs": [],
   "source": [
    "#Create openA variables\n",
    "openA = {}\n",
    "for k in Appeals_List:\n",
    "    openA[k] = m.addVar(vtype=GRB.BINARY, name='openA_%s' % (k))\n",
    "    openA[k].start=0\n",
    "m.update()"
   ]
  },
  {
   "cell_type": "markdown",
   "metadata": {},
   "source": [
    "### Create Constraints"
   ]
  },
  {
   "cell_type": "markdown",
   "metadata": {},
   "source": [
    "##### D_ij row sums and column sums"
   ]
  },
  {
   "cell_type": "code",
   "execution_count": null,
   "metadata": {
    "collapsed": true
   },
   "outputs": [],
   "source": [
    "#One S -> D Assignment\n",
    "for i in Settlement_List:\n",
    "    m.addConstr(quicksum(d[i][j] for j in d[i]) == 1)\n",
    "m.update()"
   ]
  },
  {
   "cell_type": "code",
   "execution_count": null,
   "metadata": {
    "collapsed": true
   },
   "outputs": [],
   "source": [
    "#Maximum District Courts Open\n",
    "for j in District_List:\n",
    "    m.addConstr(quicksum(d_t[j][i] for i in d_t[j]) <= M * openD[j])\n",
    "m.update()"
   ]
  },
  {
   "cell_type": "markdown",
   "metadata": {},
   "source": [
    "##### A_ik row sums and column sums"
   ]
  },
  {
   "cell_type": "code",
   "execution_count": null,
   "metadata": {
    "collapsed": true
   },
   "outputs": [],
   "source": [
    "#One S -> A Assignment\n",
    "for i in Settlement_List:\n",
    "    m.addConstr(quicksum(a[i][k] for k in a[i]) == 1)\n",
    "m.update()"
   ]
  },
  {
   "cell_type": "code",
   "execution_count": null,
   "metadata": {
    "collapsed": true
   },
   "outputs": [],
   "source": [
    "#Maximum Appeals Courts Open\n",
    "for k in Appeals_List:\n",
    "    m.addConstr(quicksum(a_t[k][i] for i in a_t[k]) <= M * openA[k])\n",
    "m.update()"
   ]
  },
  {
   "cell_type": "markdown",
   "metadata": {},
   "source": [
    "#### C_jk row sums and column sums"
   ]
  },
  {
   "cell_type": "code",
   "execution_count": null,
   "metadata": {
    "collapsed": false
   },
   "outputs": [],
   "source": [
    "#One D -> A Assignment\n",
    "for j in District_List:\n",
    "    m.addConstr(quicksum(c[j][k] for k in c[j]) == openD[j])\n",
    "m.update()"
   ]
  },
  {
   "cell_type": "code",
   "execution_count": null,
   "metadata": {
    "collapsed": false
   },
   "outputs": [],
   "source": [
    "#C constraints\n",
    "for k in Appeals_List:\n",
    "    m.addConstr(quicksum(c[j][k] for j in District_List) <= M*openA[k])\n",
    "m.update()"
   ]
  },
  {
   "cell_type": "markdown",
   "metadata": {},
   "source": [
    "##### Max Open Courthouse Constraints"
   ]
  },
  {
   "cell_type": "code",
   "execution_count": null,
   "metadata": {
    "collapsed": false
   },
   "outputs": [],
   "source": [
    "m.addConstr(quicksum(openD[j] for j in District_List) <= maxOpenD)\n",
    "\n",
    "m.update()"
   ]
  },
  {
   "cell_type": "code",
   "execution_count": null,
   "metadata": {
    "collapsed": false
   },
   "outputs": [],
   "source": [
    "m.addConstr(quicksum(openA[k] for k in Appeals_List) <= maxOpenA)\n",
    "\n",
    "m.update()"
   ]
  },
  {
   "cell_type": "code",
   "execution_count": null,
   "metadata": {
    "collapsed": false
   },
   "outputs": [],
   "source": [
    "m"
   ]
  },
  {
   "cell_type": "markdown",
   "metadata": {},
   "source": [
    "##### Lazy Linking Constraints"
   ]
  },
  {
   "cell_type": "code",
   "execution_count": null,
   "metadata": {
    "collapsed": true
   },
   "outputs": [],
   "source": [
    "for i in Settlement_List:\n",
    "    for j in District_List:\n",
    "        for k in Appeals_List:\n",
    "            c1 = m.addConstr(d[i][j] + a[i][k] - c[j][k] <= 1)\n",
    "            c1.Lazy = 2\n",
    "            c2 = m.addConstr(d[i][j] + c[j][k] - a[i][k] <= 1)\n",
    "            c2.Lazy = 2\n",
    "m.update()"
   ]
  },
  {
   "cell_type": "markdown",
   "metadata": {},
   "source": [
    "### Set Objective Function"
   ]
  },
  {
   "cell_type": "markdown",
   "metadata": {},
   "source": [
    "#### D_ij and A_ik"
   ]
  },
  {
   "cell_type": "code",
   "execution_count": null,
   "metadata": {
    "collapsed": false
   },
   "outputs": [],
   "source": [
    "m.setObjective(\n",
    "        quicksum(   quicksum(   Dist_D[i,j]*d_t[j][i] for i in d_t[j])    for j in District_List) + \\\n",
    "        quicksum(   quicksum(   Dist_A[i,k]*a_t[k][i] for i in a_t[k])    for k in Appeals_List), GRB.MINIMIZE)\n",
    "m.update()"
   ]
  },
  {
   "cell_type": "markdown",
   "metadata": {
    "collapsed": true
   },
   "source": [
    "### Optimize"
   ]
  },
  {
   "cell_type": "code",
   "execution_count": null,
   "metadata": {
    "collapsed": false
   },
   "outputs": [],
   "source": [
    "start_time = time.time()\n",
    "\n",
    "m.optimize()\n",
    "\n",
    "end_time = time.time()\n",
    "\n",
    "print(end_time-start_time)"
   ]
  },
  {
   "cell_type": "markdown",
   "metadata": {
    "collapsed": true
   },
   "source": [
    "### Output Solution"
   ]
  },
  {
   "cell_type": "code",
   "execution_count": null,
   "metadata": {
    "collapsed": false
   },
   "outputs": [],
   "source": [
    "m.write(\"out.sol\")"
   ]
  },
  {
   "cell_type": "markdown",
   "metadata": {},
   "source": [
    "###  Plotting"
   ]
  },
  {
   "cell_type": "markdown",
   "metadata": {},
   "source": [
    "#### DOUT"
   ]
  },
  {
   "cell_type": "code",
   "execution_count": null,
   "metadata": {
    "collapsed": true
   },
   "outputs": [],
   "source": [
    "# DOUT - District Assignments\n",
    "\n",
    "DOUT = pd.DataFrame.from_dict({(i,j): VarVal(d[i][j]) \n",
    "                           for i in d.keys() \n",
    "                           for j in d[i].keys()},\n",
    "                           orient='index')\n",
    "\n",
    "Settlements_DOUT = [i[0] for i in DOUT.index]\n",
    "Districts_DOUT = [i[1] for i in DOUT.index]\n",
    "\n",
    "DOUT['Settlement'] = Settlements_DOUT\n",
    "DOUT['DistrictCourts'] = Districts_DOUT\n",
    "\n",
    "DOUT = DOUT[DOUT[0] == 1.0]"
   ]
  },
  {
   "cell_type": "markdown",
   "metadata": {},
   "source": [
    "#### AOUT"
   ]
  },
  {
   "cell_type": "code",
   "execution_count": null,
   "metadata": {
    "collapsed": true
   },
   "outputs": [],
   "source": [
    "#AOUT - Appeals Assignments\n",
    "\n",
    "AOUT = pd.DataFrame.from_dict({(i,j): VarVal(a[i][j]) \n",
    "                           for i in a.keys() \n",
    "                           for j in a[i].keys()},\n",
    "                           orient='index')\n",
    "\n",
    "Settlements_AOUT = [i[0] for i in AOUT.index]\n",
    "Appeals_AOUT = [i[1] for i in AOUT.index]\n",
    "\n",
    "AOUT['Settlement'] = Settlements_AOUT\n",
    "AOUT['AppealsCourts'] = Appeals_AOUT\n",
    "\n",
    "AOUT = AOUT[AOUT[0] == 1.0]"
   ]
  },
  {
   "cell_type": "markdown",
   "metadata": {},
   "source": [
    "#### COUT"
   ]
  },
  {
   "cell_type": "code",
   "execution_count": null,
   "metadata": {
    "collapsed": true
   },
   "outputs": [],
   "source": [
    "#COUT - Appeals Assignments\n",
    "\n",
    "COUT = pd.DataFrame.from_dict({(i,j): VarVal(c[i][j]) \n",
    "                           for i in c.keys() \n",
    "                           for j in c[i].keys()},\n",
    "                           orient='index')\n",
    "\n",
    "Districts_COUT = [i[0] for i in COUT.index]\n",
    "Appeals_COUT = [i[1] for i in COUT.index]\n",
    "\n",
    "COUT['DistrictCourts'] = Districts_COUT\n",
    "COUT['AppealsCourts'] = Appeals_COUT\n",
    "\n",
    "COUT = COUT[COUT[0] == 1.0]"
   ]
  },
  {
   "cell_type": "markdown",
   "metadata": {},
   "source": [
    "#### Plot all Locations"
   ]
  },
  {
   "cell_type": "code",
   "execution_count": null,
   "metadata": {
    "collapsed": false
   },
   "outputs": [],
   "source": [
    "plt.scatter(Settlements['LON_X'],Settlements['LAT_Y'])\n",
    "plt.scatter(Districts['LON_X'],Districts['LAT_Y'], color='Red', marker = 's')\n",
    "plt.scatter(Appeals['LON_X'],Appeals['LAT_Y'], color='Green', marker = '^')\n",
    "plt.show()"
   ]
  },
  {
   "cell_type": "markdown",
   "metadata": {},
   "source": [
    "#### Plotting Assignments"
   ]
  },
  {
   "cell_type": "code",
   "execution_count": null,
   "metadata": {
    "collapsed": false
   },
   "outputs": [],
   "source": [
    "#Drawing Lines\n",
    "plt.figure(figsize=(14,14))\n",
    "\n",
    "#Plotting Points    \n",
    "plt.scatter(Settlements['LON_X'],Settlements['LAT_Y'])\n",
    "plt.scatter(Districts['LON_X'],Districts['LAT_Y'], color='Red', marker = 's',s=25)\n",
    "plt.scatter(Appeals['LON_X'],Appeals['LAT_Y'], color='Green', marker = '^',s = 400)\n",
    "\n",
    "for index,row in DOUT.iterrows():\n",
    "    s = row['Settlement'] \n",
    "    d = row['DistrictCourts']\n",
    "    #Get District number that Settlement is linked to\n",
    "    Dist = Districts.loc[Districts['DIST_CODE'] == d]\n",
    "    Sett = Settlements.loc[Settlements['OBJECTID'] == s]\n",
    "    X = [Sett.iloc[0,2],Dist.iloc[0,1]]\n",
    "    Y = [Sett.iloc[0,1],Dist.iloc[0,2]]\n",
    "    plt.scatter(Dist.iloc[0,1],Dist.iloc[0,2], color='Orange', marker = 's',s = 100)\n",
    "    plt.plot(X,Y,zorder=1, color=\"Black\")\n",
    "\n",
    "\n",
    "\n",
    "#axes = plt.gca()\n",
    "#axes.set_xlim([68.2,70])\n",
    "#axes.set_ylim([34,35.5])\n",
    "\n",
    "plt.show()"
   ]
  },
  {
   "cell_type": "code",
   "execution_count": null,
   "metadata": {
    "collapsed": false
   },
   "outputs": [],
   "source": [
    "#Draw Lines\n",
    "plt.figure(figsize=(14,14))\n",
    "\n",
    "for index,row in COUT.iterrows():\n",
    "    d = row['DistrictCourts'] \n",
    "    a = row['AppealsCourts']\n",
    "\n",
    "    Dist = Districts.loc[Districts['DIST_CODE'] == d]\n",
    "    App = Appeals.loc[Appeals['PROV_CODE'] == a]\n",
    "\n",
    "    X = [Dist.iloc[0,1],App.iloc[0,1]]\n",
    "    Y = [Dist.iloc[0,2],App.iloc[0,2]]\n",
    "\n",
    "    plt.plot(X,Y,zorder=1, color=\"Black\")\n",
    "    \n",
    "clr = cm.rainbow(np.linspace(0, 1, D))\n",
    "for a in range(A):\n",
    "    X = Appeals.iloc[a,1]\n",
    "    Y = Appeals.iloc[a,2]\n",
    "    plt.scatter(X,Y, color=\"Green\", marker = '^')\n",
    "    \n",
    "for index,row in DOUT.iterrows():   \n",
    "    d = row['DistrictCourts'] \n",
    "    Dist = Districts.loc[Districts['DIST_CODE'] == d]\n",
    "    X = Dist.iloc[0,1]\n",
    "    Y = Dist.iloc[0,2]\n",
    "    c = Dist.index[0]\n",
    "    plt.scatter(X,Y, color=clr[c], marker = 's')\n",
    "    \n",
    "for index,row in DOUT.iterrows():\n",
    "    s = row['Settlement'] \n",
    "    d = row['DistrictCourts']\n",
    "    #Get District number that Settlement is linked to\n",
    "    Dist = Districts.loc[Districts['DIST_CODE'] == d]\n",
    "    Sett = Settlements.loc[Settlements['OBJECTID'] == s]\n",
    "\n",
    "    c = Dist.index[0]\n",
    "    X = Sett.iloc[0,2]                                                     \n",
    "    Y = Sett.iloc[0,1]\n",
    "    plt.scatter(X,Y, color=clr[c])\n",
    "          \n",
    "#axes = plt.gca()\n",
    "#axes.set_xlim([68.2,70])\n",
    "#axes.set_ylim([34,35.5])\n",
    "\n",
    "sf = shp.Reader(\"Afghanistan_Districts\",\"rb\")\n",
    "for shape in sf.shapeRecords():\n",
    "    x = [i[0] for i in shape.shape.points[:]]\n",
    "    y = [i[1] for i in shape.shape.points[:]]\n",
    "    plt.plot(x,y,color='k',linewidth=0.1)\n",
    "plt.show()"
   ]
  },
  {
   "cell_type": "markdown",
   "metadata": {
    "collapsed": true
   },
   "source": [
    "## "
   ]
  },
  {
   "cell_type": "code",
   "execution_count": null,
   "metadata": {
    "collapsed": true
   },
   "outputs": [],
   "source": []
  },
  {
   "cell_type": "code",
   "execution_count": null,
   "metadata": {
    "collapsed": true
   },
   "outputs": [],
   "source": []
  },
  {
   "cell_type": "code",
   "execution_count": null,
   "metadata": {
    "collapsed": true
   },
   "outputs": [],
   "source": []
  }
 ],
 "metadata": {
  "anaconda-cloud": {},
  "kernelspec": {
   "display_name": "Python [default]",
   "language": "python",
   "name": "python3"
  },
  "language_info": {
   "codemirror_mode": {
    "name": "ipython",
    "version": 3
   },
   "file_extension": ".py",
   "mimetype": "text/x-python",
   "name": "python",
   "nbconvert_exporter": "python",
   "pygments_lexer": "ipython3",
   "version": "3.5.2"
  }
 },
 "nbformat": 4,
 "nbformat_minor": 1
}
