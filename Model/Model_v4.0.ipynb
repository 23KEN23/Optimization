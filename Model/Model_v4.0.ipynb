{
 "cells": [
  {
   "cell_type": "code",
   "execution_count": 1,
   "metadata": {
    "collapsed": true
   },
   "outputs": [],
   "source": [
    "from gurobipy import *\n",
    "import numpy as np\n",
    "import pandas as pd\n",
    "import matplotlib.pyplot as plt\n",
    "import matplotlib.cm as cm\n",
    "import shapefile as shp\n",
    "from collections import defaultdict"
   ]
  },
  {
   "cell_type": "markdown",
   "metadata": {},
   "source": [
    "### Set Parameters"
   ]
  },
  {
   "cell_type": "code",
   "execution_count": 2,
   "metadata": {
    "collapsed": true
   },
   "outputs": [],
   "source": [
    "M = 10000\n",
    "maxOpenD = 50\n",
    "maxOpenA = 20\n",
    "maxDistance = 10000\n",
    "\n",
    "maxDist_D = 150\n",
    "maxDist_A = 350\n",
    "\n",
    "#maxPopD- max capacity of each district court\n",
    "#maxPopA - max capacity of each appeals court\n",
    "\n",
    "#xS,yS \n",
    "#xD,yD\n",
    "#xA,yA\n",
    "\n",
    "#langS\n",
    "#langD\n",
    "#langA\n",
    "\n",
    "\n",
    "#param d{i in Settlements,j in DistrictCourts} \n",
    "#\t:= sqrt( (xS[i]-xD[j])^2 + (yS[i]-yD[j])^2); #distance between settlement and district court\n",
    "#param a{i in Settlements,k in AppealsCourts} \n",
    "#\t:= sqrt( (xA[k]-xS[i])^2 + (yA[k]-yS[i])^2); #distance between district court and appeals court\t"
   ]
  },
  {
   "cell_type": "markdown",
   "metadata": {},
   "source": [
    "### Extract Data"
   ]
  },
  {
   "cell_type": "code",
   "execution_count": 3,
   "metadata": {
    "collapsed": false
   },
   "outputs": [],
   "source": [
    "#Get Settlement List\n",
    "Settlements = pd.read_csv(\"afg_ppl_settlement_pnt.csv\",sep=\",\")\n",
    "Settlements = Settlements[[0,10,11]]\n",
    "S = Settlements.shape[0]\n",
    "Settlement_List = Settlements['OBJECTID'].tolist()\n",
    "\n",
    "#Get District Court List\n",
    "Districts = pd.read_csv(\"District_Courts.csv\",sep=\",\")\n",
    "Districts = Districts[[1,4,5]]\n",
    "D = Districts.shape[0]\n",
    "District_List = Districts['DIST_CODE'].tolist()\n",
    "\n",
    "#Get Appeals Court List\n",
    "Appeals = pd.read_csv(\"Appeals_Courts.csv\",sep=\",\")\n",
    "Appeals = Appeals[[1,4,5]]\n",
    "A = Appeals.shape[0]\n",
    "Appeals_List = Appeals['PROV_CODE'].tolist()"
   ]
  },
  {
   "cell_type": "markdown",
   "metadata": {},
   "source": [
    "#### Create Data Subset for Settlements"
   ]
  },
  {
   "cell_type": "markdown",
   "metadata": {},
   "source": [
    "#### ------------------------------------------------"
   ]
  },
  {
   "cell_type": "code",
   "execution_count": 4,
   "metadata": {
    "collapsed": false
   },
   "outputs": [],
   "source": [
    "Settlements = Settlements.sample(frac = 0.001, replace = False)\n",
    "S = Settlements.shape[0]\n",
    "Settlement_List = Settlements['OBJECTID'].tolist()"
   ]
  },
  {
   "cell_type": "markdown",
   "metadata": {},
   "source": [
    "####  ------------------------------------------------"
   ]
  },
  {
   "cell_type": "code",
   "execution_count": 5,
   "metadata": {
    "collapsed": false
   },
   "outputs": [],
   "source": [
    "#Create Dictionaries\n",
    "Settlement_Dict = Settlements.set_index('OBJECTID').T.to_dict('list')\n",
    "District_Dict = Districts.set_index('DIST_CODE').T.to_dict('list')\n",
    "Appeals_Dict = Appeals.set_index('PROV_CODE').T.to_dict('list')"
   ]
  },
  {
   "cell_type": "code",
   "execution_count": 6,
   "metadata": {
    "collapsed": false
   },
   "outputs": [],
   "source": [
    "#Create Dictionaries for District Courthouse Distances\n",
    "\n",
    "Dist_D = {}\n",
    "\n",
    "R = 6371e3\n",
    "\n",
    "\n",
    "for d in District_List:\n",
    "    d_lon = District_Dict[d][0]\n",
    "    d_lat = District_Dict[d][1]\n",
    "    φ2 = np.radians(d_lat)\n",
    "\n",
    "\n",
    "    for s in Settlement_List:\n",
    "        s_lon = Settlement_Dict[s][1]\n",
    "        s_lat = Settlement_Dict[s][0]\n",
    "        φ1 = np.radians(s_lat)\n",
    "        \n",
    "        #Distance to District Court\n",
    "        Δφ = np.radians(d_lat - s_lat)\n",
    "        Δλ = np.radians(d_lon - s_lon)\n",
    "        a = np.sin(Δφ/2) * np.sin(Δφ/2) + np.cos(φ1) * np.cos(φ2) * np.sin(Δλ/2) * np.sin(Δλ/2)\n",
    "        c = 2 * np.arctan2(np.sqrt(a), np.sqrt(1-a))\n",
    "        \n",
    "        Dist_D[s,d] = (R * c)/1000\n",
    "    "
   ]
  },
  {
   "cell_type": "code",
   "execution_count": 7,
   "metadata": {
    "collapsed": false
   },
   "outputs": [],
   "source": [
    "#Create Dictionaries for Appeals Courthouse Distances\n",
    "\n",
    "Dist_A = {}\n",
    "\n",
    "R = 6371e3\n",
    "\n",
    "for a in Appeals_List:\n",
    "    a_lon = Appeals_Dict[a][0]\n",
    "    a_lat = Appeals_Dict[a][1]\n",
    "    φ3 = np.radians(a_lat)\n",
    "\n",
    "    for s in Settlement_List:\n",
    "        s_lon = Settlement_Dict[s][1]\n",
    "        s_lat = Settlement_Dict[s][0]\n",
    "        φ1 = np.radians(s_lat)\n",
    "        \n",
    "        #Distance to District Court\n",
    "        Δφ = np.radians(a_lat - s_lat)\n",
    "        Δλ = np.radians(a_lon - s_lon)\n",
    "        a1 = np.sin(Δφ/2) * np.sin(Δφ/2) + np.cos(φ1) * np.cos(φ3) * np.sin(Δλ/2) * np.sin(Δλ/2)\n",
    "        c = 2 * np.arctan2(np.sqrt(a1), np.sqrt(1-a1))\n",
    "        \n",
    "        Dist_A[s,a] = (R * c)/1000"
   ]
  },
  {
   "cell_type": "markdown",
   "metadata": {},
   "source": [
    "##### Helper function"
   ]
  },
  {
   "cell_type": "code",
   "execution_count": 8,
   "metadata": {
    "collapsed": false
   },
   "outputs": [],
   "source": [
    "# Return value of variable\n",
    "def VarVal(var):\n",
    "    if (type(var) == gurobipy.Var):\n",
    "        val = var.X\n",
    "    else:\n",
    "        val = 0\n",
    "    return val"
   ]
  },
  {
   "cell_type": "markdown",
   "metadata": {},
   "source": [
    "# ==========================================="
   ]
  },
  {
   "cell_type": "markdown",
   "metadata": {},
   "source": [
    "### Create Model - LP"
   ]
  },
  {
   "cell_type": "code",
   "execution_count": 9,
   "metadata": {
    "collapsed": true
   },
   "outputs": [],
   "source": [
    "#Create Model\n",
    "LP = Model(\"Afg_LP\")\n",
    "\n",
    "#Suppress output\n",
    "LP.Params.OutputFlag = 0"
   ]
  },
  {
   "cell_type": "markdown",
   "metadata": {},
   "source": [
    "### Create Variables - LP"
   ]
  },
  {
   "cell_type": "markdown",
   "metadata": {},
   "source": [
    "##### d_ij - LP"
   ]
  },
  {
   "cell_type": "code",
   "execution_count": 10,
   "metadata": {
    "collapsed": true
   },
   "outputs": [],
   "source": [
    "# Create d_i_j LP variables\n",
    "d_LP = {}\n",
    "for i in Settlement_List:\n",
    "    d_LP[i] = {}\n",
    "    for j in District_List:\n",
    "        if Dist_D[i,j] < maxDist_D:\n",
    "            d_LP[i][j] = LP.addVar(vtype=GRB.CONTINUOUS, lb=0, ub=1, name='d_LP_%s_%s' % (i, j))\n",
    "        else:\n",
    "            d_LP[i][j] = 0\n",
    "LP.update()"
   ]
  },
  {
   "cell_type": "code",
   "execution_count": 11,
   "metadata": {
    "collapsed": true
   },
   "outputs": [],
   "source": [
    "# Create d_i_j LP transpose dictionary \n",
    "d_t_LP = defaultdict(dict)\n",
    "for key, val in d_LP.items():\n",
    "    for subkey, subval in val.items():\n",
    "        d_t_LP[subkey][key] = subval"
   ]
  },
  {
   "cell_type": "markdown",
   "metadata": {},
   "source": [
    "##### a_ik - LP"
   ]
  },
  {
   "cell_type": "code",
   "execution_count": 12,
   "metadata": {
    "collapsed": true
   },
   "outputs": [],
   "source": [
    " # Create a_i_k LP variables\n",
    "a_LP = {}\n",
    "for i in Settlement_List:\n",
    "    a_LP[i] = {}\n",
    "    for k in Appeals_List:\n",
    "        if Dist_A[i,k] < maxDist_A:\n",
    "            a_LP[i][k] = LP.addVar(vtype=GRB.CONTINUOUS, lb=0, ub=1, name='a_LP_%s_%s' % (i, k))\n",
    "        else:\n",
    "            a_LP[i][k] = 0\n",
    "LP.update()"
   ]
  },
  {
   "cell_type": "code",
   "execution_count": 13,
   "metadata": {
    "collapsed": true
   },
   "outputs": [],
   "source": [
    "# Create a_i_k LP transpose dictionary \n",
    "a_t_LP = defaultdict(dict)\n",
    "for key, val in a_LP.items():\n",
    "    for subkey, subval in val.items():\n",
    "        a_t_LP[subkey][key] = subval"
   ]
  },
  {
   "cell_type": "markdown",
   "metadata": {},
   "source": [
    "##### c_jk - LP"
   ]
  },
  {
   "cell_type": "code",
   "execution_count": 14,
   "metadata": {
    "collapsed": true
   },
   "outputs": [],
   "source": [
    "# Create c_j_k LP variables\n",
    "c_LP = {}\n",
    "for j in District_List:\n",
    "    c_LP[j] = {}\n",
    "    for k in Appeals_List:\n",
    "        c_LP[j][k] = LP.addVar(vtype=GRB.CONTINUOUS, lb=0, ub=1, name='c_LP_%s_%s' % (j, k))\n",
    "LP.update()"
   ]
  },
  {
   "cell_type": "code",
   "execution_count": 15,
   "metadata": {
    "collapsed": true
   },
   "outputs": [],
   "source": [
    "# Create c_j_k LP transpose dictionary \n",
    "c_t_LP = defaultdict(dict)\n",
    "for key, val in c_LP.items():\n",
    "    for subkey, subval in val.items():\n",
    "        c_t_LP[subkey][key] = subval"
   ]
  },
  {
   "cell_type": "markdown",
   "metadata": {},
   "source": [
    "##### openD - LP"
   ]
  },
  {
   "cell_type": "code",
   "execution_count": 16,
   "metadata": {
    "collapsed": false
   },
   "outputs": [],
   "source": [
    "#Create openD LP variables\n",
    "openD_LP = {}\n",
    "for j in District_List:\n",
    "    openD_LP[j] = LP.addVar(vtype=GRB.CONTINUOUS, lb=0, ub=1, name='openD_LP_%s' % (j))\n",
    "LP.update()"
   ]
  },
  {
   "cell_type": "markdown",
   "metadata": {},
   "source": [
    "##### openA - LP"
   ]
  },
  {
   "cell_type": "code",
   "execution_count": 17,
   "metadata": {
    "collapsed": true
   },
   "outputs": [],
   "source": [
    "#Create openA LP variables\n",
    "openA_LP = {}\n",
    "for k in Appeals_List:\n",
    "    openA_LP[k] = LP.addVar(vtype=GRB.CONTINUOUS, lb=0, ub=1, name='openA_LP_%s' % (k))\n",
    "LP.update()"
   ]
  },
  {
   "cell_type": "markdown",
   "metadata": {},
   "source": [
    "### Create Constraints - LP"
   ]
  },
  {
   "cell_type": "markdown",
   "metadata": {},
   "source": [
    "#### D_ij row sums and column sums - LP"
   ]
  },
  {
   "cell_type": "code",
   "execution_count": 18,
   "metadata": {
    "collapsed": true
   },
   "outputs": [],
   "source": [
    "#One S -> D Assignment LP\n",
    "for i in Settlement_List:\n",
    "    LP.addConstr(quicksum(d_LP[i][j] for j in d_LP[i]) == 1)\n",
    "LP.update()"
   ]
  },
  {
   "cell_type": "code",
   "execution_count": 19,
   "metadata": {
    "collapsed": false
   },
   "outputs": [],
   "source": [
    "#Maximum District Courts Open LP\n",
    "for i in Settlement_List:\n",
    "    for j in District_List:\n",
    "        if (type(d_LP[i][j]) == gurobipy.Var):\n",
    "            LP.addConstr(d_LP[i][j] <= openD_LP[j])\n",
    "LP.update()"
   ]
  },
  {
   "cell_type": "markdown",
   "metadata": {},
   "source": [
    "#### A_ik row sums and column sums - LP"
   ]
  },
  {
   "cell_type": "code",
   "execution_count": 20,
   "metadata": {
    "collapsed": true
   },
   "outputs": [],
   "source": [
    "#One S -> A Assignment LP\n",
    "for i in Settlement_List:\n",
    "    LP.addConstr(quicksum(a_LP[i][k] for k in a_LP[i]) == 1)\n",
    "LP.update()"
   ]
  },
  {
   "cell_type": "code",
   "execution_count": 21,
   "metadata": {
    "collapsed": true
   },
   "outputs": [],
   "source": [
    "#Maximum Appeals Courts Open LP\n",
    "for i in Settlement_List:\n",
    "    for k in Appeals_List:\n",
    "        if (type(a_LP[i][k]) == gurobipy.Var):\n",
    "            LP.addConstr(a_LP[i][k] <= openA_LP[k])\n",
    "LP.update()"
   ]
  },
  {
   "cell_type": "markdown",
   "metadata": {},
   "source": [
    "#### C_jk row sums and column sums - LP"
   ]
  },
  {
   "cell_type": "code",
   "execution_count": 22,
   "metadata": {
    "collapsed": true
   },
   "outputs": [],
   "source": [
    "#One D -> A Assignment LP\n",
    "for j in District_List:\n",
    "    LP.addConstr(quicksum(c_LP[j][k] for k in c_LP[j]) == openD_LP[j])\n",
    "LP.update()"
   ]
  },
  {
   "cell_type": "code",
   "execution_count": 23,
   "metadata": {
    "collapsed": false
   },
   "outputs": [],
   "source": [
    "#C constraint LP\n",
    "for j in District_List:\n",
    "    for k in Appeals_List:\n",
    "        LP.addConstr(c_LP[j][k] <= openA_LP[k])\n",
    "LP.update()"
   ]
  },
  {
   "cell_type": "markdown",
   "metadata": {},
   "source": [
    "##### Max Open Courthouse Constraints - LP"
   ]
  },
  {
   "cell_type": "code",
   "execution_count": 24,
   "metadata": {
    "collapsed": false
   },
   "outputs": [],
   "source": [
    "LP.addConstr(quicksum(openD_LP[j] for j in District_List) <= maxOpenD)\n",
    "LP.addConstr(quicksum(openA_LP[k] for k in Appeals_List) <= maxOpenA)\n",
    "\n",
    "LP.update()"
   ]
  },
  {
   "cell_type": "markdown",
   "metadata": {},
   "source": [
    "### Set Objective Function - LP"
   ]
  },
  {
   "cell_type": "markdown",
   "metadata": {},
   "source": [
    "#### D_ij and A_ik - LP"
   ]
  },
  {
   "cell_type": "code",
   "execution_count": 25,
   "metadata": {
    "collapsed": true
   },
   "outputs": [],
   "source": [
    "LP.setObjective(\n",
    "        quicksum(   quicksum(   Dist_D[i,j]*d_t_LP[j][i] for i in d_t_LP[j])    for j in District_List) + \\\n",
    "        quicksum(   quicksum(   Dist_A[i,k]*a_t_LP[k][i] for i in a_t_LP[k])    for k in Appeals_List), GRB.MINIMIZE)\n",
    "LP.update()"
   ]
  },
  {
   "cell_type": "markdown",
   "metadata": {},
   "source": [
    "# ============================================"
   ]
  },
  {
   "cell_type": "markdown",
   "metadata": {},
   "source": [
    "### Create Model - MIP"
   ]
  },
  {
   "cell_type": "code",
   "execution_count": 26,
   "metadata": {
    "collapsed": false
   },
   "outputs": [],
   "source": [
    "#Create Model\n",
    "MIP = Model(\"Afg_MIP\")\n",
    "\n",
    "#Suppress output\n",
    "MIP.Params.OutputFlag = 0"
   ]
  },
  {
   "cell_type": "markdown",
   "metadata": {},
   "source": [
    "### Create Variables - MIP"
   ]
  },
  {
   "cell_type": "markdown",
   "metadata": {},
   "source": [
    "##### d_ij - MIP"
   ]
  },
  {
   "cell_type": "code",
   "execution_count": 27,
   "metadata": {
    "collapsed": false
   },
   "outputs": [],
   "source": [
    "# Create d_i_j MIP variables\n",
    "d_MIP = {}\n",
    "for i in Settlement_List:\n",
    "    d_MIP[i] = {}\n",
    "    for j in District_List:\n",
    "        if Dist_D[i,j] < maxDist_D:\n",
    "            d_MIP[i][j] = MIP.addVar(vtype=GRB.BINARY, name='d_MIP_%s_%s' % (i, j))\n",
    "        else:\n",
    "            d_MIP[i][j] = 0\n",
    "MIP.update()"
   ]
  },
  {
   "cell_type": "code",
   "execution_count": 29,
   "metadata": {
    "collapsed": false
   },
   "outputs": [],
   "source": [
    "# Create d_i_j MIP transpose dictionary \n",
    "d_t_MIP = defaultdict(dict)\n",
    "for key, val in d_MIP.items():\n",
    "    for subkey, subval in val.items():\n",
    "        d_t_MIP[subkey][key] = subval"
   ]
  },
  {
   "cell_type": "markdown",
   "metadata": {},
   "source": [
    "##### a_ik - MIP"
   ]
  },
  {
   "cell_type": "code",
   "execution_count": 30,
   "metadata": {
    "collapsed": false
   },
   "outputs": [],
   "source": [
    " # Create a_i_k MIP variables\n",
    "a_MIP = {}\n",
    "for i in Settlement_List:\n",
    "    a_MIP[i] = {}\n",
    "    for k in Appeals_List:\n",
    "        if Dist_A[i,k] < maxDist_A:\n",
    "            a_MIP[i][k] = MIP.addVar(vtype=GRB.BINARY, name='a_MIP_%s_%s' % (i, k))\n",
    "        else:\n",
    "            a_MIP[i][k] = 0\n",
    "MIP.update()"
   ]
  },
  {
   "cell_type": "code",
   "execution_count": 31,
   "metadata": {
    "collapsed": true
   },
   "outputs": [],
   "source": [
    "# Create a_i_k MIP transpose dictionary \n",
    "a_t_MIP = defaultdict(dict)\n",
    "for key, val in a_MIP.items():\n",
    "    for subkey, subval in val.items():\n",
    "        a_t_MIP[subkey][key] = subval"
   ]
  },
  {
   "cell_type": "markdown",
   "metadata": {},
   "source": [
    "##### c_jk - MIP"
   ]
  },
  {
   "cell_type": "code",
   "execution_count": 32,
   "metadata": {
    "collapsed": true
   },
   "outputs": [],
   "source": [
    "# Create c_j_k MIP variables\n",
    "c_MIP = {}\n",
    "for j in District_List:\n",
    "    c_MIP[j] = {}\n",
    "    for k in Appeals_List:\n",
    "        c_MIP[j][k] = MIP.addVar(vtype=GRB.BINARY, name='c_MIP_%s_%s' % (j, k))\n",
    "MIP.update()"
   ]
  },
  {
   "cell_type": "code",
   "execution_count": 33,
   "metadata": {
    "collapsed": true
   },
   "outputs": [],
   "source": [
    "# Create c_j_k MIP transpose dictionary \n",
    "c_t_MIP = defaultdict(dict)\n",
    "for key, val in c_MIP.items():\n",
    "    for subkey, subval in val.items():\n",
    "        c_t_MIP[subkey][key] = subval"
   ]
  },
  {
   "cell_type": "markdown",
   "metadata": {},
   "source": [
    "##### openD - MIP"
   ]
  },
  {
   "cell_type": "code",
   "execution_count": 34,
   "metadata": {
    "collapsed": true
   },
   "outputs": [],
   "source": [
    "#Create openD MIP variables\n",
    "openD_MIP = {}\n",
    "for j in District_List:\n",
    "    openD_MIP[j] = MIP.addVar(vtype=GRB.BINARY, name='openD_MIP_%s' % (j))\n",
    "MIP.update()"
   ]
  },
  {
   "cell_type": "markdown",
   "metadata": {},
   "source": [
    "##### openA - MIP"
   ]
  },
  {
   "cell_type": "code",
   "execution_count": 35,
   "metadata": {
    "collapsed": true
   },
   "outputs": [],
   "source": [
    "#Create openA MIP variables\n",
    "openA_MIP = {}\n",
    "for k in Appeals_List:\n",
    "    openA_MIP[k] = MIP.addVar(vtype=GRB.BINARY, name='openA_MIP_%s' % (k))\n",
    "MIP.update()"
   ]
  },
  {
   "cell_type": "markdown",
   "metadata": {},
   "source": [
    "### Create Constraints - MIP"
   ]
  },
  {
   "cell_type": "markdown",
   "metadata": {},
   "source": [
    "##### D_ij row sums and column sums - MIP"
   ]
  },
  {
   "cell_type": "code",
   "execution_count": 36,
   "metadata": {
    "collapsed": true
   },
   "outputs": [],
   "source": [
    "#One S -> D Assignment MIP\n",
    "for i in Settlement_List:\n",
    "    MIP.addConstr(quicksum(d_MIP[i][j] for j in d_MIP[i]) == 1)\n",
    "MIP.update()"
   ]
  },
  {
   "cell_type": "code",
   "execution_count": 37,
   "metadata": {
    "collapsed": true
   },
   "outputs": [],
   "source": [
    "#Maximum District Courts Open MIP\n",
    "for j in District_List:\n",
    "    MIP.addConstr(quicksum(d_t_MIP[j][i] for i in d_t_MIP[j]) <= M * openD_MIP[j])\n",
    "MIP.update()"
   ]
  },
  {
   "cell_type": "markdown",
   "metadata": {},
   "source": [
    "##### A_ik row sums and column sums - MIP"
   ]
  },
  {
   "cell_type": "code",
   "execution_count": 38,
   "metadata": {
    "collapsed": true
   },
   "outputs": [],
   "source": [
    "#One S -> A Assignment MIP\n",
    "for i in Settlement_List:\n",
    "    MIP.addConstr(quicksum(a_MIP[i][k] for k in a_MIP[i]) == 1)\n",
    "MIP.update()"
   ]
  },
  {
   "cell_type": "code",
   "execution_count": 40,
   "metadata": {
    "collapsed": false
   },
   "outputs": [],
   "source": [
    "#Maximum Appeals Courts Open MIP\n",
    "for k in Appeals_List:\n",
    "    MIP.addConstr(quicksum(a_t_MIP[k][i] for i in a_t_MIP[k]) <= M * openA_MIP[k])\n",
    "MIP.update()"
   ]
  },
  {
   "cell_type": "markdown",
   "metadata": {},
   "source": [
    "#### C_jk row sums and column sums - MIP"
   ]
  },
  {
   "cell_type": "code",
   "execution_count": 41,
   "metadata": {
    "collapsed": false
   },
   "outputs": [],
   "source": [
    "#One D -> A Assignment MIP\n",
    "for j in District_List:\n",
    "    MIP.addConstr(quicksum(c_MIP[j][k] for k in c_MIP[j]) == openD_MIP[j])\n",
    "MIP.update()"
   ]
  },
  {
   "cell_type": "code",
   "execution_count": 42,
   "metadata": {
    "collapsed": false
   },
   "outputs": [],
   "source": [
    "#C constraints MIP\n",
    "for k in Appeals_List:\n",
    "    MIP.addConstr(quicksum(c_MIP[j][k] for j in District_List) <= M*openA_MIP[k])\n",
    "MIP.update()"
   ]
  },
  {
   "cell_type": "markdown",
   "metadata": {},
   "source": [
    "##### Max Open Courthouse Constraints - MIP"
   ]
  },
  {
   "cell_type": "code",
   "execution_count": 43,
   "metadata": {
    "collapsed": false
   },
   "outputs": [],
   "source": [
    "MIP.addConstr(quicksum(openD_MIP[j] for j in District_List) <= maxOpenD)\n",
    "MIP.addConstr(quicksum(openA_MIP[k] for k in Appeals_List) <= maxOpenA)\n",
    "\n",
    "MIP.update()"
   ]
  },
  {
   "cell_type": "markdown",
   "metadata": {},
   "source": [
    "### Set Objective Function - MIP"
   ]
  },
  {
   "cell_type": "markdown",
   "metadata": {},
   "source": [
    "#### D_ij and A_ik - MIP"
   ]
  },
  {
   "cell_type": "code",
   "execution_count": 44,
   "metadata": {
    "collapsed": false
   },
   "outputs": [],
   "source": [
    "MIP.setObjective(\n",
    "        quicksum(   quicksum(   Dist_D[i,j]*d_t_MIP[j][i] for i in d_t_MIP[j])    for j in District_List) + \\\n",
    "        quicksum(   quicksum(   Dist_A[i,k]*a_t_MIP[k][i] for i in a_t_MIP[k])    for k in Appeals_List), GRB.MINIMIZE)\n",
    "MIP.update()"
   ]
  },
  {
   "cell_type": "markdown",
   "metadata": {
    "collapsed": true
   },
   "source": [
    "### Optimize"
   ]
  },
  {
   "cell_type": "code",
   "execution_count": 45,
   "metadata": {
    "collapsed": true
   },
   "outputs": [],
   "source": [
    "#While IP not solved\n",
    "    #While violated LP constraints\n",
    "        #Optimize LP\n",
    "        #If violated constraints\n",
    "            #Add constraints to LP model\n",
    "            #repeat\n",
    "    #Optimize IP\n",
    "    #If violated constraints\n",
    "        #Add constraints to MIP model\n",
    "        #Add constraints to LP model\n",
    "        #repeat"
   ]
  },
  {
   "cell_type": "code",
   "execution_count": null,
   "metadata": {
    "collapsed": true
   },
   "outputs": [],
   "source": [
    "# NEW LINKING CONSTRAINT???\n",
    "\n",
    "# d+c-a <=1"
   ]
  },
  {
   "cell_type": "code",
   "execution_count": 46,
   "metadata": {
    "collapsed": false
   },
   "outputs": [
    {
     "name": "stdout",
     "output_type": "stream",
     "text": [
      "LP Optimize\n",
      "LP Optimize\n",
      "LP Optimize\n",
      "LP Optimize\n",
      "LP Optimize\n",
      "LP Optimize\n",
      "LP Optimize\n",
      "LP Optimize\n",
      "LP Optimize\n",
      "LP Optimize\n",
      "LP Optimize\n",
      "LP Optimize\n",
      "LP Optimize\n",
      "LP Optimize\n",
      "LP Optimize\n",
      "LP Optimize\n",
      "LP Optimize\n",
      "LP Optimize\n",
      "LP Optimize\n",
      "LP Optimize\n",
      "LP Optimize\n",
      "LP Optimize\n",
      "LP Optimize\n",
      "LP Optimize\n",
      "LP Optimize\n",
      "LP Optimize\n",
      "LP Optimize\n",
      "LP Optimize\n",
      "LP Optimize\n",
      "LP Optimize\n",
      "LP Optimize\n",
      "LP Optimize\n",
      "LP Optimize\n",
      "LP Optimize\n",
      "LP Optimize\n",
      "LP Optimize\n",
      "LP Optimize\n",
      "LP Optimize\n",
      "LP Optimize\n",
      "LP Optimize\n",
      "LP Optimize\n",
      "LP Optimize\n",
      "LP Optimize\n",
      "LP Optimize\n",
      "LP Optimize\n",
      "LP Optimize\n",
      "LP Optimize\n",
      "LP Optimize\n",
      "LP Optimize\n",
      "LP Optimize\n",
      "LP Optimize\n",
      "LP Optimize\n",
      "LP Optimize\n",
      "LP Optimize\n",
      "LP Optimize\n",
      "LP Optimize\n",
      "LP Optimize\n",
      "LP Optimize\n",
      "LP Optimize\n"
     ]
    },
    {
     "ename": "KeyboardInterrupt",
     "evalue": "",
     "output_type": "error",
     "traceback": [
      "\u001b[0;31m---------------------------------------------------------------------------\u001b[0m",
      "\u001b[0;31mKeyboardInterrupt\u001b[0m                         Traceback (most recent call last)",
      "\u001b[0;32m<ipython-input-46-81e2509c4f5f>\u001b[0m in \u001b[0;36m<module>\u001b[0;34m()\u001b[0m\n\u001b[1;32m     16\u001b[0m                     \u001b[0md_val\u001b[0m \u001b[1;33m=\u001b[0m \u001b[0mVarVal\u001b[0m\u001b[1;33m(\u001b[0m\u001b[0md_LP\u001b[0m\u001b[1;33m[\u001b[0m\u001b[0mi\u001b[0m\u001b[1;33m]\u001b[0m\u001b[1;33m[\u001b[0m\u001b[0mj\u001b[0m\u001b[1;33m]\u001b[0m\u001b[1;33m)\u001b[0m\u001b[1;33m\u001b[0m\u001b[0m\n\u001b[1;32m     17\u001b[0m                     \u001b[0ma_val\u001b[0m \u001b[1;33m=\u001b[0m \u001b[0mVarVal\u001b[0m\u001b[1;33m(\u001b[0m\u001b[0ma_LP\u001b[0m\u001b[1;33m[\u001b[0m\u001b[0mi\u001b[0m\u001b[1;33m]\u001b[0m\u001b[1;33m[\u001b[0m\u001b[0mk\u001b[0m\u001b[1;33m]\u001b[0m\u001b[1;33m)\u001b[0m\u001b[1;33m\u001b[0m\u001b[0m\n\u001b[0;32m---> 18\u001b[0;31m                     \u001b[0mc_val\u001b[0m \u001b[1;33m=\u001b[0m \u001b[0mVarVal\u001b[0m\u001b[1;33m(\u001b[0m\u001b[0mc_LP\u001b[0m\u001b[1;33m[\u001b[0m\u001b[0mj\u001b[0m\u001b[1;33m]\u001b[0m\u001b[1;33m[\u001b[0m\u001b[0mk\u001b[0m\u001b[1;33m]\u001b[0m\u001b[1;33m)\u001b[0m\u001b[1;33m\u001b[0m\u001b[0m\n\u001b[0m\u001b[1;32m     19\u001b[0m \u001b[1;33m\u001b[0m\u001b[0m\n\u001b[1;32m     20\u001b[0m                     \u001b[1;31m#Add constraints if violated\u001b[0m\u001b[1;33m\u001b[0m\u001b[1;33m\u001b[0m\u001b[0m\n",
      "\u001b[0;31mKeyboardInterrupt\u001b[0m: "
     ]
    }
   ],
   "source": [
    "violated_LP = 1\n",
    "violated_MIP = 1\n",
    "\n",
    "while violated_MIP > 0:\n",
    "    while violated_LP > 0:\n",
    "        \n",
    "        print(\"LP Optimize\")\n",
    "        LP.optimize()\n",
    "        \n",
    "        violated_LP = 0\n",
    "        #Check for violated constraints\n",
    "        for i in Settlement_List:\n",
    "            for j in District_List:\n",
    "                for k in Appeals_List:\n",
    "                    #Assign vars based on 0 or gurobi.Var               \n",
    "                    d_val = VarVal(d_LP[i][j])\n",
    "                    a_val = VarVal(a_LP[i][k])\n",
    "                    c_val = VarVal(c_LP[j][k])\n",
    "                \n",
    "                    #Add constraints if violated\n",
    "                    if (d_val + a_val - c_val > 1):\n",
    "                        violated_LP = violated_LP + 1\n",
    "                        LP.addConstr(d_LP[i][j] + a_LP[i][k] - c_LP[j][k] <= 1)\n",
    "                        MIP.addConstr(d_MIP[i][j] + a_MIP[i][k] - c_MIP[j][k] <= 1)\n",
    "        LP.update()\n",
    "        \n",
    "    print(\"MIP Optimize\")\n",
    "    MIP.optimize()\n",
    "    \n",
    "    violated_MIP = 0\n",
    "    #Check for violated constraints\n",
    "    for i in Settlement_List:\n",
    "        for j in District_List:\n",
    "            for k in Appeals_List:\n",
    "                #Assign vars based on 0 or gurobi.Var               \n",
    "                d_val = VarVal(d_MIP[i][j])\n",
    "                a_val = VarVal(a_MIP[i][k])\n",
    "                c_val = VarVal(c_MIP[j][k])\n",
    "                \n",
    "                #Add constraints if violated\n",
    "                if (d_val + a_val - c_val > 1):\n",
    "                    violated_MIP = violated_MIP + 1\n",
    "                    LP.addConstr(d_LP[i][j] + a_LP[i][k] - c_LP[j][k] <= 1)\n",
    "                    MIP.addConstr(d_MIP[i][j] + a_MIP[i][k] - c_MIP[j][k] <= 1)\n",
    "    MIP.update()"
   ]
  },
  {
   "cell_type": "markdown",
   "metadata": {
    "collapsed": true
   },
   "source": [
    "### Output Solution"
   ]
  },
  {
   "cell_type": "code",
   "execution_count": null,
   "metadata": {
    "collapsed": false
   },
   "outputs": [],
   "source": [
    "LP.write(\"out_LP.sol\")\n",
    "MIP.write(\"out_MIP.sol\")"
   ]
  },
  {
   "cell_type": "markdown",
   "metadata": {},
   "source": [
    "###  Plotting"
   ]
  },
  {
   "cell_type": "markdown",
   "metadata": {},
   "source": [
    "#### DOUT"
   ]
  },
  {
   "cell_type": "code",
   "execution_count": null,
   "metadata": {
    "collapsed": false
   },
   "outputs": [],
   "source": [
    "# DOUT - District Assignments\n",
    "\n",
    "DOUT = pd.DataFrame.from_dict({(i,j): VarVal(d[i][j]) \n",
    "                           for i in d.keys() \n",
    "                           for j in d[i].keys()},\n",
    "                           orient='index')\n",
    "\n",
    "Settlements_DOUT = [i[0] for i in DOUT.index]\n",
    "Districts_DOUT = [i[1] for i in DOUT.index]\n",
    "\n",
    "DOUT['Settlement'] = Settlements_DOUT\n",
    "DOUT['DistrictCourts'] = Districts_DOUT\n",
    "\n",
    "DOUT = DOUT[DOUT[0] == 1.0]"
   ]
  },
  {
   "cell_type": "markdown",
   "metadata": {},
   "source": [
    "#### AOUT"
   ]
  },
  {
   "cell_type": "code",
   "execution_count": null,
   "metadata": {
    "collapsed": false
   },
   "outputs": [],
   "source": [
    "#AOUT - Appeals Assignments\n",
    "\n",
    "AOUT = pd.DataFrame.from_dict({(i,j): VarVal(a[i][j]) \n",
    "                           for i in a.keys() \n",
    "                           for j in a[i].keys()},\n",
    "                           orient='index')\n",
    "\n",
    "Settlements_AOUT = [i[0] for i in AOUT.index]\n",
    "Appeals_AOUT = [i[1] for i in AOUT.index]\n",
    "\n",
    "AOUT['Settlement'] = Settlements_AOUT\n",
    "AOUT['AppealsCourts'] = Appeals_AOUT\n",
    "\n",
    "AOUT = AOUT[AOUT[0] == 1.0]"
   ]
  },
  {
   "cell_type": "markdown",
   "metadata": {},
   "source": [
    "#### COUT"
   ]
  },
  {
   "cell_type": "code",
   "execution_count": null,
   "metadata": {
    "collapsed": false
   },
   "outputs": [],
   "source": [
    "#COUT - Appeals Assignments\n",
    "\n",
    "COUT = pd.DataFrame.from_dict({(i,j): VarVal(c[i][j]) \n",
    "                           for i in c.keys() \n",
    "                           for j in c[i].keys()},\n",
    "                           orient='index')\n",
    "\n",
    "Districts_COUT = [i[0] for i in COUT.index]\n",
    "Appeals_COUT = [i[1] for i in COUT.index]\n",
    "\n",
    "COUT['DistrictCourts'] = Districts_COUT\n",
    "COUT['AppealsCourts'] = Appeals_COUT\n",
    "\n",
    "COUT = COUT[COUT[0] == 1.0]"
   ]
  },
  {
   "cell_type": "markdown",
   "metadata": {},
   "source": [
    "#### Plot all Locations"
   ]
  },
  {
   "cell_type": "code",
   "execution_count": null,
   "metadata": {
    "collapsed": false
   },
   "outputs": [],
   "source": [
    "plt.scatter(Settlements['LON_X'],Settlements['LAT_Y'])\n",
    "plt.scatter(Districts['LON_X'],Districts['LAT_Y'], color='Red', marker = 's')\n",
    "plt.scatter(Appeals['LON_X'],Appeals['LAT_Y'], color='Green', marker = '^')\n",
    "plt.show()"
   ]
  },
  {
   "cell_type": "markdown",
   "metadata": {},
   "source": [
    "#### Plotting Assignments"
   ]
  },
  {
   "cell_type": "code",
   "execution_count": null,
   "metadata": {
    "collapsed": false,
    "scrolled": false
   },
   "outputs": [],
   "source": [
    "#Drawing Lines\n",
    "plt.figure(figsize=(14,14))\n",
    "\n",
    "#Plotting Points    \n",
    "plt.scatter(Settlements['LON_X'],Settlements['LAT_Y'])\n",
    "plt.scatter(Districts['LON_X'],Districts['LAT_Y'], color='Red', marker = 's',s=25)\n",
    "plt.scatter(Appeals['LON_X'],Appeals['LAT_Y'], color='Green', marker = '^',s = 400)\n",
    "\n",
    "for index,row in DOUT.iterrows():\n",
    "    s = row['Settlement'] \n",
    "    d = row['DistrictCourts']\n",
    "    #Get District number that Settlement is linked to\n",
    "    Dist = Districts.loc[Districts['DIST_CODE'] == d]\n",
    "    Sett = Settlements.loc[Settlements['OBJECTID'] == s]\n",
    "    X = [Sett.iloc[0,2],Dist.iloc[0,1]]\n",
    "    Y = [Sett.iloc[0,1],Dist.iloc[0,2]]\n",
    "    plt.scatter(Dist.iloc[0,1],Dist.iloc[0,2], color='Orange', marker = 's',s = 100)\n",
    "    plt.plot(X,Y,zorder=1, color=\"Black\")\n",
    "\n",
    "\n",
    "\n",
    "#axes = plt.gca()\n",
    "#axes.set_xlim([68.2,70])\n",
    "#axes.set_ylim([34,35.5])\n",
    "\n",
    "plt.show()"
   ]
  },
  {
   "cell_type": "code",
   "execution_count": null,
   "metadata": {
    "collapsed": false
   },
   "outputs": [],
   "source": [
    "#Draw Lines\n",
    "plt.figure(figsize=(14,14))\n",
    "\n",
    "for index,row in COUT.iterrows():\n",
    "    d = row['DistrictCourts'] \n",
    "    a = row['AppealsCourts']\n",
    "\n",
    "    Dist = Districts.loc[Districts['DIST_CODE'] == d]\n",
    "    App = Appeals.loc[Appeals['PROV_CODE'] == a]\n",
    "\n",
    "    X = [Dist.iloc[0,1],App.iloc[0,1]]\n",
    "    Y = [Dist.iloc[0,2],App.iloc[0,2]]\n",
    "\n",
    "    plt.plot(X,Y,zorder=1, color=\"Black\")\n",
    "    \n",
    "clr = cm.rainbow(np.linspace(0, 1, D))\n",
    "for a in range(A):\n",
    "    X = Appeals.iloc[a,1]\n",
    "    Y = Appeals.iloc[a,2]\n",
    "    plt.scatter(X,Y, color=\"Green\", marker = '^')\n",
    "    \n",
    "for index,row in DOUT.iterrows():   \n",
    "    d = row['DistrictCourts'] \n",
    "    Dist = Districts.loc[Districts['DIST_CODE'] == d]\n",
    "    X = Dist.iloc[0,1]\n",
    "    Y = Dist.iloc[0,2]\n",
    "    c = Dist.index[0]\n",
    "    plt.scatter(X,Y, color=clr[c], marker = 's')\n",
    "    \n",
    "for index,row in DOUT.iterrows():\n",
    "    s = row['Settlement'] \n",
    "    d = row['DistrictCourts']\n",
    "    #Get District number that Settlement is linked to\n",
    "    Dist = Districts.loc[Districts['DIST_CODE'] == d]\n",
    "    Sett = Settlements.loc[Settlements['OBJECTID'] == s]\n",
    "\n",
    "    c = Dist.index[0]\n",
    "    X = Sett.iloc[0,2]                                                     \n",
    "    Y = Sett.iloc[0,1]\n",
    "    plt.scatter(X,Y, color=clr[c])\n",
    "          \n",
    "#axes = plt.gca()\n",
    "#axes.set_xlim([68.2,70])\n",
    "#axes.set_ylim([34,35.5])\n",
    "\n",
    "sf = shp.Reader(\"Afghanistan_Districts\",\"rb\")\n",
    "for shape in sf.shapeRecords():\n",
    "    x = [i[0] for i in shape.shape.points[:]]\n",
    "    y = [i[1] for i in shape.shape.points[:]]\n",
    "    plt.plot(x,y,color='k',linewidth=0.1)\n",
    "plt.show()"
   ]
  },
  {
   "cell_type": "code",
   "execution_count": null,
   "metadata": {
    "collapsed": true
   },
   "outputs": [],
   "source": []
  }
 ],
 "metadata": {
  "anaconda-cloud": {},
  "kernelspec": {
   "display_name": "Python [default]",
   "language": "python",
   "name": "python3"
  },
  "language_info": {
   "codemirror_mode": {
    "name": "ipython",
    "version": 3
   },
   "file_extension": ".py",
   "mimetype": "text/x-python",
   "name": "python",
   "nbconvert_exporter": "python",
   "pygments_lexer": "ipython3",
   "version": "3.5.2"
  }
 },
 "nbformat": 4,
 "nbformat_minor": 1
}
