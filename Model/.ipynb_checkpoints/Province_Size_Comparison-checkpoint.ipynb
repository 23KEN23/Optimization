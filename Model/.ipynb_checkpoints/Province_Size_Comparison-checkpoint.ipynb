{
 "cells": [
  {
   "cell_type": "markdown",
   "metadata": {},
   "source": [
    "# Province Size Comparison"
   ]
  },
  {
   "cell_type": "markdown",
   "metadata": {},
   "source": [
    "##### Use this to calculate the number of settlements in a province and compare it to full dataset"
   ]
  },
  {
   "cell_type": "code",
   "execution_count": 1,
   "metadata": {
    "collapsed": true
   },
   "outputs": [],
   "source": [
    "from gurobipy import *\n",
    "import time\n",
    "import numpy as np\n",
    "import pandas as pd\n",
    "import matplotlib.pyplot as plt\n",
    "import matplotlib.cm as cm\n",
    "import shapefile as shp\n",
    "from collections import defaultdict"
   ]
  },
  {
   "cell_type": "markdown",
   "metadata": {},
   "source": [
    "### Full Dataset"
   ]
  },
  {
   "cell_type": "code",
   "execution_count": 5,
   "metadata": {
    "collapsed": false
   },
   "outputs": [],
   "source": [
    "#Get Settlement List\n",
    "Sfile = \"afg_ppl_settlement_pnt\" #change to use different settlement files (updates console and solution log files)\n",
    "Full=pd.read_csv(\"%s.csv\"%Sfile,sep=\",\")\n",
    "\n",
    "Total = Full.shape[0]"
   ]
  },
  {
   "cell_type": "code",
   "execution_count": 6,
   "metadata": {
    "collapsed": false
   },
   "outputs": [
    {
     "data": {
      "text/plain": [
       "45017"
      ]
     },
     "execution_count": 6,
     "metadata": {},
     "output_type": "execute_result"
    }
   ],
   "source": [
    "Total"
   ]
  },
  {
   "cell_type": "markdown",
   "metadata": {},
   "source": [
    "### Provinces"
   ]
  },
  {
   "cell_type": "code",
   "execution_count": 9,
   "metadata": {
    "collapsed": false
   },
   "outputs": [
    {
     "name": "stdout",
     "output_type": "stream",
     "text": [
      "Province 0 1 2.2213830330763933e-05\n",
      "Province 1 1018 0.022613679276717685\n",
      "Province 2 631 0.014016926938712043\n",
      "Province 3 1021 0.022680320767709976\n",
      "Province 4 2131 0.047337672434857946\n",
      "Province 5 772 0.01714907701534976\n",
      "Province 6 1537 0.034142657218384165\n",
      "Province 7 671 0.0149054801519426\n",
      "Province 8 324 0.007197281027167515\n",
      "Province 9 1530 0.03398716040606882\n",
      "Province 10 1882 0.041806428682497725\n",
      "Province 11 3412 0.07579358908856654\n",
      "Province 12 849 0.01885954195081858\n",
      "Province 13 1047 0.023257880356309837\n",
      "Province 14 270 0.005997734189306262\n",
      "Province 15 2208 0.04904813737032677\n",
      "Province 16 1261 0.02801164004709332\n",
      "Province 17 872 0.01937046004842615\n",
      "Province 18 1263 0.02805606770775485\n",
      "Province 19 731 0.016238309971788434\n",
      "Province 20 923 0.02050336539529511\n",
      "Province 21 2283 0.05071417464513406\n",
      "Province 22 2148 0.04771530755048093\n",
      "Province 23 716 0.015905102516826978\n",
      "Province 24 1649 0.036630606215429726\n",
      "Province 25 1495 0.03320967634449208\n",
      "Province 26 1026 0.022791389919363796\n",
      "Province 27 527 0.011706688584312593\n",
      "Province 28 1081 0.024013150587555813\n",
      "Province 29 1098 0.024390785703178798\n",
      "Province 30 2482 0.05513472688095608\n",
      "Province 31 1266 0.02812270919874714\n",
      "Province 32 2051 0.04556056600839683\n",
      "Province 33 2274 0.05051425017215719\n",
      "Province 34 567 0.01259524179754315\n"
     ]
    }
   ],
   "source": [
    "for i in range(35):\n",
    "    filename = \"prov_code_%s\"%i\n",
    "    d = pd.read_csv(\"%s.csv\"%filename,sep=\",\")\n",
    "    settlements = d.shape[0]\n",
    "    print(\"Province %s\"%i,settlements,round((settlements/Total),2))"
   ]
  },
  {
   "cell_type": "code",
   "execution_count": 13,
   "metadata": {
    "collapsed": false
   },
   "outputs": [
    {
     "data": {
      "text/plain": [
       "0.0126"
      ]
     },
     "execution_count": 13,
     "metadata": {},
     "output_type": "execute_result"
    }
   ],
   "source": [
    "round(0.01259524179754315,4)"
   ]
  },
  {
   "cell_type": "code",
   "execution_count": null,
   "metadata": {
    "collapsed": true
   },
   "outputs": [],
   "source": []
  }
 ],
 "metadata": {
  "anaconda-cloud": {},
  "kernelspec": {
   "display_name": "Python [default]",
   "language": "python",
   "name": "python3"
  },
  "language_info": {
   "codemirror_mode": {
    "name": "ipython",
    "version": 3
   },
   "file_extension": ".py",
   "mimetype": "text/x-python",
   "name": "python",
   "nbconvert_exporter": "python",
   "pygments_lexer": "ipython3",
   "version": "3.5.2"
  }
 },
 "nbformat": 4,
 "nbformat_minor": 1
}
