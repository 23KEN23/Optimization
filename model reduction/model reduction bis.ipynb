{
 "cells": [
  {
   "cell_type": "code",
   "execution_count": 1,
   "metadata": {
    "collapsed": true
   },
   "outputs": [],
   "source": [
    "import numpy as np\n",
    "import pandas as pd\n",
    "import matplotlib.pyplot as plt\n",
    "%matplotlib inline"
   ]
  },
  {
   "cell_type": "code",
   "execution_count": 2,
   "metadata": {
    "collapsed": true
   },
   "outputs": [],
   "source": [
    "data = pd.read_csv(\"afg.csv\",sep=\";\")"
   ]
  },
  {
   "cell_type": "code",
   "execution_count": 3,
   "metadata": {
    "collapsed": true
   },
   "outputs": [
    {
     "data": {
      "text/html": [
       "<div>\n",
       "<table border=\"1\" class=\"dataframe\">\n",
       "  <thead>\n",
       "    <tr style=\"text-align: right;\">\n",
       "      <th></th>\n",
       "      <th>OBJECTID</th>\n",
       "      <th>SOURCE</th>\n",
       "      <th>VIL_UID</th>\n",
       "      <th>CENTER</th>\n",
       "      <th>CNTR_CODE</th>\n",
       "      <th>AFG_UID</th>\n",
       "      <th>POPULATION</th>\n",
       "      <th>LANGUAGE_</th>\n",
       "      <th>LANG_CODE</th>\n",
       "      <th>ELEVATION</th>\n",
       "      <th>...</th>\n",
       "      <th>LON_X</th>\n",
       "      <th>MISTI_PROV</th>\n",
       "      <th>MISTI_DIST</th>\n",
       "      <th>VILLAGE_NA</th>\n",
       "      <th>DIST_CODE</th>\n",
       "      <th>DIST_NA_EN</th>\n",
       "      <th>DIST_NA_DA</th>\n",
       "      <th>PROV_NA_EN</th>\n",
       "      <th>PROV_NA_DA</th>\n",
       "      <th>PROV_CODE</th>\n",
       "    </tr>\n",
       "  </thead>\n",
       "  <tbody>\n",
       "    <tr>\n",
       "      <th>0</th>\n",
       "      <td>1</td>\n",
       "      <td>CSO AIMS Villages (ACSOR)</td>\n",
       "      <td>QLT-113</td>\n",
       "      <td>NaN</td>\n",
       "      <td>0</td>\n",
       "      <td>ZBL-QLT-113</td>\n",
       "      <td>0</td>\n",
       "      <td>Pashto</td>\n",
       "      <td>2</td>\n",
       "      <td>1716.072021</td>\n",
       "      <td>...</td>\n",
       "      <td>66.71265</td>\n",
       "      <td>ZBL</td>\n",
       "      <td>QLT</td>\n",
       "      <td>Enjergay</td>\n",
       "      <td>2401</td>\n",
       "      <td>Qalat</td>\n",
       "      <td>????</td>\n",
       "      <td>Zabul</td>\n",
       "      <td>????</td>\n",
       "      <td>24</td>\n",
       "    </tr>\n",
       "    <tr>\n",
       "      <th>1</th>\n",
       "      <td>2</td>\n",
       "      <td>USAID AIDVillageView</td>\n",
       "      <td>MZI-016</td>\n",
       "      <td>NaN</td>\n",
       "      <td>0</td>\n",
       "      <td>KST-MZI-016</td>\n",
       "      <td>0</td>\n",
       "      <td>Pashto</td>\n",
       "      <td>2</td>\n",
       "      <td>1339.345947</td>\n",
       "      <td>...</td>\n",
       "      <td>69.74210</td>\n",
       "      <td>KST</td>\n",
       "      <td>MZI</td>\n",
       "      <td>Nekbal</td>\n",
       "      <td>2605</td>\n",
       "      <td>Mandozayi</td>\n",
       "      <td>????????</td>\n",
       "      <td>Khost</td>\n",
       "      <td>????</td>\n",
       "      <td>26</td>\n",
       "    </tr>\n",
       "    <tr>\n",
       "      <th>2</th>\n",
       "      <td>3</td>\n",
       "      <td>USAID AIDVillageView</td>\n",
       "      <td>MZI-005</td>\n",
       "      <td>NaN</td>\n",
       "      <td>0</td>\n",
       "      <td>KST-MZI-005</td>\n",
       "      <td>0</td>\n",
       "      <td>Pashto</td>\n",
       "      <td>2</td>\n",
       "      <td>1314.277954</td>\n",
       "      <td>...</td>\n",
       "      <td>69.77490</td>\n",
       "      <td>KST</td>\n",
       "      <td>MZI</td>\n",
       "      <td>Bar Khankhel</td>\n",
       "      <td>2605</td>\n",
       "      <td>Mandozayi</td>\n",
       "      <td>????????</td>\n",
       "      <td>Khost</td>\n",
       "      <td>????</td>\n",
       "      <td>26</td>\n",
       "    </tr>\n",
       "  </tbody>\n",
       "</table>\n",
       "<p>3 rows × 21 columns</p>\n",
       "</div>"
      ],
      "text/plain": [
       "   OBJECTID                     SOURCE  VIL_UID CENTER  CNTR_CODE  \\\n",
       "0         1  CSO AIMS Villages (ACSOR)  QLT-113    NaN          0   \n",
       "1         2       USAID AIDVillageView  MZI-016    NaN          0   \n",
       "2         3       USAID AIDVillageView  MZI-005    NaN          0   \n",
       "\n",
       "       AFG_UID  POPULATION LANGUAGE_  LANG_CODE    ELEVATION    ...     \\\n",
       "0  ZBL-QLT-113           0    Pashto          2  1716.072021    ...      \n",
       "1  KST-MZI-016           0    Pashto          2  1339.345947    ...      \n",
       "2  KST-MZI-005           0    Pashto          2  1314.277954    ...      \n",
       "\n",
       "      LON_X  MISTI_PROV MISTI_DIST    VILLAGE_NA DIST_CODE  DIST_NA_EN  \\\n",
       "0  66.71265         ZBL        QLT      Enjergay      2401       Qalat   \n",
       "1  69.74210         KST        MZI        Nekbal      2605   Mandozayi   \n",
       "2  69.77490         KST        MZI  Bar Khankhel      2605   Mandozayi   \n",
       "\n",
       "  DIST_NA_DA PROV_NA_EN PROV_NA_DA PROV_CODE  \n",
       "0       ????      Zabul       ????        24  \n",
       "1   ????????      Khost       ????        26  \n",
       "2   ????????      Khost       ????        26  \n",
       "\n",
       "[3 rows x 21 columns]"
      ]
     },
     "execution_count": 3,
     "metadata": {},
     "output_type": "execute_result"
    }
   ],
   "source": [
    "data.head(3) # just to make sure the data set was well imported"
   ]
  },
  {
   "cell_type": "markdown",
   "metadata": {},
   "source": [
    "# adding colums to the dataset"
   ]
  },
  {
   "cell_type": "code",
   "execution_count": 4,
   "metadata": {
    "collapsed": true
   },
   "outputs": [],
   "source": [
    "def f(data):\n",
    "    if data['POPULATION']>1000000:\n",
    "        val = data['POPULATION']/1000\n",
    "    elif data['POPULATION'] > 100000:\n",
    "        val = data['POPULATION']/700\n",
    "    elif data['POPULATION'] > 10000:\n",
    "        val = data['POPULATION']/300\n",
    "    elif data['POPULATION'] > 1000:\n",
    "        val = data['POPULATION']/80\n",
    "    elif data['POPULATION'] > 100:\n",
    "        val = data['POPULATION']/90\n",
    "    elif data['POPULATION'] > 10:\n",
    "        val = data['POPULATION']/9.99\n",
    "    else:\n",
    "        val = 1\n",
    "    return val\n",
    "\n",
    "data[\"weight_pop\"]=data.apply(f, axis=1)"
   ]
  },
  {
   "cell_type": "code",
   "execution_count": 5,
   "metadata": {
    "collapsed": true
   },
   "outputs": [],
   "source": [
    "def g(data):\n",
    "    if data['POPULATION']>1000000:\n",
    "        val = \"#b8860b\"\n",
    "    elif data['POPULATION'] > 100000:\n",
    "        val = \"#ffd700\"\n",
    "    elif data['POPULATION'] > 10000:\n",
    "        val = \"#eedd82\"\n",
    "    elif data['POPULATION'] > 1000:\n",
    "        val = \"#eee8aa\"\n",
    "    elif data['POPULATION'] > 100:\n",
    "        val = \"#ffffe0\"\n",
    "    elif data['POPULATION'] > 10:\n",
    "        val = \"#ffffe0\"\n",
    "    else:\n",
    "        val = \"green\"\n",
    "    return val\n",
    "\n",
    "data[\"weight_pop_col\"]=data.apply(g, axis=1)"
   ]
  },
  {
   "cell_type": "code",
   "execution_count": 6,
   "metadata": {
    "collapsed": true
   },
   "outputs": [],
   "source": [
    "data[\"weight_long\"]=data.LON_X*data.POPULATION\n",
    "data[\"weight_lat\"]=data.LAT_Y*data.POPULATION"
   ]
  },
  {
   "cell_type": "code",
   "execution_count": 7,
   "metadata": {
    "collapsed": true
   },
   "outputs": [],
   "source": [
    "groups=data.groupby([\"PROV_CODE\"])\n",
    "region=pd.DataFrame(columns=['PROV_CODE','POP','LANG_CODE','LON_X','LAT_Y','weight_long','weight_lat'])\n",
    "i=0\n",
    "for key,df in groups:\n",
    "    region.loc[i]=[key,df['POPULATION'].sum(),df[\"LANG_CODE\"].value_counts().idxmax(),df[\"LON_X\"].mean(),df['LAT_Y'].mean(),\n",
    "                  df['weight_long'].sum()/df['POPULATION'].sum(),df['weight_lat'].sum()/df['POPULATION'].sum()]\n",
    "    i=i+1"
   ]
  },
  {
   "cell_type": "code",
   "execution_count": 8,
   "metadata": {
    "collapsed": true
   },
   "outputs": [],
   "source": [
    "groups=data.groupby([\"DIST_CODE\"])\n",
    "district=pd.DataFrame(columns=['DIST_CODE','POP',\"Number_centroids\",\"PEOPLE_per_centroids\",'LANG_CODE','LON_X','LAT_Y','weight_long','weight_lat'])\n",
    "i=0\n",
    "for key,df in groups:\n",
    "    district.loc[i]=[key,df['POPULATION'].sum(),df['DIST_CODE'].count(),df['POPULATION'].sum()/df[\"DIST_CODE\"].count(),df[\"LANG_CODE\"].value_counts().idxmax(),df[\"LON_X\"].mean(),df['LAT_Y'].mean(),\n",
    "                  df['weight_long'].sum()/(df['POPULATION'].sum()+1),df['weight_lat'].sum()/(df['POPULATION'].sum()+1)]\n",
    "    i=i+1"
   ]
  },
  {
   "cell_type": "code",
   "execution_count": 9,
   "metadata": {
    "collapsed": true
   },
   "outputs": [],
   "source": [
    "def find_city(longitude, latitude, big_town):\n",
    "    closest = 0\n",
    "    centroid = big_town[[\"LON_X\",\"LAT_Y\"]].iloc[0]\n",
    "    min_dis = (longitude - centroid[0])**2 + (latitude - centroid[1])**2 \n",
    "    for i in range(1, big_town[[\"LON_X\",\"LAT_Y\"]].shape[0]):\n",
    "        dis = (longitude - big_town[[\"LON_X\",\"LAT_Y\"]].iloc[i][0])**2 + (latitude - big_town[[\"LON_X\",\"LAT_Y\"]].iloc[i][1])**2 \n",
    "        if dis < min_dis:\n",
    "            min_dis = dis\n",
    "            closest = i\n",
    "            centroid = big_town[[\"LON_X\",\"LAT_Y\"]].iloc[i]\n",
    "    return big_town[\"OBJECTID\"].iloc[closest], centroid"
   ]
  },
  {
   "cell_type": "code",
   "execution_count": 10,
   "metadata": {
    "collapsed": true
   },
   "outputs": [],
   "source": [
    "groups=data.groupby([\"DIST_CODE\"])\n",
    "district=pd.DataFrame(columns=['DIST_CODE','POP',\"Number_centroids\",\"PEOPLE_per_centroids\",'LANG_CODE','LON_X','LAT_Y','weight_long','weight_lat'])\n",
    "i=0\n",
    "for key,df in groups:\n",
    "    district.loc[i]=[key,df['POPULATION'].sum(),df['DIST_CODE'].count(),df['POPULATION'].sum()/df[\"DIST_CODE\"].count(),df[\"LANG_CODE\"].value_counts().idxmax(),df[\"LON_X\"].mean(),df['LAT_Y'].mean(),\n",
    "                  df['weight_long'].sum()/(df['POPULATION'].sum()+1),df['weight_lat'].sum()/(df['POPULATION'].sum()+1)]\n",
    "    i=i+1"
   ]
  },
  {
   "cell_type": "code",
   "execution_count": 11,
   "metadata": {
    "collapsed": true
   },
   "outputs": [],
   "source": [
    "#the 399 districts\n",
    "list_dist=district[district[\"DIST_CODE\"]!=0][\"DIST_CODE\"].tolist()\n",
    "list_dist=set(list_dist)\n",
    "list_dist;"
   ]
  },
  {
   "cell_type": "markdown",
   "metadata": {},
   "source": [
    "# this is the part which is going to take a lot of time to complete the calculation"
   ]
  },
  {
   "cell_type": "code",
   "execution_count": 34,
   "metadata": {
    "collapsed": true
   },
   "outputs": [],
   "source": [
    "a=999 #all the settlement with less than 999 people are going to be merged with settlement from the same district \n",
    "#that have more than 1000 people. You can toy with these parameters if it takes to long (ie : a=50 and b=10000)\n",
    "b=1000"
   ]
  },
  {
   "cell_type": "code",
   "execution_count": 32,
   "metadata": {
    "collapsed": false
   },
   "outputs": [],
   "source": [
    "# Find out which small town is close to a given big town \n",
    "data_small=data[data[\"POPULATION\"]<a].sample(frac=1, replace=False);\n",
    "data_big=data[data[\"POPULATION\"]>b].sample(frac=1, replace=False);\n",
    "new_small_data=pd.DataFrame(columns=[\"OBJECTID\",\"which_big_town\"])\n",
    "\n",
    "k=0\n",
    "for j in list_dist:\n",
    "    length=data_small[data_small[\"DIST_CODE\"]==j].shape[0]\n",
    "    location_data = data_small[data_small[\"DIST_CODE\"]==j][[\"LON_X\",\"LAT_Y\"]].as_matrix()\n",
    "    #which_centroid = np.zeros(data_small[data_small[\"DIST_CODE\"]==j].shape[0])\n",
    "    if data_small[(data_small[\"DIST_CODE\"]==j)].shape[0]!=0 and data_big[(data_big[\"DIST_CODE\"]==j)].shape[0]!=0:\n",
    "        for i in range(0,length):\n",
    "            town, dummy = find_city(location_data[i][0], location_data[i][1], data_big[data_big[\"DIST_CODE\"]==j])\n",
    "            #new_small_data.loc[k]=[data_small[\"OBJECTID\"].iloc[i], town]\n",
    "            new_small_data.loc[k]=[data_small[data_small[\"DIST_CODE\"]==j][\"OBJECTID\"].iloc[i], town]\n",
    "            k=k+1\n",
    "            #which_centroid[i], dummy = find_city(location_data[i][0], location_data[i][1], data_big[data_big[\"DIST_CODE\"]==j][[\"LON_X\",\"LAT_Y\"]])\n",
    "        #new_small_data[new_small_data]['which_big_town'] = which_centroid    #which town is it linked to"
   ]
  },
  {
   "cell_type": "code",
   "execution_count": 33,
   "metadata": {
    "collapsed": false
   },
   "outputs": [
    {
     "name": "stdout",
     "output_type": "stream",
     "text": [
      "258 7528\n"
     ]
    }
   ],
   "source": [
    "#check the result\n",
    "print(new_small_data.shape[0],data_small.shape[0])\n"
   ]
  },
  {
   "cell_type": "code",
   "execution_count": 16,
   "metadata": {
    "collapsed": false
   },
   "outputs": [
    {
     "data": {
      "text/plain": [
       "258"
      ]
     },
     "execution_count": 16,
     "metadata": {},
     "output_type": "execute_result"
    }
   ],
   "source": [
    "new_data=pd.merge(new_small_data,data,on=\"OBJECTID\",how=\"left\")[[\"OBJECTID\",\"which_big_town\",\"POPULATION\",\"LANGUAGE_\",\"LANG_CODE\",\"LON_X\",\"LAT_Y\"]]\n",
    "new_data[\"weight_pop\"]=new_data.apply(f, axis=1)\n",
    "new_data[\"weight_pop_col\"]=new_data.apply(g, axis=1)\n",
    "new_data.shape[0]"
   ]
  },
  {
   "cell_type": "code",
   "execution_count": 17,
   "metadata": {
    "collapsed": false
   },
   "outputs": [
    {
     "data": {
      "text/html": [
       "<div>\n",
       "<table border=\"1\" class=\"dataframe\">\n",
       "  <thead>\n",
       "    <tr style=\"text-align: right;\">\n",
       "      <th></th>\n",
       "      <th>OBJECTID</th>\n",
       "      <th>which_big_town</th>\n",
       "      <th>POPULATION</th>\n",
       "      <th>LANGUAGE_</th>\n",
       "      <th>LANG_CODE</th>\n",
       "      <th>LON_X</th>\n",
       "      <th>LAT_Y</th>\n",
       "      <th>weight_pop</th>\n",
       "      <th>weight_pop_col</th>\n",
       "    </tr>\n",
       "  </thead>\n",
       "  <tbody>\n",
       "    <tr>\n",
       "      <th>0</th>\n",
       "      <td>37056.0</td>\n",
       "      <td>44832.0</td>\n",
       "      <td>0</td>\n",
       "      <td>Dari</td>\n",
       "      <td>1</td>\n",
       "      <td>69.0354</td>\n",
       "      <td>34.5011</td>\n",
       "      <td>1</td>\n",
       "      <td>green</td>\n",
       "    </tr>\n",
       "    <tr>\n",
       "      <th>1</th>\n",
       "      <td>44805.0</td>\n",
       "      <td>44832.0</td>\n",
       "      <td>0</td>\n",
       "      <td>Dari</td>\n",
       "      <td>1</td>\n",
       "      <td>69.0881</td>\n",
       "      <td>34.4843</td>\n",
       "      <td>1</td>\n",
       "      <td>green</td>\n",
       "    </tr>\n",
       "    <tr>\n",
       "      <th>2</th>\n",
       "      <td>44827.0</td>\n",
       "      <td>44832.0</td>\n",
       "      <td>0</td>\n",
       "      <td>Dari</td>\n",
       "      <td>1</td>\n",
       "      <td>69.1606</td>\n",
       "      <td>34.4920</td>\n",
       "      <td>1</td>\n",
       "      <td>green</td>\n",
       "    </tr>\n",
       "    <tr>\n",
       "      <th>3</th>\n",
       "      <td>44308.0</td>\n",
       "      <td>44832.0</td>\n",
       "      <td>0</td>\n",
       "      <td>Dari</td>\n",
       "      <td>1</td>\n",
       "      <td>69.1441</td>\n",
       "      <td>34.5379</td>\n",
       "      <td>1</td>\n",
       "      <td>green</td>\n",
       "    </tr>\n",
       "    <tr>\n",
       "      <th>4</th>\n",
       "      <td>44286.0</td>\n",
       "      <td>44832.0</td>\n",
       "      <td>0</td>\n",
       "      <td>Dari</td>\n",
       "      <td>1</td>\n",
       "      <td>69.0765</td>\n",
       "      <td>34.4729</td>\n",
       "      <td>1</td>\n",
       "      <td>green</td>\n",
       "    </tr>\n",
       "  </tbody>\n",
       "</table>\n",
       "</div>"
      ],
      "text/plain": [
       "   OBJECTID  which_big_town  POPULATION LANGUAGE_  LANG_CODE    LON_X  \\\n",
       "0   37056.0         44832.0           0      Dari          1  69.0354   \n",
       "1   44805.0         44832.0           0      Dari          1  69.0881   \n",
       "2   44827.0         44832.0           0      Dari          1  69.1606   \n",
       "3   44308.0         44832.0           0      Dari          1  69.1441   \n",
       "4   44286.0         44832.0           0      Dari          1  69.0765   \n",
       "\n",
       "     LAT_Y  weight_pop weight_pop_col  \n",
       "0  34.5011           1          green  \n",
       "1  34.4843           1          green  \n",
       "2  34.4920           1          green  \n",
       "3  34.5379           1          green  \n",
       "4  34.4729           1          green  "
      ]
     },
     "execution_count": 17,
     "metadata": {},
     "output_type": "execute_result"
    }
   ],
   "source": [
    "# just to make sure everything is good so far\n",
    "new_data.head(5)"
   ]
  },
  {
   "cell_type": "code",
   "execution_count": 18,
   "metadata": {
    "collapsed": true
   },
   "outputs": [],
   "source": [
    "new_data[\"isna\"]=new_data[\"which_big_town\"].apply(lambda x : pd.isnull(x))\n",
    "new_data[\"which_big_town\"].fillna(value=0,inplace=True)\n",
    "new_data[\"new_town\"]=new_data[\"isna\"]*new_data[\"OBJECTID\"]+new_data[\"which_big_town\"]"
   ]
  },
  {
   "cell_type": "code",
   "execution_count": 19,
   "metadata": {
    "collapsed": false
   },
   "outputs": [
    {
     "name": "stdout",
     "output_type": "stream",
     "text": [
      "258\n"
     ]
    }
   ],
   "source": [
    "print(len(new_data[\"POPULATION\"]))"
   ]
  },
  {
   "cell_type": "code",
   "execution_count": 20,
   "metadata": {
    "collapsed": true
   },
   "outputs": [],
   "source": [
    "# groupby which_big_town,\n",
    "# check the language spoken on this big town, add the population, keep the longitude, the latitude\n",
    "groups=new_data.groupby([\"which_big_town\"])\n",
    "bigtown=pd.DataFrame(columns=[\"which_big_town\",'POP','LANG_CODE','LON_X','LAT_Y'])\n",
    "i=0\n",
    "for key,df in groups:\n",
    "    bigtown.loc[i]=[key,df['POPULATION'].sum(),df[\"LANG_CODE\"].value_counts().idxmax(),df[\"LON_X\"].mean(),df['LAT_Y'].mean()]\n",
    "    i=i+1"
   ]
  },
  {
   "cell_type": "code",
   "execution_count": 21,
   "metadata": {
    "collapsed": false
   },
   "outputs": [
    {
     "data": {
      "text/html": [
       "<div>\n",
       "<table border=\"1\" class=\"dataframe\">\n",
       "  <thead>\n",
       "    <tr style=\"text-align: right;\">\n",
       "      <th></th>\n",
       "      <th>which_big_town</th>\n",
       "      <th>POP</th>\n",
       "      <th>LANG_CODE</th>\n",
       "      <th>LON_X</th>\n",
       "      <th>LAT_Y</th>\n",
       "    </tr>\n",
       "  </thead>\n",
       "  <tbody>\n",
       "    <tr>\n",
       "      <th>0</th>\n",
       "      <td>9181.0</td>\n",
       "      <td>8.0</td>\n",
       "      <td>2.0</td>\n",
       "      <td>65.704030</td>\n",
       "      <td>31.581593</td>\n",
       "    </tr>\n",
       "    <tr>\n",
       "      <th>1</th>\n",
       "      <td>27885.0</td>\n",
       "      <td>0.0</td>\n",
       "      <td>2.0</td>\n",
       "      <td>70.457550</td>\n",
       "      <td>34.415350</td>\n",
       "    </tr>\n",
       "    <tr>\n",
       "      <th>2</th>\n",
       "      <td>31463.0</td>\n",
       "      <td>6.0</td>\n",
       "      <td>1.0</td>\n",
       "      <td>68.870061</td>\n",
       "      <td>36.733148</td>\n",
       "    </tr>\n",
       "  </tbody>\n",
       "</table>\n",
       "</div>"
      ],
      "text/plain": [
       "   which_big_town  POP  LANG_CODE      LON_X      LAT_Y\n",
       "0          9181.0  8.0        2.0  65.704030  31.581593\n",
       "1         27885.0  0.0        2.0  70.457550  34.415350\n",
       "2         31463.0  6.0        1.0  68.870061  36.733148"
      ]
     },
     "execution_count": 21,
     "metadata": {},
     "output_type": "execute_result"
    }
   ],
   "source": [
    "# making sure everything is good\n",
    "bigtown.head(3)"
   ]
  },
  {
   "cell_type": "code",
   "execution_count": 22,
   "metadata": {
    "collapsed": true
   },
   "outputs": [],
   "source": [
    "data_big[\"which_big_town\"]=data_big[\"OBJECTID\"]"
   ]
  },
  {
   "cell_type": "code",
   "execution_count": 23,
   "metadata": {
    "collapsed": true
   },
   "outputs": [],
   "source": [
    "bigtown_merged=pd.merge(data_big,bigtown,on=\"which_big_town\",how=\"right\")[[\"OBJECTID\",\"which_big_town\",\"POPULATION\",\"POP\",\"LANGUAGE_\",\"LON_X_y\",\"LAT_Y_y\"]]#[[\"OBJECTID\",\"which_big_town\",\"POPULATION\",\"LANGUAGE_\",\"LANG_CODE\",\"LON_X\",\"LAT_Y\"]]"
   ]
  },
  {
   "cell_type": "code",
   "execution_count": 24,
   "metadata": {
    "collapsed": true
   },
   "outputs": [],
   "source": [
    "bigtown_merged[\"pop_total\"]=bigtown_merged[\"POPULATION\"]+bigtown_merged[\"POP\"]"
   ]
  },
  {
   "cell_type": "code",
   "execution_count": 25,
   "metadata": {
    "collapsed": false
   },
   "outputs": [
    {
     "data": {
      "text/html": [
       "<div>\n",
       "<table border=\"1\" class=\"dataframe\">\n",
       "  <thead>\n",
       "    <tr style=\"text-align: right;\">\n",
       "      <th></th>\n",
       "      <th>OBJECTID</th>\n",
       "      <th>which_big_town</th>\n",
       "      <th>POPULATION</th>\n",
       "      <th>POP</th>\n",
       "      <th>LANGUAGE_</th>\n",
       "      <th>LON_X_y</th>\n",
       "      <th>LAT_Y_y</th>\n",
       "      <th>pop_total</th>\n",
       "    </tr>\n",
       "  </thead>\n",
       "  <tbody>\n",
       "    <tr>\n",
       "      <th>0</th>\n",
       "      <td>44841</td>\n",
       "      <td>44841</td>\n",
       "      <td>300600</td>\n",
       "      <td>0.0</td>\n",
       "      <td>Hazaragi</td>\n",
       "      <td>67.10080</td>\n",
       "      <td>36.686500</td>\n",
       "      <td>300600.0</td>\n",
       "    </tr>\n",
       "    <tr>\n",
       "      <th>1</th>\n",
       "      <td>9181</td>\n",
       "      <td>9181</td>\n",
       "      <td>324800</td>\n",
       "      <td>8.0</td>\n",
       "      <td>Pashto</td>\n",
       "      <td>65.70403</td>\n",
       "      <td>31.581593</td>\n",
       "      <td>324808.0</td>\n",
       "    </tr>\n",
       "  </tbody>\n",
       "</table>\n",
       "</div>"
      ],
      "text/plain": [
       "   OBJECTID  which_big_town  POPULATION  POP LANGUAGE_   LON_X_y    LAT_Y_y  \\\n",
       "0     44841           44841      300600  0.0  Hazaragi  67.10080  36.686500   \n",
       "1      9181            9181      324800  8.0    Pashto  65.70403  31.581593   \n",
       "\n",
       "   pop_total  \n",
       "0   300600.0  \n",
       "1   324808.0  "
      ]
     },
     "execution_count": 25,
     "metadata": {},
     "output_type": "execute_result"
    }
   ],
   "source": [
    "# making sure it is good\n",
    "bigtown_merged.head(2)"
   ]
  },
  {
   "cell_type": "markdown",
   "metadata": {},
   "source": [
    "# tools to plot\n"
   ]
  },
  {
   "cell_type": "code",
   "execution_count": 26,
   "metadata": {
    "collapsed": true
   },
   "outputs": [],
   "source": [
    "def f(data):\n",
    "    if data['pop_total']>1000000:\n",
    "        val = data['pop_total']/1000\n",
    "    elif data['pop_total'] > 100000:\n",
    "        val = data['pop_total']/700\n",
    "    elif data['pop_total'] > 10000:\n",
    "        val = data['pop_total']/300\n",
    "    elif data['pop_total'] > 1000:\n",
    "        val = data['pop_total']/80\n",
    "    elif data['pop_total'] > 100:\n",
    "        val = data['pop_total']/90\n",
    "    elif data['pop_total'] > 10:\n",
    "        val = data['pop_total']/9.99\n",
    "    else:\n",
    "        val = 1\n",
    "    return val\n"
   ]
  },
  {
   "cell_type": "code",
   "execution_count": 27,
   "metadata": {
    "collapsed": true
   },
   "outputs": [],
   "source": [
    "def g(data):\n",
    "    if data['pop_total']>1000000:\n",
    "        val = \"#b8860b\"\n",
    "    elif data['pop_total'] > 100000:\n",
    "        val = \"#ffd700\"\n",
    "    elif data['pop_total'] > 10000:\n",
    "        val = \"#eedd82\"\n",
    "    elif data['pop_total'] > 1000:\n",
    "        val = \"#eee8aa\"\n",
    "    elif data['pop_total'] > 100:\n",
    "        val = \"#ffffe0\"\n",
    "    elif data['pop_total'] > 10:\n",
    "        val = \"#ffffe0\"\n",
    "    else:\n",
    "        val = \"green\"\n",
    "    return val"
   ]
  },
  {
   "cell_type": "code",
   "execution_count": 28,
   "metadata": {
    "collapsed": true
   },
   "outputs": [],
   "source": [
    "bigtown_merged[\"weight_pop\"]=bigtown_merged.apply(f, axis=1)"
   ]
  },
  {
   "cell_type": "code",
   "execution_count": 29,
   "metadata": {
    "collapsed": true
   },
   "outputs": [],
   "source": [
    "bigtown_merged[\"weight_pop_col\"]=bigtown_merged.apply(g, axis=1)"
   ]
  },
  {
   "cell_type": "code",
   "execution_count": null,
   "metadata": {
    "collapsed": true
   },
   "outputs": [],
   "source": []
  }
 ],
 "metadata": {
  "anaconda-cloud": {},
  "kernelspec": {
   "display_name": "Python [default]",
   "language": "python",
   "name": "python3"
  },
  "language_info": {
   "codemirror_mode": {
    "name": "ipython",
    "version": 3
   },
   "file_extension": ".py",
   "mimetype": "text/x-python",
   "name": "python",
   "nbconvert_exporter": "python",
   "pygments_lexer": "ipython3",
   "version": "3.5.2"
  }
 },
 "nbformat": 4,
 "nbformat_minor": 1
}
